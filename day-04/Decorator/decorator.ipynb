{
 "cells": [
  {
   "cell_type": "code",
   "execution_count": 14,
   "id": "1ac487a2-6c20-42dc-ad1b-3d639f1bc3a6",
   "metadata": {},
   "outputs": [
    {
     "name": "stdout",
     "output_type": "stream",
     "text": [
      "hello Deepak\n"
     ]
    }
   ],
   "source": [
    "def deco(func):\n",
    "    def wrapper(*args):\n",
    "        result=func(*args)\n",
    "        return result\n",
    "    return wrapper\n",
    "@deco\n",
    "def greet(name):\n",
    "    print(f\"hello {name}\")\n",
    "greet(\"Deepak\")\n",
    "\n"
   ]
  },
  {
   "cell_type": "code",
   "execution_count": 24,
   "id": "609bea72-8f48-4f9e-bea3-0c764aa8bf97",
   "metadata": {},
   "outputs": [
    {
     "name": "stdout",
     "output_type": "stream",
     "text": [
      "1759992217.4839926\n",
      "my name is sagar\n",
      "func name: my_func with args=('sagar',), kwargs={} take 5.86 seconds\n"
     ]
    }
   ],
   "source": [
    "import time\n",
    "\n",
    "def Timer(func):\n",
    "    def wrapper(*args,**kwargs):\n",
    "        start_time =  time.time()\n",
    "        print(start_time)\n",
    "        result= func(*args,**kwargs)\n",
    "        duration = time.time() - start_time\n",
    "        print(f\"func name: {func.__name__} with args={args}, kwargs={kwargs} take {duration:.2f} seconds\")\n",
    "        return result\n",
    "    return  wrapper\n",
    "\n",
    "\n",
    "@Timer\n",
    "def my_func(name):\n",
    "    n=5\n",
    "    time.sleep(n)\n",
    "    print(f\"my name is {name}\")\n",
    "\n",
    "my_func(\"sagar\")\n",
    "    \n",
    "    \n",
    "        "
   ]
  },
  {
   "cell_type": "code",
   "execution_count": null,
   "id": "b8d4f789-a97e-4892-9d53-93d1a122f452",
   "metadata": {},
   "outputs": [],
   "source": []
  }
 ],
 "metadata": {
  "kernelspec": {
   "display_name": "Python 3 (ipykernel)",
   "language": "python",
   "name": "python3"
  },
  "language_info": {
   "codemirror_mode": {
    "name": "ipython",
    "version": 3
   },
   "file_extension": ".py",
   "mimetype": "text/x-python",
   "name": "python",
   "nbconvert_exporter": "python",
   "pygments_lexer": "ipython3",
   "version": "3.12.9"
  }
 },
 "nbformat": 4,
 "nbformat_minor": 5
}
