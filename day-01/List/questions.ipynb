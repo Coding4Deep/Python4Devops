{
 "cells": [
  {
   "cell_type": "code",
   "execution_count": 9,
   "id": "b18f507e-515e-40d2-8649-b284134ac316",
   "metadata": {},
   "outputs": [
    {
     "name": "stdout",
     "output_type": "stream",
     "text": [
      "['deepak', 'sagar', 18, 'priya', 'priyanshu']\n",
      "deepak\n",
      "priyanshu\n",
      "<class 'str'>\n",
      "<class 'int'>\n"
     ]
    }
   ],
   "source": [
    "my_list=[\"deepak\",\"sagar\",18,\"priya\",\"priyanshu\"]\n",
    "print(my_list)\n",
    "print(my_list[0])\n",
    "print(my_list[-1])\n",
    "print(type(my_list[0]))\n",
    "print(type(my_list[2]))"
   ]
  },
  {
   "cell_type": "code",
   "execution_count": 21,
   "id": "c95af017-3c6d-423c-85b3-836918de48cf",
   "metadata": {},
   "outputs": [
    {
     "name": "stdout",
     "output_type": "stream",
     "text": [
      "['newitem', 'deepak', 'sagar', 18, 'priya', 'priyanshu']\n"
     ]
    }
   ],
   "source": [
    "my_list.insert(0,\"newitem\")\n",
    "print(my_list)\n",
    "# del my_list[0]\n",
    "# print(my_list)"
   ]
  },
  {
   "cell_type": "code",
   "execution_count": 30,
   "id": "257b409f-359b-42aa-8141-552cbb99196b",
   "metadata": {},
   "outputs": [
    {
     "name": "stdout",
     "output_type": "stream",
     "text": [
      "[1, 1, 1, 2, 3, 7, 21, 23, 23, 42, 44]\n"
     ]
    }
   ],
   "source": [
    "print(sorted([1, 2, 1, 23, 44, 1, 23, 42, 3, 21, 7]))\n"
   ]
  },
  {
   "cell_type": "code",
   "execution_count": 32,
   "id": "0321347e-094a-4a4d-8498-cb9d2da40969",
   "metadata": {},
   "outputs": [
    {
     "name": "stdout",
     "output_type": "stream",
     "text": [
      "[1, 4, 9, 16, 25]\n"
     ]
    }
   ],
   "source": [
    "squares = [x**2 for x in range(1,6)]\n",
    "print(squares)  "
   ]
  },
  {
   "cell_type": "code",
   "execution_count": null,
   "id": "4d4bb1a0-06bc-4cb2-aaf0-334e70f37211",
   "metadata": {},
   "outputs": [],
   "source": []
  },
  {
   "cell_type": "markdown",
   "id": "fc36a7fc-f168-4e60-b66b-d4c3ce61525c",
   "metadata": {},
   "source": [
    "# Ques & Ans"
   ]
  },
  {
   "cell_type": "markdown",
   "id": "0f235462-f83e-423f-bf34-6a40eb2e3384",
   "metadata": {},
   "source": [
    "### 🟢 Level 1 — Basics\n",
    "\n",
    "1. Create a list of 5 numbers and print:\n",
    "\n",
    "   * The first, middle, and last elements.\n",
    "   * The length of the list.\n",
    "   * The list reversed using slicing.\n"
   ]
  },
  {
   "cell_type": "markdown",
   "id": "dc907727-464f-45cf-88ab-d3a4cc84d5d9",
   "metadata": {},
   "source": [
    "2. Create a list `fruits = [\"apple\", \"banana\", \"cherry\"]`.\n",
    "\n",
    "   * Add `\"mango\"` to the end.\n",
    "   * Insert `\"orange\"` at index 1.\n",
    "   * Remove `\"banana\"`."
   ]
  },
  {
   "cell_type": "markdown",
   "id": "a28b0a52-e7ec-45b4-9f7d-f6b1d762280a",
   "metadata": {},
   "source": [
    "3. Given `numbers = [1, 2, 3, 4, 5]`,\n",
    "\n",
    "   * Replace the 3rd element with `99`.\n",
    "   * Append `6`.\n",
    "   * Delete the first element."
   ]
  },
  {
   "cell_type": "markdown",
   "id": "88a59e94-e484-4712-a39d-63089b91ed83",
   "metadata": {},
   "source": [
    "### 🟡 Level 2 — Intermediate\n",
    "\n",
    "4. Create a list of numbers from 1 to 10, and:\n",
    "\n",
    "   * Print only even numbers using list comprehension.\n",
    "   * Square all numbers using a loop."
   ]
  },
  {
   "cell_type": "markdown",
   "id": "f2ce71f2-49ec-4c7e-996e-50bd9f5c9eec",
   "metadata": {},
   "source": [
    "5. Combine two lists `[1,2,3]` and `[4,5,6]` into one using:\n",
    "\n",
    "   * `+`\n",
    "   * `.extend()`"
   ]
  },
  {
   "cell_type": "markdown",
   "id": "44f8234f-125a-40bc-9dbd-e8dce7fc0ca9",
   "metadata": {},
   "source": [
    "6. Given `marks = [90, 80, 95, 70, 85]`\n",
    "\n",
    "   * Find the highest and lowest marks.\n",
    "   * Sort the list in ascending and descending order."
   ]
  },
  {
   "cell_type": "markdown",
   "id": "4001683e-4599-412a-bf7f-68de954e894c",
   "metadata": {},
   "source": [
    "7. Remove duplicates from `[1,2,3,2,4,1,5]` while maintaining order."
   ]
  },
  {
   "cell_type": "markdown",
   "id": "e51cc169-0fe1-4613-9e96-03a28799e737",
   "metadata": {},
   "source": [
    "### 🔵 Level 3 — Advanced\n",
    "\n",
    "8. Create a list of words from a sentence using `.split()` and:\n",
    "\n",
    "   * Count how many words there are.\n",
    "   * Find which word appears most often."
   ]
  },
  {
   "cell_type": "markdown",
   "id": "1459ed58-4d61-4e08-8a26-3aef9e944184",
   "metadata": {},
   "source": [
    "9. Write a program to input 5 numbers from the user into a list and print the average."
   ]
  },
  {
   "cell_type": "markdown",
   "id": "4e69b751-ffdd-4875-80d7-7e2fa8c591c5",
   "metadata": {},
   "source": [
    "10. Given a nested list:\n",
    "\n",
    "    ```python\n",
    "    matrix = [[1,2,3], [4,5,6], [7,8,9]]"
   ]
  },
  {
   "cell_type": "code",
   "execution_count": null,
   "id": "e86d2f32-5a97-4d0b-8e9b-8460feee7ff7",
   "metadata": {},
   "outputs": [],
   "source": []
  }
 ],
 "metadata": {
  "kernelspec": {
   "display_name": "Python 3 (ipykernel)",
   "language": "python",
   "name": "python3"
  },
  "language_info": {
   "codemirror_mode": {
    "name": "ipython",
    "version": 3
   },
   "file_extension": ".py",
   "mimetype": "text/x-python",
   "name": "python",
   "nbconvert_exporter": "python",
   "pygments_lexer": "ipython3",
   "version": "3.12.9"
  }
 },
 "nbformat": 4,
 "nbformat_minor": 5
}
