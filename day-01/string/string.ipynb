{
 "cells": [
  {
   "cell_type": "markdown",
   "id": "27c7e76f-64b9-404c-840e-d461bcde78a6",
   "metadata": {
    "editable": true,
    "slideshow": {
     "slide_type": ""
    },
    "tags": []
   },
   "source": [
    "# STRING \n",
    "---\n",
    "\n",
    "# 🧵 **Python String Operations & Methods**\n",
    "\n",
    "Strings in Python are sequences of characters — enclosed in `'single'`, `\"double\"`, or `'''triple'''` quotes.\n",
    "\n",
    "Example:\n",
    "\n",
    "```python\n",
    "text = \"Hello World\"\n",
    "```\n",
    "\n",
    "---\n",
    "\n",
    "## 🧩 1. **Basic String Operations**\n",
    "\n",
    "| Operation             | Example                      | Output          | Description                  |\n",
    "| --------------------- | ---------------------------- | --------------- | ---------------------------- |\n",
    "| **Concatenation (+)** | `\"Hello\" + \" World\"`         | `\"Hello World\"` | Joins two strings            |\n",
    "| **Repetition (*)**    | `\"Hi\" * 3`                   | `\"HiHiHi\"`      | Repeats a string             |\n",
    "| **Length (len)**      | `len(\"Python\")`              | `6`             | Counts characters            |\n",
    "| **Indexing**          | `\"Python\"[0]`                | `'P'`           | Access by position (0-based) |\n",
    "| **Negative Indexing** | `\"Python\"[-1]`               | `'n'`           | Access from end              |\n",
    "| **Slicing**           | `\"Python\"[1:4]`              | `'yth'`         | Extract substring            |\n",
    "| **Step slicing**      | `\"abcdef\"[::2]`              | `'ace'`         | Skip characters              |\n",
    "| **Membership test**   | `'a' in \"cat\"`               | `True`          | Check presence               |\n",
    "| **Iteration**         | `for ch in \"abc\": print(ch)` | `a b c`         | Loop through string          |\n",
    "\n",
    "---\n",
    "\n",
    "## 🔠 2. **Case Conversion Methods**\n",
    "\n",
    "| Method          | Example                 | Output          | Description             |\n",
    "| --------------- | ----------------------- | --------------- | ----------------------- |\n",
    "| `.lower()`      | `\"HELLO\".lower()`       | `\"hello\"`       | Converts to lowercase   |\n",
    "| `.upper()`      | `\"hello\".upper()`       | `\"HELLO\"`       | Converts to uppercase   |\n",
    "| `.title()`      | `\"hello world\".title()` | `\"Hello World\"` | Capitalize each word    |\n",
    "| `.capitalize()` | `\"python\".capitalize()` | `\"Python\"`      | Capitalize first letter |\n",
    "| `.swapcase()`   | `\"PyThOn\".swapcase()`   | `\"pYtHoN\"`      | Swaps case              |\n",
    "\n",
    "---\n",
    "\n",
    "## 🧹 3. **Whitespace Handling**\n",
    "\n",
    "| Method      | Example            | Output | Description        |\n",
    "| ----------- | ------------------ | ------ | ------------------ |\n",
    "| `.strip()`  | `\"  hi  \".strip()` | `\"hi\"` | Removes both sides |\n",
    "| `.lstrip()` | `\"  hi\".lstrip()`  | `\"hi\"` | Removes left side  |\n",
    "| `.rstrip()` | `\"hi  \".rstrip()`  | `\"hi\"` | Removes right side |\n",
    "\n",
    "---\n",
    "\n",
    "## 🔍 4. **Searching & Checking**\n",
    "\n",
    "| Method             | Example                     | Output | Description                            |\n",
    "| ------------------ | --------------------------- | ------ | -------------------------------------- |\n",
    "| `.startswith(sub)` | `\"python\".startswith(\"py\")` | `True` | Checks prefix                          |\n",
    "| `.endswith(sub)`   | `\"hello\".endswith(\"lo\")`    | `True` | Checks suffix                          |\n",
    "| `.find(sub)`       | `\"banana\".find(\"na\")`       | `2`    | First index or `-1`                    |\n",
    "| `.rfind(sub)`      | `\"banana\".rfind(\"na\")`      | `4`    | Last index                             |\n",
    "| `.index(sub)`      | `\"banana\".index(\"na\")`      | `2`    | Like find(), raises error if not found |\n",
    "| `.count(sub)`      | `\"banana\".count(\"na\")`      | `2`    | Count occurrences                      |\n",
    "| `in / not in`      | `\"cat\" in \"concatenate\"`    | `True` | Membership check                       |\n",
    "\n",
    "---\n",
    "\n",
    "## ✂️ 5. **Splitting and Joining**\n",
    "\n",
    "| Method          | Example                       | Output            | Description           |\n",
    "| --------------- | ----------------------------- | ----------------- | --------------------- |\n",
    "| `.split()`      | `\"a,b,c\".split(\",\")`          | `['a', 'b', 'c']` | Split into list       |\n",
    "| `.rsplit()`     | `\"a,b,c\".rsplit(\",\", 1)`      | `['a,b', 'c']`    | Split from right      |\n",
    "| `.splitlines()` | `\"a\\nb\\nc\".splitlines()`      | `['a', 'b', 'c']` | Split by newlines     |\n",
    "| `.join(list)`   | `\" \".join([\"Hello\",\"World\"])` | `\"Hello World\"`   | Join list into string |\n",
    "\n",
    "---\n",
    "\n",
    "## 🔄 6. **Replacing and Modifying**\n",
    "\n",
    "| Method               | Example                       | Output     | Description                 |\n",
    "| -------------------- | ----------------------------- | ---------- | --------------------------- |\n",
    "| `.replace(old, new)` | `\"banana\".replace(\"na\",\"xy\")` | `\"baxyxy\"` | Replace substrings          |\n",
    "| `.translate()`       | use with `str.maketrans()`    | —          | Advanced replace by mapping |\n",
    "| `.zfill(width)`      | `\"42\".zfill(5)`               | `\"00042\"`  | Pad left with zeros         |\n",
    "| `.center(width)`     | `\"hi\".center(6)`              | `'  hi  '` | Center align                |\n",
    "| `.ljust(width)`      | `\"hi\".ljust(6,\"-\")`           | `'hi----'` | Left align                  |\n",
    "| `.rjust(width)`      | `\"hi\".rjust(6,\"-\")`           | `'----hi'` | Right align                 |\n",
    "| `.expandtabs(n)`     | `\"a\\tb\".expandtabs(4)`        | `'a   b'`  | Convert tabs to spaces      |\n",
    "\n",
    "---\n",
    "\n",
    "## 🧮 7. **Validation (Boolean Checks)**\n",
    "\n",
    "| Method         | Example                   | Output | Description                              |\n",
    "| -------------- | ------------------------- | ------ | ---------------------------------------- |\n",
    "| `.isalpha()`   | `\"abc\".isalpha()`         | `True` | Letters only                             |\n",
    "| `.isdigit()`   | `\"123\".isdigit()`         | `True` | Digits only                              |\n",
    "| `.isalnum()`   | `\"abc123\".isalnum()`      | `True` | Letters or digits                        |\n",
    "| `.islower()`   | `\"abc\".islower()`         | `True` | All lowercase                            |\n",
    "| `.isupper()`   | `\"ABC\".isupper()`         | `True` | All uppercase                            |\n",
    "| `.istitle()`   | `\"Hello World\".istitle()` | `True` | Title case                               |\n",
    "| `.isspace()`   | `\"   \".isspace()`         | `True` | Only whitespace                          |\n",
    "| `.isnumeric()` | `\"½\".isnumeric()`         | `True` | Numeric characters (including fractions) |\n",
    "| `.isdecimal()` | `\"123\".isdecimal()`       | `True` | Only decimal digits                      |\n",
    "| `.isascii()`   | `\"abc\".isascii()`         | `True` | ASCII characters only                    |\n",
    "\n",
    "---\n",
    "\n",
    "## 🧰 8. **String Formatting**\n",
    "\n",
    "| Method         | Example                              | Output                  | Description          |\n",
    "| -------------- | ------------------------------------ | ----------------------- | -------------------- |\n",
    "| **f-string**   | `name = \"Pri\"; f\"Hello {name}\"`      | `\"Hello Pri\"`           | Modern formatting    |\n",
    "| `.format()`    | `\"{} scored {}\".format(\"Raj\", 95)`   | `\"Raj scored 95\"`       | Format placeholders  |\n",
    "| `%` formatting | `\"%s is %d years old\" % (\"Tom\", 20)` | `\"Tom is 20 years old\"` | Old style formatting |\n",
    "\n",
    "---\n",
    "\n",
    "## 🧱 9. **Encoding and Decoding**\n",
    "\n",
    "| Method      | Example                          | Description                  |\n",
    "| ----------- | -------------------------------- | ---------------------------- |\n",
    "| `.encode()` | `\"hi\".encode(\"utf-8\")` → `b'hi'` | Convert to bytes             |\n",
    "| `.decode()` | `b'hi'.decode(\"utf-8\")` → `\"hi\"` | Convert bytes back to string |\n",
    "\n",
    "---\n",
    "\n",
    "## 🧠 10. **Useful Built-in String Functions**\n",
    "\n",
    "| Function | Example                 | Description                    |\n",
    "| -------- | ----------------------- | ------------------------------ |\n",
    "| `str()`  | `str(123)` → `\"123\"`    | Convert to string              |\n",
    "| `len()`  | `len(\"Python\")` → `6`   | Get length                     |\n",
    "| `repr()` | `repr(\"Hi\")` → `\"'Hi'\"` | Official string representation |\n",
    "\n",
    "---\n",
    "\n",
    "### 🔍 Example Summary Code\n",
    "\n",
    "```python\n",
    "s = \"  Hello World!  \"\n",
    "print(s.strip().upper().replace(\"WORLD\", \"PYTHON\"))\n",
    "```\n",
    "\n",
    "**Output:**\n",
    "\n",
    "```\n",
    "HELLO PYTHON!\n",
    "```\n",
    "\n",
    "---\n"
   ]
  },
  {
   "cell_type": "markdown",
   "id": "8514372a-11c0-46c7-8261-987c228e7398",
   "metadata": {},
   "source": [
    "<H1>QUESTIONS & ANSWERS</H1>"
   ]
  },
  {
   "cell_type": "markdown",
   "id": "80f9211d-7553-415e-9e59-74ca9efe48fc",
   "metadata": {},
   "source": [
    "## 🟢 **Level 1 — Basic String Operations**"
   ]
  },
  {
   "cell_type": "markdown",
   "id": "01b1da2c-9d2c-4356-8fb8-49de627db40a",
   "metadata": {},
   "source": [
    "1. Create a variable `name = \"Priyanshu\"`.\n",
    "\n",
    "   * Print the first and last character.\n",
    "   * Print the length of the string.\n",
    "   * Print only `\"yansh\"` using slicing."
   ]
  },
  {
   "cell_type": "code",
   "execution_count": 8,
   "id": "e0acba7c-1e0f-4b11-8410-0f5191b4daef",
   "metadata": {},
   "outputs": [
    {
     "name": "stdout",
     "output_type": "stream",
     "text": [
      "P\n",
      "u\n",
      "yansh\n"
     ]
    }
   ],
   "source": [
    "name = \"Priyanshu\"\n",
    "print(f\"{name[0]}\")\n",
    "print(f\"{name[-1]}\")\n",
    "print(f\"{name[3:8]}\")"
   ]
  },
  {
   "cell_type": "markdown",
   "id": "9e212d12-5bae-4ca2-9705-e8cdbef2f5d2",
   "metadata": {},
   "source": [
    "2. Join the strings `\"Hello\"` and `\"World\"` with a space between them."
   ]
  },
  {
   "cell_type": "code",
   "execution_count": 10,
   "id": "9d4cb351-0b95-4e9a-a7d3-e915bf0eed3b",
   "metadata": {},
   "outputs": [
    {
     "name": "stdout",
     "output_type": "stream",
     "text": [
      "helloWorld\n"
     ]
    }
   ],
   "source": [
    "print(\"hello\" + \"World\")"
   ]
  },
  {
   "cell_type": "markdown",
   "id": "755573cc-0b98-46dd-b5bf-58de0f358427",
   "metadata": {},
   "source": [
    "3. Given `text = \"Python\"`, print:\n",
    "\n",
    "   * `PythonPythonPython` using repetition.\n",
    "   * The substring `\"tho\"` using slicing."
   ]
  },
  {
   "cell_type": "code",
   "execution_count": 19,
   "id": "b73622e4-615b-4895-a48c-7b4186ab1b65",
   "metadata": {},
   "outputs": [
    {
     "name": "stdout",
     "output_type": "stream",
     "text": [
      "PythonPythonPython\n",
      "tho\n"
     ]
    }
   ],
   "source": [
    "text=\"Python\"\n",
    "print(f\"{text}\"*3)\n",
    "print(f\"{text[2:5]}\")"
   ]
  },
  {
   "cell_type": "markdown",
   "id": "3ce51c95-b7ee-483c-a66f-93881e61263d",
   "metadata": {},
   "source": [
    "4. Check whether `\"y\"` is present in `\"Python\"` using the `in` operator."
   ]
  },
  {
   "cell_type": "code",
   "execution_count": 20,
   "id": "13741247-5989-46b3-87fb-9240f1ce7308",
   "metadata": {},
   "outputs": [
    {
     "data": {
      "text/plain": [
       "True"
      ]
     },
     "execution_count": 20,
     "metadata": {},
     "output_type": "execute_result"
    }
   ],
   "source": [
    "\"y\" in \"Python\""
   ]
  },
  {
   "cell_type": "markdown",
   "id": "8ee1b2f5-c350-4e14-a6b8-380a32523da4",
   "metadata": {},
   "source": [
    "5. Write a program to reverse a string using slicing.\n"
   ]
  },
  {
   "cell_type": "code",
   "execution_count": 24,
   "id": "8c20b8e7-40b8-4cc0-a091-e604bb151d98",
   "metadata": {},
   "outputs": [
    {
     "name": "stdout",
     "output_type": "stream",
     "text": [
      "kapeed\n"
     ]
    }
   ],
   "source": [
    "name = \"deepak\"\n",
    "rev_str = name[::-1]\n",
    "print(rev_str)\n"
   ]
  },
  {
   "cell_type": "markdown",
   "id": "3efc84c8-93ef-45cc-87f1-992d3a14481d",
   "metadata": {},
   "source": [
    "## 🟡 **Level 2 — Case & Whitespace Methods**"
   ]
  },
  {
   "cell_type": "markdown",
   "id": "2b69204f-d2bd-4a86-8361-2d28e1ec86e0",
   "metadata": {},
   "source": [
    "6. Convert `\"PyThoN Is AwEsoMe\"` into:\n",
    "\n",
    "   * All lowercase\n",
    "   * All uppercase\n",
    "   * Title case"
   ]
  },
  {
   "cell_type": "code",
   "execution_count": 32,
   "id": "054999d0-5b37-4c94-b015-ce1bb05ad672",
   "metadata": {},
   "outputs": [
    {
     "name": "stdout",
     "output_type": "stream",
     "text": [
      "python is awesome\n",
      "PYTHON IS AWESOME\n",
      "Python Is Awesome\n",
      "Python is awesome\n",
      "PyThoN Is AwEsoMe\n",
      "pYtHOn iS aWeSOmE\n"
     ]
    }
   ],
   "source": [
    "str=\"PyThoN Is AwEsoMe\"\n",
    "print(f\"{str}\".lower())\n",
    "print(f\"{str}\".upper())\n",
    "print(f\"{str}\".title())\n",
    "print(f\"{str}\".capitalize())\n",
    "print(str)\n",
    "print(f\"{str}\".swapcase())\n"
   ]
  },
  {
   "cell_type": "markdown",
   "id": "b8df3fca-9c13-4bf7-a523-c7f5ff64aef4",
   "metadata": {},
   "source": [
    "7. Remove the leading and trailing spaces from the string `\"   Hello World   \"`."
   ]
  },
  {
   "cell_type": "code",
   "execution_count": 37,
   "id": "aeac3532-c3e5-4549-a570-facc85172267",
   "metadata": {},
   "outputs": [
    {
     "name": "stdout",
     "output_type": "stream",
     "text": [
      "17\n",
      "Hello World\n",
      "11\n",
      "Hello World   \n",
      "['Hello', 'World']\n"
     ]
    }
   ],
   "source": [
    "str=\"   Hello World   \"\n",
    "print(len(str))\n",
    "print(f\"{str}\".strip())\n",
    "print(len(f\"{str}\".strip()))\n",
    "print(f\"{str}\".lstrip())\n",
    "print(f\"{str}\".split())"
   ]
  },
  {
   "cell_type": "markdown",
   "id": "146e97a4-b4c2-4052-ade5-1f2c9dca4922",
   "metadata": {},
   "source": [
    "8. Input a string from the user and:\n",
    "\n",
    "   * Remove extra spaces\n",
    "   * Convert to lowercase\n",
    "   * Print the cleaned text"
   ]
  },
  {
   "cell_type": "code",
   "execution_count": 42,
   "id": "9bc8c5d5-335f-42e8-9692-db8e6d6bf76a",
   "metadata": {},
   "outputs": [
    {
     "name": "stdin",
     "output_type": "stream",
     "text": [
      "Enter a string:       Deepak Sagar\n"
     ]
    },
    {
     "name": "stdout",
     "output_type": "stream",
     "text": [
      "     Deepak Sagar\n",
      "17\n",
      "Deepak Sagar\n"
     ]
    }
   ],
   "source": [
    "text = input(\"Enter a string: \")\n",
    "print(text)\n",
    "\n",
    "print(len(text))\n",
    "print(f\"{text}\".strip())"
   ]
  },
  {
   "cell_type": "markdown",
   "id": "3c6e1ef2-049e-45d2-9eb8-ca1f640048bc",
   "metadata": {},
   "source": [
    "9. Given `text = \"   python rocks   \"`, use `.strip()`, `.lstrip()`, and `.rstrip()` — show how the outputs differ."
   ]
  },
  {
   "cell_type": "markdown",
   "id": "b2ef9096-4358-4066-a3ac-42f4ab611ef8",
   "metadata": {},
   "source": [
    "## 🟠 **Level 3 — Searching & Checking**\n",
    "\n",
    "10. For `word = \"banana\"`, print:\n",
    "\n",
    "    * The number of `\"na\"` occurrences.\n",
    "    * The index of the first `\"na\"`.\n",
    "    * The index of the last `\"na\"`."
   ]
  },
  {
   "cell_type": "code",
   "execution_count": 43,
   "id": "cc7fb515-dd6d-499e-8756-8e99253bf71a",
   "metadata": {},
   "outputs": [
    {
     "data": {
      "text/plain": [
       "2"
      ]
     },
     "execution_count": 43,
     "metadata": {},
     "output_type": "execute_result"
    }
   ],
   "source": [
    "\"banana\".count(\"na\")"
   ]
  },
  {
   "cell_type": "markdown",
   "id": "80e625ec-ca39-4d84-81c4-8e44da53a6c6",
   "metadata": {},
   "source": [
    "11. Check if a string starts with `\"Hello\"` and ends with `\"!\"`."
   ]
  },
  {
   "cell_type": "markdown",
   "id": "597ffd78-4c51-4809-82e5-1325242a82e4",
   "metadata": {},
   "source": [
    "12. Ask the user to input a word and check:\n",
    "\n",
    "    * If it contains only letters (`isalpha()`)\n",
    "    * If it contains only digits (`isdigit()`)"
   ]
  },
  {
   "cell_type": "markdown",
   "id": "9f21d40c-c0d0-424d-adf7-0549287d24f8",
   "metadata": {},
   "source": [
    "13. Given `email = \"student@gmail.com\"`, verify if:\n",
    "\n",
    "    * It starts with `\"student\"`\n",
    "    * Ends with `\"gmail.com\"`"
   ]
  },
  {
   "cell_type": "markdown",
   "id": "b70edcea-4063-4433-b4ab-c668decb3675",
   "metadata": {},
   "source": [
    "## 🔵 **Level 4 — Splitting, Joining & Replacing**\n",
    "\n",
    "14. Given `sentence = \"Python is fun to learn\"`,\n",
    "\n",
    "    * Split the words into a list\n",
    "    * Join them again using `-` as a separator."
   ]
  },
  {
   "cell_type": "markdown",
   "id": "e1750c8d-91e3-47a4-82f5-ee3395b4e9b0",
   "metadata": {},
   "source": [
    "15. Replace all spaces in `\"I love Python\"` with underscores (`_`)."
   ]
  },
  {
   "cell_type": "markdown",
   "id": "c7b98a8f-941a-4048-bcb7-a251c8149a90",
   "metadata": {},
   "source": [
    "16. Convert `\"apple,banana,grapes\"` into a list of fruits, and print each fruit on a new line."
   ]
  },
  {
   "cell_type": "markdown",
   "id": "576b66f7-8547-4664-ac44-08bb895ec02a",
   "metadata": {},
   "source": [
    "17. Given `\"Hello, my name is Priyanshu\"`, replace `\"Priyanshu\"` with `\"Alex\"`.\n",
    "\n",
    "18. Given `\"a\\tb\\tc\"`, use `.expandtabs(4)` to display it properly spaced."
   ]
  },
  {
   "cell_type": "markdown",
   "id": "e8cde3ab-d7b1-4244-be17-14a2e908fbf7",
   "metadata": {},
   "source": [
    "## 🔴 **Level 5 — Formatting & Validation**\n",
    "\n",
    "19. Create an f-string to print:\n",
    "\n",
    "    ```python\n",
    "    name = \"Riya\"\n",
    "    age = 22\n",
    "    ```\n",
    "\n",
    "    Output → `\"My name is Riya and I am 22 years old.\"`"
   ]
  },
  {
   "cell_type": "markdown",
   "id": "25c0f899-f072-4a2f-9e00-cdf07ebc2f6d",
   "metadata": {},
   "source": [
    "20. Given `price = 49.995`, print it as:\n",
    "\n",
    "    * Rounded to 2 decimal places → `49.99`\n",
    "    * Using an f-string → `\"The price is $49.99\"`"
   ]
  },
  {
   "cell_type": "markdown",
   "id": "9e4eea84-c4c5-44d9-8472-10056fde04fe",
   "metadata": {},
   "source": [
    "21. Check if the following strings are:\n",
    "\n",
    "    * `\"Hello123\"` → alphanumeric\n",
    "    * `\"1234\"` → digits\n",
    "    * `\"   \"` → only whitespace\n",
    "    * `\"HELLO\"` → uppercase\n"
   ]
  },
  {
   "cell_type": "markdown",
   "id": "c049eaed-777f-430c-827f-21dec38e1129",
   "metadata": {},
   "source": [
    "22. Create a string `\"Python\"` and center it in a width of `20` using `*` as padding."
   ]
  },
  {
   "cell_type": "markdown",
   "id": "25da88ee-a542-4c3d-97fa-92a54d9bfa37",
   "metadata": {},
   "source": [
    "23. Convert the string `\"₹500\"` into ASCII-safe bytes and decode it back."
   ]
  },
  {
   "cell_type": "markdown",
   "id": "ce4eb92f-ba03-425b-99e9-c075bcf50210",
   "metadata": {},
   "source": [
    "## ⚫ **Level 6 — Mini Practice Projects**\n",
    "\n",
    "24. **Count vowels**: Write a program that counts the number of vowels in a user-given string."
   ]
  },
  {
   "cell_type": "markdown",
   "id": "3b620920-b430-4f52-88e0-e807d9140299",
   "metadata": {},
   "source": [
    "25. **Palindrome check**: Ask the user for a string and check if it reads the same backward."
   ]
  },
  {
   "cell_type": "markdown",
   "id": "dc170e7d-1136-473e-af19-e06b83c41f07",
   "metadata": {},
   "source": [
    "26. **Word frequency counter**:\n",
    "    Input → `\"Python is easy, Python is fun\"`\n",
    "    Output →\n",
    "\n",
    "    ```\n",
    "    Python: 2  \n",
    "    is: 2  \n",
    "    easy,: 1  \n",
    "    fun: 1\n",
    "    ```"
   ]
  },
  {
   "cell_type": "markdown",
   "id": "e87d762a-9b55-4b3c-92da-fa3a8d586c89",
   "metadata": {},
   "source": [
    "27. **Email validator (simple)**:\n",
    "    Input an email and check:\n",
    "\n",
    "    * It contains `'@'`\n",
    "    * Ends with `'.com'`\n",
    "    * Does **not** start with a number"
   ]
  },
  {
   "cell_type": "markdown",
   "id": "73137a83-2838-4523-8173-ac6087c439d6",
   "metadata": {},
   "source": [
    "28. **Password Strength Checker**:\n",
    "    Check if the password contains:\n",
    "\n",
    "    * At least one uppercase letter\n",
    "    * At least one digit\n",
    "    * At least one special character\n",
    "    * Minimum length of 8"
   ]
  },
  {
   "cell_type": "code",
   "execution_count": null,
   "id": "91ad586d-e6fa-4ec6-98a0-765dcbb5a280",
   "metadata": {},
   "outputs": [],
   "source": []
  }
 ],
 "metadata": {
  "kernelspec": {
   "display_name": "Python 3 (ipykernel)",
   "language": "python",
   "name": "python3"
  },
  "language_info": {
   "codemirror_mode": {
    "name": "ipython",
    "version": 3
   },
   "file_extension": ".py",
   "mimetype": "text/x-python",
   "name": "python",
   "nbconvert_exporter": "python",
   "pygments_lexer": "ipython3",
   "version": "3.12.9"
  }
 },
 "nbformat": 4,
 "nbformat_minor": 5
}
