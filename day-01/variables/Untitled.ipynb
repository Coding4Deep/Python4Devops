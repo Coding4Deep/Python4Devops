{
 "cells": [
  {
   "cell_type": "markdown",
   "id": "915558e3-faac-48ac-a544-2dfbba159974",
   "metadata": {},
   "source": [
    "# Variables and Numbers"
   ]
  },
  {
   "cell_type": "code",
   "execution_count": 11,
   "id": "851afc4c-dbcd-4e39-aad5-e14ad6ab6488",
   "metadata": {},
   "outputs": [
    {
     "name": "stdout",
     "output_type": "stream",
     "text": [
      "<class 'int'>\n",
      "<class 'str'>\n"
     ]
    },
    {
     "data": {
      "text/plain": [
       "False"
      ]
     },
     "execution_count": 11,
     "metadata": {},
     "output_type": "execute_result"
    }
   ],
   "source": [
    "print(type(1))\n",
    "print(type('deepak'))\n",
    "0.3 == 01.1 * 3\n",
    "0.3 == 01.1 * 3"
   ]
  },
  {
   "cell_type": "code",
   "execution_count": 19,
   "id": "9b883228-d2ef-405c-bccc-feb14fca3f39",
   "metadata": {},
   "outputs": [
    {
     "name": "stdout",
     "output_type": "stream",
     "text": [
      "4.0\n",
      "<class 'float'>\n",
      "3\n",
      "<class 'int'>\n",
      "<class 'float'>\n",
      "<class 'float'>\n"
     ]
    }
   ],
   "source": [
    "print(8/2)\n",
    "print(type(9/3))\n",
    "print(7//2)\n",
    "print(type(10//3))\n",
    "print(type(9/3.0))\n",
    "print(type(9/3.0))"
   ]
  },
  {
   "cell_type": "code",
   "execution_count": null,
   "id": "85068147-e2ae-4e22-a6bf-8e96729188c7",
   "metadata": {},
   "outputs": [],
   "source": []
  }
 ],
 "metadata": {
  "kernelspec": {
   "display_name": "Python 3 (ipykernel)",
   "language": "python",
   "name": "python3"
  },
  "language_info": {
   "codemirror_mode": {
    "name": "ipython",
    "version": 3
   },
   "file_extension": ".py",
   "mimetype": "text/x-python",
   "name": "python",
   "nbconvert_exporter": "python",
   "pygments_lexer": "ipython3",
   "version": "3.12.9"
  }
 },
 "nbformat": 4,
 "nbformat_minor": 5
}
