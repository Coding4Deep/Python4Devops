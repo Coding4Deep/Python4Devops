{
 "cells": [
  {
   "cell_type": "code",
   "execution_count": 30,
   "id": "05d67c80-13a6-4224-924f-10af48b806d9",
   "metadata": {
    "editable": true,
    "slideshow": {
     "slide_type": ""
    },
    "tags": []
   },
   "outputs": [
    {
     "name": "stdout",
     "output_type": "stream",
     "text": [
      "name\n",
      "<class 'str'>\n",
      "roll_no\n",
      "<class 'str'>\n",
      "Grade\n",
      "<class 'str'>\n",
      "##########################\n",
      "deepak\n",
      "<class 'str'>\n",
      "18\n",
      "<class 'int'>\n",
      "A\n",
      "<class 'str'>\n",
      "##############################\n",
      "name : deepak\n",
      "roll_no : 18\n",
      "Grade : A\n",
      "#####################\n",
      "('name', 'deepak')\n",
      "<class 'tuple'>\n",
      "('roll_no', 18)\n",
      "<class 'tuple'>\n",
      "('Grade', 'A')\n",
      "<class 'tuple'>\n"
     ]
    }
   ],
   "source": [
    "student={\n",
    "    \"name\":\"deepak\",\n",
    "    \"roll_no\":18,\n",
    "    \"Grade\":\"A\"\n",
    "}\n",
    "# print(student)\n",
    "# print(type(student))\n",
    "# print(student[\"name\"])\n",
    "# print(student.get(\"plan\"))          \n",
    "# print(student.get(\"plan\", \"N/A\"))\n",
    "# print(student)\n",
    "# print(student.popitem())\n",
    "# # print(student.pop(\"Grade\"))\n",
    "# print(student)\n",
    "\n",
    "\n",
    "\n",
    "for key in student:\n",
    "    print(key) \n",
    "    print(type(key))\n",
    "print(\"##########################\")\n",
    "for values in student.values():\n",
    "    print(values) \n",
    "    print(type(values))\n",
    "\n",
    "print(\"##############################\")\n",
    "\n",
    "for key,values in student.items():\n",
    "    print(key, \":\", values)\n",
    "\n",
    "print(\"#####################\")\n",
    "\n",
    "for stu in student.items():\n",
    "    print(stu)\n",
    "    print(type(stu))\n",
    "    "
   ]
  },
  {
   "cell_type": "code",
   "execution_count": 31,
   "id": "5eb7f53a-a2ae-485f-a165-2eb50fd0d15d",
   "metadata": {},
   "outputs": [
    {
     "name": "stdout",
     "output_type": "stream",
     "text": [
      "Python\n"
     ]
    }
   ],
   "source": [
    "students = {\n",
    "    \"Aman\": {\"age\": 20, \"course\": \"Python\"},\n",
    "    \"Neha\": {\"age\": 22, \"course\": \"Java\"}\n",
    "}\n",
    "\n",
    "print(students[\"Aman\"][\"course\"]) "
   ]
  },
  {
   "cell_type": "code",
   "execution_count": 34,
   "id": "b8cfcf7d-83f9-4bb5-85f3-e1877823ce3e",
   "metadata": {},
   "outputs": [
    {
     "name": "stdout",
     "output_type": "stream",
     "text": [
      "<class 'dict'>\n",
      "{\"name\": \"Priyanshu\", \"age\": 21}\n",
      "<class 'str'>\n"
     ]
    }
   ],
   "source": [
    "import json\n",
    "\n",
    "d = {\"name\": \"Priyanshu\", \"age\": 21}\n",
    "print(type(d))\n",
    "json_str = json.dumps(d)\n",
    "print(json_str) \n",
    "print(type(json_str))"
   ]
  },
  {
   "cell_type": "code",
   "execution_count": null,
   "id": "e827be8f-ba19-41c9-8753-66e64ededfb3",
   "metadata": {},
   "outputs": [],
   "source": []
  }
 ],
 "metadata": {
  "kernelspec": {
   "display_name": "Python 3 (ipykernel)",
   "language": "python",
   "name": "python3"
  },
  "language_info": {
   "codemirror_mode": {
    "name": "ipython",
    "version": 3
   },
   "file_extension": ".py",
   "mimetype": "text/x-python",
   "name": "python",
   "nbconvert_exporter": "python",
   "pygments_lexer": "ipython3",
   "version": "3.12.9"
  }
 },
 "nbformat": 4,
 "nbformat_minor": 5
}
