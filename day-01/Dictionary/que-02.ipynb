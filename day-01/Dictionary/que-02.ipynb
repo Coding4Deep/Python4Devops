{
 "cells": [
  {
   "cell_type": "markdown",
   "id": "7c38f134",
   "metadata": {
    "editable": true,
    "slideshow": {
     "slide_type": ""
    },
    "tags": []
   },
   "source": [
    "## 🔶 1. Flatten Nested Dictionary\n",
    "Write a function to **flatten** a nested dictionary. Example:\n",
    "```python\n",
    "d = {'a': 1, 'b': {'c': 2, 'd': {'e': 3}}}\n",
    "```\n",
    "Output → `{'a': 1, 'b.c': 2, 'b.d.e': 3}`"
   ]
  },
  {
   "cell_type": "code",
   "execution_count": null,
   "id": "6b783173",
   "metadata": {},
   "outputs": [],
   "source": []
  },
  {
   "cell_type": "markdown",
   "id": "0f55cf36",
   "metadata": {},
   "source": [
    "## 🔶 2. Group by Value Type\n",
    "Given a dictionary, group its keys based on the **data type** of their values.\n",
    "Example:\n",
    "```python\n",
    "d = {'a': 1, 'b': 'hello', 'c': 3.14, 'd': True}\n",
    "```\n",
    "Output → `{int: ['a'], str: ['b'], float: ['c'], bool: ['d']}`"
   ]
  },
  {
   "cell_type": "code",
   "execution_count": null,
   "id": "47686c51",
   "metadata": {},
   "outputs": [],
   "source": []
  },
  {
   "cell_type": "markdown",
   "id": "4aad85d6",
   "metadata": {},
   "source": [
    "## 🔶 3. Deep Merge Two Dictionaries\n",
    "Write a function to recursively merge two nested dictionaries. If a key appears in both and both values are dictionaries, merge them too."
   ]
  },
  {
   "cell_type": "code",
   "execution_count": null,
   "id": "41525ff9",
   "metadata": {},
   "outputs": [],
   "source": []
  },
  {
   "cell_type": "markdown",
   "id": "74fe3aea",
   "metadata": {},
   "source": [
    "## 🔶 4. Frequency Sort\n",
    "Given a dictionary of word frequencies, sort it **by value (descending)** and then **alphabetically by key** if values are equal."
   ]
  },
  {
   "cell_type": "code",
   "execution_count": null,
   "id": "14bac86a",
   "metadata": {},
   "outputs": [],
   "source": []
  },
  {
   "cell_type": "markdown",
   "id": "81e98fc6",
   "metadata": {},
   "source": [
    "## 🔶 5. JSON-like Data Filter\n",
    "Given a list of dictionaries representing users, filter out users who are inactive or under 18.\n",
    "```python\n",
    "users = [\n",
    " {'name': 'Aman', 'age': 17, 'active': True},\n",
    " {'name': 'Priya', 'age': 22, 'active': False},\n",
    " {'name': 'Ravi', 'age': 25, 'active': True}\n",
    "]\n",
    "```"
   ]
  },
  {
   "cell_type": "code",
   "execution_count": null,
   "id": "df770fdd",
   "metadata": {},
   "outputs": [],
   "source": []
  },
  {
   "cell_type": "markdown",
   "id": "c40da67e",
   "metadata": {},
   "source": [
    "## 🔶 6. Count Values Appearing Multiple Times\n",
    "Given a dictionary, count how many values appear **more than once**."
   ]
  },
  {
   "cell_type": "code",
   "execution_count": null,
   "id": "21381ea5",
   "metadata": {},
   "outputs": [],
   "source": []
  },
  {
   "cell_type": "markdown",
   "id": "c06fac9d",
   "metadata": {},
   "source": [
    "## 🔶 7. Transform Dictionary Keys\n",
    "Convert all keys of a dictionary to uppercase using a **dictionary comprehension**."
   ]
  },
  {
   "cell_type": "code",
   "execution_count": null,
   "id": "bc841c80",
   "metadata": {},
   "outputs": [],
   "source": []
  },
  {
   "cell_type": "markdown",
   "id": "0acecd81",
   "metadata": {},
   "source": [
    "## 🔶 8. Dictionary to Matrix\n",
    "Convert a dictionary to a 2D list (matrix) of key-value pairs.\n",
    "Example:\n",
    "```python\n",
    "{'a': 1, 'b': 2} → [['a', 1], ['b', 2]]\n",
    "```"
   ]
  },
  {
   "cell_type": "code",
   "execution_count": null,
   "id": "8d486373",
   "metadata": {},
   "outputs": [],
   "source": []
  },
  {
   "cell_type": "markdown",
   "id": "9baca956",
   "metadata": {},
   "source": [
    "## 🔶 9. Most Common Value\n",
    "Find the most frequently occurring value in a dictionary."
   ]
  },
  {
   "cell_type": "code",
   "execution_count": null,
   "id": "dc6c1135",
   "metadata": {},
   "outputs": [],
   "source": []
  },
  {
   "cell_type": "markdown",
   "id": "c7ae2c36",
   "metadata": {},
   "source": [
    "## 🔶 10. Nested Dictionary Key Count\n",
    "Count how many total keys exist in a deeply nested dictionary (including nested ones)."
   ]
  },
  {
   "cell_type": "code",
   "execution_count": null,
   "id": "46f99f48",
   "metadata": {},
   "outputs": [],
   "source": []
  },
  {
   "cell_type": "markdown",
   "id": "7b9b83c3",
   "metadata": {},
   "source": [
    "## 🔶 11. Reverse Key Lookup\n",
    "Given a dictionary and a value, return all keys that map to that value."
   ]
  },
  {
   "cell_type": "code",
   "execution_count": null,
   "id": "4eda97bc",
   "metadata": {},
   "outputs": [],
   "source": []
  },
  {
   "cell_type": "markdown",
   "id": "0cec33f1",
   "metadata": {},
   "source": [
    "## 🔶 12. Create Dictionary from List of Tuples\n",
    "Given a list of tuples, combine duplicates by summing their values.\n",
    "```python\n",
    "items = [('a', 2), ('b', 3), ('a', 5)] → {'a': 7, 'b': 3}\n",
    "```"
   ]
  },
  {
   "cell_type": "code",
   "execution_count": null,
   "id": "44215da1",
   "metadata": {},
   "outputs": [],
   "source": []
  },
  {
   "cell_type": "markdown",
   "id": "41b42067",
   "metadata": {},
   "source": [
    "## 🔶 13. Build Index from List\n",
    "Given a list of students with subjects, build an index mapping each **subject** to the list of **students** taking it.\n",
    "```python\n",
    "students = [\n",
    " {'name': 'Aman', 'subjects': ['Math', 'Science']},\n",
    " {'name': 'Priya', 'subjects': ['Science', 'English']}\n",
    "]\n",
    "```\n",
    "Output → `{'Math': ['Aman'], 'Science': ['Aman', 'Priya'], 'English': ['Priya']}`"
   ]
  },
  {
   "cell_type": "code",
   "execution_count": null,
   "id": "0c1854f1",
   "metadata": {},
   "outputs": [],
   "source": []
  },
  {
   "cell_type": "markdown",
   "id": "45c0a359",
   "metadata": {},
   "source": [
    "## 🔶 14. Combine Dictionaries by Adding Values\n",
    "Combine two dictionaries by adding the values of common keys.\n",
    "Example: `{'a': 1, 'b': 2}, {'a': 3, 'b': 5, 'c': 7}` → `{'a': 4, 'b': 7, 'c': 7}`"
   ]
  },
  {
   "cell_type": "code",
   "execution_count": null,
   "id": "1bc7af98",
   "metadata": {},
   "outputs": [],
   "source": []
  },
  {
   "cell_type": "markdown",
   "id": "570f0107",
   "metadata": {},
   "source": [
    "## 🔶 15. Map Transformation\n",
    "Use `map()` or a comprehension to multiply all numeric dictionary values by 10."
   ]
  },
  {
   "cell_type": "code",
   "execution_count": null,
   "id": "cfdf1b70",
   "metadata": {},
   "outputs": [],
   "source": []
  },
  {
   "cell_type": "markdown",
   "id": "ab3699be",
   "metadata": {},
   "source": [
    "## 🔶 16. Nested Default Dictionary (AutoDict)\n",
    "Create a dictionary that automatically creates nested dictionaries when accessing missing keys.\n",
    "(Hint: use `collections.defaultdict`)"
   ]
  },
  {
   "cell_type": "code",
   "execution_count": null,
   "id": "4160c2c9",
   "metadata": {},
   "outputs": [],
   "source": []
  },
  {
   "cell_type": "markdown",
   "id": "92d0adad",
   "metadata": {},
   "source": [
    "## 🔶 17. Find Keys Matching Condition\n",
    "Given a dictionary, find all keys whose values are greater than the average of all values."
   ]
  },
  {
   "cell_type": "code",
   "execution_count": null,
   "id": "6b251774",
   "metadata": {},
   "outputs": [],
   "source": []
  },
  {
   "cell_type": "markdown",
   "id": "19f32f13",
   "metadata": {},
   "source": [
    "## 🔶 18. Dictionary from String Parsing\n",
    "Parse the string `'a=10,b=20,c=30'` into a dictionary `{'a': 10, 'b': 20, 'c': 30}`."
   ]
  },
  {
   "cell_type": "code",
   "execution_count": null,
   "id": "4b58c3fe",
   "metadata": {},
   "outputs": [],
   "source": []
  },
  {
   "cell_type": "markdown",
   "id": "66a37301",
   "metadata": {},
   "source": [
    "## 🔶 19. Remove Keys by Value Type\n",
    "Remove all keys from a dictionary whose values are of type `str`."
   ]
  },
  {
   "cell_type": "code",
   "execution_count": null,
   "id": "6e63fb9d",
   "metadata": {},
   "outputs": [],
   "source": []
  },
  {
   "cell_type": "markdown",
   "id": "c96591ec",
   "metadata": {},
   "source": [
    "## 🔶 20. Nested Sum\n",
    "Compute the sum of all numeric values in a nested dictionary."
   ]
  },
  {
   "cell_type": "code",
   "execution_count": null,
   "id": "4a0e31d3",
   "metadata": {},
   "outputs": [],
   "source": []
  }
 ],
 "metadata": {
  "kernelspec": {
   "display_name": "",
   "name": ""
  },
  "language_info": {
   "name": ""
  }
 },
 "nbformat": 4,
 "nbformat_minor": 5
}
