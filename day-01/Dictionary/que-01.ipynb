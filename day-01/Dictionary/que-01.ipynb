{
 "cells": [
  {
   "cell_type": "markdown",
   "id": "bd25fb66",
   "metadata": {
    "editable": true,
    "slideshow": {
     "slide_type": ""
    },
    "tags": []
   },
   "source": [
    "## 🟡 1. Merge Dictionaries\n",
    "\n",
    "Create two dictionaries:\n",
    "```python\n",
    "d1 = {'a': 10, 'b': 20}\n",
    "d2 = {'b': 30, 'c': 40}\n",
    "```\n",
    "Merge them so that if a key exists in both, the value from `d2` is used."
   ]
  },
  {
   "cell_type": "code",
   "execution_count": 2,
   "id": "6e6e8f05",
   "metadata": {},
   "outputs": [
    {
     "name": "stdout",
     "output_type": "stream",
     "text": [
      "{'a': 10, 'b': 30, 'c': 40}\n"
     ]
    }
   ],
   "source": [
    "d1 = {'a': 10, 'b': 20}\n",
    "d2 = {'b': 30, 'c': 40}\n",
    "\n",
    "d3= d1 | d2\n",
    "print(d3)"
   ]
  },
  {
   "cell_type": "markdown",
   "id": "72c44cb9",
   "metadata": {},
   "source": [
    "## 🟡 2. Dictionary from Keys\n",
    "\n",
    "Use `fromkeys()` to create a dictionary with keys `['x', 'y', 'z']` and default value `0`."
   ]
  },
  {
   "cell_type": "code",
   "execution_count": 8,
   "id": "6fd76a77",
   "metadata": {},
   "outputs": [
    {
     "name": "stdout",
     "output_type": "stream",
     "text": [
      "{'x': 0, 'y': 0, 'z': 0}\n",
      "<class 'dict'>\n"
     ]
    }
   ],
   "source": [
    "d = {}\n",
    "d = d.fromkeys(['x', 'y', 'z'], 0)\n",
    "print(d)\n",
    "print(type(d))\n"
   ]
  },
  {
   "cell_type": "markdown",
   "id": "afb5f2c1",
   "metadata": {},
   "source": [
    "## 🟡 3. Key-Value Loop\n",
    "\n",
    "Write a program to print all keys and values of a given dictionary in the format `key --> value`."
   ]
  },
  {
   "cell_type": "code",
   "execution_count": null,
   "id": "3f195876",
   "metadata": {},
   "outputs": [],
   "source": []
  },
  {
   "cell_type": "markdown",
   "id": "fe1f04d1",
   "metadata": {},
   "source": [
    "## 🟡 4. Set Default Value\n",
    "\n",
    "Given `student = {'name': 'Aman', 'age': 21}`, use `setdefault()` to add a missing key `'course'` with value `'Python'`."
   ]
  },
  {
   "cell_type": "code",
   "execution_count": 10,
   "id": "bf927699",
   "metadata": {},
   "outputs": [
    {
     "name": "stdout",
     "output_type": "stream",
     "text": [
      "python\n",
      "{'name': 'Aman', 'age': 21, 'course': 'python'}\n"
     ]
    }
   ],
   "source": [
    "student = {'name': 'Aman', 'age': 21}\n",
    "print(student.setdefault(\"course\",\"python\"))\n",
    "print(student)\n"
   ]
  },
  {
   "cell_type": "markdown",
   "id": "7dc11873",
   "metadata": {},
   "source": [
    "## 🟡 5. Nested Dictionary Access\n",
    "\n",
    "Given the dictionary:\n",
    "```python\n",
    "students = {\n",
    "    'A': {'math': 85, 'science': 90},\n",
    "    'B': {'math': 78, 'science': 88}\n",
    "}\n",
    "```\n",
    "Access and print **B’s science marks**."
   ]
  },
  {
   "cell_type": "code",
   "execution_count": 17,
   "id": "e8d36acc",
   "metadata": {},
   "outputs": [
    {
     "name": "stdout",
     "output_type": "stream",
     "text": [
      "88\n",
      "None\n"
     ]
    }
   ],
   "source": [
    "students = {\n",
    "    'A': {'math': 85, 'science': 90},\n",
    "    'B': {'math': 78, 'science': 88}\n",
    "}\n",
    "print(students[\"B\"][\"science\"])\n",
    "print(students.get(\"c\", {}).get(\"science\"))\n"
   ]
  },
  {
   "cell_type": "markdown",
   "id": "076feb1b",
   "metadata": {},
   "source": [
    "## 🔵 6. Character Frequency Counter\n",
    "\n",
    "Write a program that takes a string input and counts the frequency of each character using a dictionary."
   ]
  },
  {
   "cell_type": "code",
   "execution_count": null,
   "id": "5283b021",
   "metadata": {},
   "outputs": [],
   "source": []
  },
  {
   "cell_type": "markdown",
   "id": "c03f66f2",
   "metadata": {},
   "source": [
    "## 🔵 7. Invert a Dictionary\n",
    "\n",
    "Given a dictionary `{ 'a': 1, 'b': 2, 'c': 1 }`, invert it so that the values become keys and keys become values. (If a value appears more than once, store its keys in a list.)"
   ]
  },
  {
   "cell_type": "code",
   "execution_count": null,
   "id": "4a22abb6",
   "metadata": {},
   "outputs": [],
   "source": []
  },
  {
   "cell_type": "markdown",
   "id": "6d5590b4",
   "metadata": {},
   "source": [
    "## 🔵 8. Highest and Lowest Marks\n",
    "\n",
    "Create a dictionary of students and their marks. Find the student(s) with the **highest** and **lowest** marks."
   ]
  },
  {
   "cell_type": "code",
   "execution_count": null,
   "id": "41cf11f4",
   "metadata": {},
   "outputs": [],
   "source": []
  },
  {
   "cell_type": "markdown",
   "id": "dfebb520",
   "metadata": {},
   "source": [
    "## 🔵 9. Combine Lists into Dictionary\n",
    "\n",
    "Given two lists:\n",
    "```python\n",
    "keys = ['name', 'age', 'city']\n",
    "values = ['Priyanshu', 21, 'Delhi']\n",
    "```\n",
    "Combine them into a dictionary using `zip()`."
   ]
  },
  {
   "cell_type": "code",
   "execution_count": null,
   "id": "73bacb5c",
   "metadata": {},
   "outputs": [],
   "source": []
  },
  {
   "cell_type": "markdown",
   "id": "f0245353",
   "metadata": {},
   "source": [
    "## 🔵 10. Filter Dictionary\n",
    "\n",
    "Given a dictionary of items and prices, create a new dictionary that only contains items with prices greater than 1000."
   ]
  },
  {
   "cell_type": "code",
   "execution_count": null,
   "id": "35db3a5f",
   "metadata": {},
   "outputs": [],
   "source": []
  },
  {
   "cell_type": "markdown",
   "id": "92ca3213",
   "metadata": {},
   "source": [
    "## 🔵 11. Count Word Frequency in Sentence\n",
    "\n",
    "Write a program to count the frequency of each word in a sentence using a dictionary."
   ]
  },
  {
   "cell_type": "code",
   "execution_count": null,
   "id": "540215ef",
   "metadata": {},
   "outputs": [],
   "source": []
  },
  {
   "cell_type": "markdown",
   "id": "30f09d97",
   "metadata": {},
   "source": [
    "## 🔵 12. Nested Dictionary Update\n",
    "\n",
    "Given a nested dictionary of students and subjects, add a new subject `'english': 92` for all students."
   ]
  },
  {
   "cell_type": "code",
   "execution_count": null,
   "id": "388c3080",
   "metadata": {},
   "outputs": [],
   "source": []
  },
  {
   "cell_type": "markdown",
   "id": "e5948f77",
   "metadata": {},
   "source": [
    "## 🔵 13. Dictionary Comprehension Challenge\n",
    "\n",
    "Create a dictionary using comprehension where the keys are numbers from 1 to 10 and the values are `'even'` or `'odd'` depending on the key."
   ]
  },
  {
   "cell_type": "code",
   "execution_count": null,
   "id": "d2f645fe",
   "metadata": {},
   "outputs": [],
   "source": []
  },
  {
   "cell_type": "markdown",
   "id": "f72a5d74",
   "metadata": {},
   "source": [
    "## 🔵 14. Sort Dictionary by Value\n",
    "\n",
    "Given a dictionary of student marks, sort it by values (marks) in **descending** order and print the sorted dictionary."
   ]
  },
  {
   "cell_type": "code",
   "execution_count": null,
   "id": "6c79ef2c",
   "metadata": {},
   "outputs": [],
   "source": []
  },
  {
   "cell_type": "markdown",
   "id": "d8b6390d",
   "metadata": {},
   "source": [
    "## 🔵 15. Merge Multiple Dictionaries\n",
    "\n",
    "You have a list of dictionaries:\n",
    "```python\n",
    "dicts = [ {'a': 1, 'b': 2}, {'b': 3, 'c': 4}, {'d': 5} ]\n",
    "```\n",
    "Merge them all into a single dictionary."
   ]
  },
  {
   "cell_type": "code",
   "execution_count": null,
   "id": "c4968979",
   "metadata": {},
   "outputs": [],
   "source": []
  }
 ],
 "metadata": {
  "kernelspec": {
   "display_name": "Python 3 (ipykernel)",
   "language": "python",
   "name": "python3"
  },
  "language_info": {
   "codemirror_mode": {
    "name": "ipython",
    "version": 3
   },
   "file_extension": ".py",
   "mimetype": "text/x-python",
   "name": "python",
   "nbconvert_exporter": "python",
   "pygments_lexer": "ipython3",
   "version": "3.12.9"
  }
 },
 "nbformat": 4,
 "nbformat_minor": 5
}
