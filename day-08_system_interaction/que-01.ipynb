{
 "cells": [
  {
   "cell_type": "markdown",
   "id": "581952ca",
   "metadata": {},
   "source": [
    "# Python System & I/O Practice Notebook\n"
   ]
  },
  {
   "cell_type": "code",
   "execution_count": null,
   "id": "6085944c",
   "metadata": {},
   "outputs": [],
   "source": [
    "# Imports and common setup\n",
    "import sys\n",
    "import os\n",
    "from pathlib import Path\n",
    "import json\n",
    "import csv\n",
    "import shutil\n",
    "import subprocess\n",
    "from dotenv import load_dotenv, dotenv_values, set_key, get_key, unset_key, find_dotenv\n",
    "\n",
    "# Helpful variables for exercises\n",
    "ROOT = Path.cwd() / \"practice_workspace\"\n",
    "ROOT.mkdir(exist_ok=True)\n",
    "print(\"Practice workspace:\", ROOT)\n"
   ]
  },
  {
   "cell_type": "markdown",
   "id": "5e9f1ef4",
   "metadata": {},
   "source": [
    "### Problem 1\n",
    "\n",
    "Create a new directory structure under `practice_workspace` named `project/{data,src,logs}` and verify it exists using `pathlib`.\n",
    "\n",
    "**Hints:** Use appropriate standard-library modules (`sys`, `os`, `pathlib`, `json`, `csv`, `shutil`, `subprocess`, `dotenv`)."
   ]
  },
  {
   "cell_type": "code",
   "execution_count": 16,
   "id": "6c203bb7",
   "metadata": {},
   "outputs": [],
   "source": [
    "# # Q1: Create directories\n",
    "# # PROJECT = ROOT / 'project'\n",
    "# # TODO: create directories 'data', 'src', 'logs' under PROJECT\n",
    "\n",
    "# from pathlib import Path\n",
    "# import os\n",
    "\n",
    "# dir_path =Path(\"project\")\n",
    "# dir_path.mkdir(exist_ok=True)\n",
    "\n",
    "# file_path=dir_path / \"file.txt\"\n",
    "\n",
    "# with file_path.open(\"w\") as f:\n",
    "#     f.write(\"hello\")\n",
    "\n",
    "# dir2=dir_path / \"nested_dir\"\n",
    "# dir2.mkdir(exist_ok=True)\n",
    "                \n",
    "\n",
    " "
   ]
  },
  {
   "cell_type": "code",
   "execution_count": 32,
   "id": "355c7da6-f453-4145-88fd-9980514897c1",
   "metadata": {},
   "outputs": [
    {
     "name": "stdout",
     "output_type": "stream",
     "text": [
      "file.txt\n",
      "newdir\n",
      "file\n",
      ".txt\n",
      "/\n",
      "file.txt\n"
     ]
    },
    {
     "data": {
      "text/plain": [
       "True"
      ]
     },
     "execution_count": 32,
     "metadata": {},
     "output_type": "execute_result"
    }
   ],
   "source": [
    "# from pathlib import Path\n",
    "\n",
    "# p1=Path()\n",
    "# p2=Path(\"newdir\")\n",
    "# p3=Path(\"/home/deepak/Python4Devops/day-08_system_interaction/project/file.txt\")\n",
    "\n",
    "# print(p3.name)\n",
    "# print(p2.name)\n",
    "# print(p3.stem)\n",
    "# print(p3.suffix)\n",
    "# print(p3.anchor)\n",
    "\n",
    "\n",
    "# base=Path(\"dir1\")\n",
    "# new_file=base / \"nes_dir\" / \"file.txt\"\n",
    "\n",
    "# print(new_file.name)\n",
    "# new_file.exists()\n",
    "# p3.exists()"
   ]
  },
  {
   "cell_type": "code",
   "execution_count": 47,
   "id": "8a1d40e9-b81f-4fc7-a51f-ba53327baa4f",
   "metadata": {},
   "outputs": [
    {
     "name": "stdout",
     "output_type": "stream",
     "text": [
      "hello deepak\n",
      "/home/deepak/Python4Devops/day-08_system_interaction/project/data.txt\n",
      "/home/deepak/Python4Devops/day-08_system_interaction/project/data.txt\n",
      "4096\n",
      "1760726090.8751237\n"
     ]
    },
    {
     "data": {
      "text/plain": [
       "\n",
       "IPython -- An enhanced Interactive Python\n",
       "=========================================\n",
       "\n",
       "IPython offers a fully compatible replacement for the standard Python\n",
       "interpreter, with convenient shell features, special commands, command\n",
       "history mechanism and output results caching.\n",
       "\n",
       "At your system command line, type 'ipython -h' to see the command line\n",
       "options available. This document only describes interactive features.\n",
       "\n",
       "GETTING HELP\n",
       "------------\n",
       "\n",
       "Within IPython you have various way to access help:\n",
       "\n",
       "  ?         -> Introduction and overview of IPython's features (this screen).\n",
       "  object?   -> Details about 'object'.\n",
       "  object??  -> More detailed, verbose information about 'object'.\n",
       "  %quickref -> Quick reference of all IPython specific syntax and magics.\n",
       "  help      -> Access Python's own help system.\n",
       "\n",
       "If you are in terminal IPython you can quit this screen by pressing `q`.\n",
       "\n",
       "\n",
       "MAIN FEATURES\n",
       "-------------\n",
       "\n",
       "* Access to the standard Python help with object docstrings and the Python\n",
       "  manuals. Simply type 'help' (no quotes) to invoke it.\n",
       "\n",
       "* Magic commands: type %magic for information on the magic subsystem.\n",
       "\n",
       "* System command aliases, via the %alias command or the configuration file(s).\n",
       "\n",
       "* Dynamic object information:\n",
       "\n",
       "  Typing ?word or word? prints detailed information about an object. Certain\n",
       "  long strings (code, etc.) get snipped in the center for brevity.\n",
       "\n",
       "  Typing ??word or word?? gives access to the full information without\n",
       "  snipping long strings. Strings that are longer than the screen are printed\n",
       "  through the less pager.\n",
       "\n",
       "  The ?/?? system gives access to the full source code for any object (if\n",
       "  available), shows function prototypes and other useful information.\n",
       "\n",
       "  If you just want to see an object's docstring, type '%pdoc object' (without\n",
       "  quotes, and without % if you have automagic on).\n",
       "\n",
       "* Tab completion in the local namespace:\n",
       "\n",
       "  At any time, hitting tab will complete any available python commands or\n",
       "  variable names, and show you a list of the possible completions if there's\n",
       "  no unambiguous one. It will also complete filenames in the current directory.\n",
       "\n",
       "* Search previous command history in multiple ways:\n",
       "\n",
       "  - Start typing, and then use arrow keys up/down or (Ctrl-p/Ctrl-n) to search\n",
       "    through the history items that match what you've typed so far.\n",
       "\n",
       "  - Hit Ctrl-r: opens a search prompt. Begin typing and the system searches\n",
       "    your history for lines that match what you've typed so far, completing as\n",
       "    much as it can.\n",
       "\n",
       "  - %hist: search history by index.\n",
       "\n",
       "* Persistent command history across sessions.\n",
       "\n",
       "* Logging of input with the ability to save and restore a working session.\n",
       "\n",
       "* System shell with !. Typing !ls will run 'ls' in the current directory.\n",
       "\n",
       "* The reload command does a 'deep' reload of a module: changes made to the\n",
       "  module since you imported will actually be available without having to exit.\n",
       "\n",
       "* Verbose and colored exception traceback printouts. See the magic xmode and\n",
       "  xcolor functions for details (just type %magic).\n",
       "\n",
       "* Input caching system:\n",
       "\n",
       "  IPython offers numbered prompts (In/Out) with input and output caching. All\n",
       "  input is saved and can be retrieved as variables (besides the usual arrow\n",
       "  key recall).\n",
       "\n",
       "  The following GLOBAL variables always exist (so don't overwrite them!):\n",
       "  _i: stores previous input.\n",
       "  _ii: next previous.\n",
       "  _iii: next-next previous.\n",
       "  _ih : a list of all input _ih[n] is the input from line n.\n",
       "\n",
       "  Additionally, global variables named _i<n> are dynamically created (<n>\n",
       "  being the prompt counter), such that _i<n> == _ih[<n>]\n",
       "\n",
       "  For example, what you typed at prompt 14 is available as _i14 and _ih[14].\n",
       "\n",
       "  You can create macros which contain multiple input lines from this history,\n",
       "  for later re-execution, with the %macro function.\n",
       "\n",
       "  The history function %hist allows you to see any part of your input history\n",
       "  by printing a range of the _i variables. Note that inputs which contain\n",
       "  magic functions (%) appear in the history with a prepended comment. This is\n",
       "  because they aren't really valid Python code, so you can't exec them.\n",
       "\n",
       "* Output caching system:\n",
       "\n",
       "  For output that is returned from actions, a system similar to the input\n",
       "  cache exists but using _ instead of _i. Only actions that produce a result\n",
       "  (NOT assignments, for example) are cached. If you are familiar with\n",
       "  Mathematica, IPython's _ variables behave exactly like Mathematica's %\n",
       "  variables.\n",
       "\n",
       "  The following GLOBAL variables always exist (so don't overwrite them!):\n",
       "  _ (one underscore): previous output.\n",
       "  __ (two underscores): next previous.\n",
       "  ___ (three underscores): next-next previous.\n",
       "\n",
       "  Global variables named _<n> are dynamically created (<n> being the prompt\n",
       "  counter), such that the result of output <n> is always available as _<n>.\n",
       "\n",
       "  Finally, a global dictionary named _oh exists with entries for all lines\n",
       "  which generated output.\n",
       "\n",
       "* Directory history:\n",
       "\n",
       "  Your history of visited directories is kept in the global list _dh, and the\n",
       "  magic %cd command can be used to go to any entry in that list.\n",
       "\n",
       "* Auto-parentheses and auto-quotes (adapted from Nathan Gray's LazyPython)\n",
       "\n",
       "  1. Auto-parentheses\n",
       "        \n",
       "     Callable objects (i.e. functions, methods, etc) can be invoked like\n",
       "     this (notice the commas between the arguments)::\n",
       "       \n",
       "         In [1]: callable_ob arg1, arg2, arg3\n",
       "       \n",
       "     and the input will be translated to this::\n",
       "       \n",
       "         callable_ob(arg1, arg2, arg3)\n",
       "       \n",
       "     This feature is off by default (in rare cases it can produce\n",
       "     undesirable side-effects), but you can activate it at the command-line\n",
       "     by starting IPython with `--autocall 1`, set it permanently in your\n",
       "     configuration file, or turn on at runtime with `%autocall 1`.\n",
       "\n",
       "     You can force auto-parentheses by using '/' as the first character\n",
       "     of a line.  For example::\n",
       "       \n",
       "          In [1]: /globals             # becomes 'globals()'\n",
       "       \n",
       "     Note that the '/' MUST be the first character on the line!  This\n",
       "     won't work::\n",
       "       \n",
       "          In [2]: print /globals    # syntax error\n",
       "\n",
       "     In most cases the automatic algorithm should work, so you should\n",
       "     rarely need to explicitly invoke /. One notable exception is if you\n",
       "     are trying to call a function with a list of tuples as arguments (the\n",
       "     parenthesis will confuse IPython)::\n",
       "       \n",
       "          In [1]: zip (1,2,3),(4,5,6)  # won't work\n",
       "       \n",
       "     but this will work::\n",
       "       \n",
       "          In [2]: /zip (1,2,3),(4,5,6)\n",
       "          ------> zip ((1,2,3),(4,5,6))\n",
       "          Out[2]= [(1, 4), (2, 5), (3, 6)]\n",
       "\n",
       "     IPython tells you that it has altered your command line by\n",
       "     displaying the new command line preceded by -->.  e.g.::\n",
       "       \n",
       "          In [18]: callable list\n",
       "          -------> callable (list)\n",
       "\n",
       "  2. Auto-Quoting\n",
       "    \n",
       "     You can force auto-quoting of a function's arguments by using ',' as\n",
       "     the first character of a line.  For example::\n",
       "       \n",
       "          In [1]: ,my_function /home/me   # becomes my_function(\"/home/me\")\n",
       "\n",
       "     If you use ';' instead, the whole argument is quoted as a single\n",
       "     string (while ',' splits on whitespace)::\n",
       "       \n",
       "          In [2]: ,my_function a b c   # becomes my_function(\"a\",\"b\",\"c\")\n",
       "          In [3]: ;my_function a b c   # becomes my_function(\"a b c\")\n",
       "\n",
       "     Note that the ',' MUST be the first character on the line!  This\n",
       "     won't work::\n",
       "       \n",
       "          In [4]: x = ,my_function /home/me    # syntax error\n"
      ]
     },
     "metadata": {},
     "output_type": "display_data"
    }
   ],
   "source": [
    "# from pathlib import Path\n",
    "\n",
    "# file=Path(\"testfile.txt\")\n",
    "# # file.write_text(\"hjekllo\")\n",
    "# # print(file.read_text())\n",
    "\n",
    "# with open(file,\"w\",encoding=\"utf-8\") as f:\n",
    "#     f.write(\"hello deepak\")\n",
    "\n",
    "# with file.open(\"r\") as f:\n",
    "#     print(f.read())\n",
    "\n",
    "\n",
    "\n",
    "# d = Path(\"project\")\n",
    "# ?\n",
    "\n",
    "# # List all items\n",
    "# for item in d.iterdir():\n",
    "#     print(item)\n",
    "\n",
    "# # Filter only files\n",
    "# for f in d.iterdir():\n",
    "#     if f.is_file():\n",
    "#         print(\"File:\", f)\n",
    "\n",
    "\n",
    "# p = Path(\"project/data.txt\")\n",
    "\n",
    "# print(p.resolve())       # Full absolute path\n",
    "# print(p.absolute())      # Similar (but no symlink resolution)\n",
    "# p = Path(\"project/data.txt\")\n",
    "# p.mkdir()\n",
    "\n",
    "# stat = p.stat()\n",
    "# print(stat.st_size)      # File size in bytes\n",
    "# print(stat.st_mtime)     # Modified time\n",
    "\n",
    "\n"
   ]
  },
  {
   "cell_type": "markdown",
   "id": "1a1e5ef6",
   "metadata": {},
   "source": [
    "### Problem 2\n",
    "\n",
    "Write a function that lists all `.py` files recursively under `practice_workspace` and returns their relative paths.\n",
    "\n",
    "**Hints:** Use appropriate standard-library modules (`sys`, `os`, `pathlib`, `json`, `csv`, `shutil`, `subprocess`, `dotenv`)."
   ]
  },
  {
   "cell_type": "code",
   "execution_count": 72,
   "id": "5d966f4c",
   "metadata": {},
   "outputs": [
    {
     "name": "stdout",
     "output_type": "stream",
     "text": [
      "1 : /home/deepak/.wget-hsts --- True\n",
      "2 : /home/deepak/Python4Devops --- True\n",
      "3 : /home/deepak/.ssh --- True\n",
      "4 : /home/deepak/aws --- True\n",
      "5 : /home/deepak/.local --- True\n",
      "6 : /home/deepak/python_project --- True\n",
      "7 : /home/deepak/.terraform.d --- True\n",
      "8 : /home/deepak/.ipython --- True\n",
      "9 : /home/deepak/.lesshst --- True\n",
      "10 : /home/deepak/.python_history --- True\n",
      "11 : /home/deepak/shell_scripting --- True\n",
      "12 : /home/deepak/d --- True\n",
      "13 : /home/deepak/.sudo_as_admin_successful --- True\n",
      "14 : /home/deepak/.profile --- True\n",
      "15 : /home/deepak/.vscode-remote-containers --- True\n",
      "16 : /home/deepak/.bash_logout --- True\n",
      "17 : /home/deepak/.gitconfig --- True\n",
      "18 : /home/deepak/.dotnet --- True\n",
      "19 : /home/deepak/.vscode-server --- True\n",
      "20 : /home/deepak/.motd_shown --- True\n",
      "21 : /home/deepak/project-01 --- True\n",
      "22 : /home/deepak/.cache --- True\n",
      "23 : /home/deepak/.gnupg --- True\n",
      "24 : /home/deepak/.ansible --- True\n",
      "25 : /home/deepak/.bashrc --- True\n",
      "26 : /home/deepak/.bash_history --- True\n",
      "27 : /home/deepak/.aws --- True\n",
      "28 : /home/deepak/.jupyter --- True\n",
      "29 : /home/deepak/awscli-bundle --- True\n"
     ]
    }
   ],
   "source": [
    "from pathlib import Path\n",
    "import os\n",
    "\n",
    "def list_dir(path):\n",
    "    return os.listdir(path)\n",
    "\n",
    "base = Path(\"/home/deepak\")\n",
    "l = list_dir(base)\n",
    "\n",
    "for i, item in enumerate(l, start=1):\n",
    "    full_path = base / item\n",
    "    print(f\"{i} : {full_path.resolve()} --- {full_path.exists()}\")"
   ]
  },
  {
   "cell_type": "markdown",
   "id": "5435e5c5",
   "metadata": {},
   "source": [
    "### Problem 3\n",
    "\n",
    "Using `sys.argv` simulation, write code that accepts a filename argument and prints its absolute path. Provide a fallback if no arg passed.\n",
    "\n",
    "**Hints:** Use appropriate standard-library modules (`sys`, `os`, `pathlib`, `json`, `csv`, `shutil`, `subprocess`, `dotenv`)."
   ]
  },
  {
   "cell_type": "code",
   "execution_count": null,
   "id": "d365e434",
   "metadata": {},
   "outputs": [],
   "source": [
    "# Q3: Simulate sys.argv\n",
    "# TODO: use sys.argv or set a default filename and print absolute path\n",
    "\n",
    "\n",
    "# ====== Your implementation above this line ======\n"
   ]
  },
  {
   "cell_type": "markdown",
   "id": "111431d8",
   "metadata": {},
   "source": [
    "### Problem 4\n",
    "\n",
    "Read a JSON file `config.json` (create it if missing) with keys `name` and `version`. If missing, write default values and load them.\n",
    "\n",
    "**Hints:** Use appropriate standard-library modules (`sys`, `os`, `pathlib`, `json`, `csv`, `shutil`, `subprocess`, `dotenv`)."
   ]
  },
  {
   "cell_type": "code",
   "execution_count": null,
   "id": "a31db5ea",
   "metadata": {},
   "outputs": [],
   "source": [
    "# Q4: Read or create config.json\n",
    "cfg_path = ROOT / 'config.json'\n",
    "# TODO: ensure cfg_path exists with default content if missing, then load into a dict\n",
    "\n",
    "\n",
    "# ====== Your implementation above this line ======\n"
   ]
  },
  {
   "cell_type": "markdown",
   "id": "04879d1f",
   "metadata": {},
   "source": [
    "### Problem 5\n",
    "\n",
    "Write a function that appends a row to `data/records.csv` with columns `id,name,score`. Create the CSV with a header if it doesn't exist.\n",
    "\n",
    "**Hints:** Use appropriate standard-library modules (`sys`, `os`, `pathlib`, `json`, `csv`, `shutil`, `subprocess`, `dotenv`)."
   ]
  },
  {
   "cell_type": "code",
   "execution_count": null,
   "id": "9c4b4142",
   "metadata": {},
   "outputs": [],
   "source": [
    "# Q5: Append row to CSV\n",
    "csv_path = PROJECT / 'data' / 'records.csv'\n",
    "# TODO: append a row (generate id) and create header if needed\n",
    "\n",
    "\n",
    "# ====== Your implementation above this line ======\n"
   ]
  },
  {
   "cell_type": "markdown",
   "id": "7d0a9a90",
   "metadata": {},
   "source": [
    "### Problem 6\n",
    "\n",
    "Use `shutil` to copy a sample file from `src/sample.txt` to `data/sample_copy.txt`, preserving metadata.\n",
    "\n",
    "**Hints:** Use appropriate standard-library modules (`sys`, `os`, `pathlib`, `json`, `csv`, `shutil`, `subprocess`, `dotenv`)."
   ]
  },
  {
   "cell_type": "code",
   "execution_count": null,
   "id": "2a3e9d15",
   "metadata": {},
   "outputs": [],
   "source": [
    "# Q6: Copy file preserving metadata\n",
    "src = PROJECT / 'src' / 'sample.txt'\n",
    "dst = PROJECT / 'data' / 'sample_copy.txt'\n",
    "# TODO: copy src -> dst with metadata (copy2)\n",
    "\n",
    "\n",
    "# ====== Your implementation above this line ======\n"
   ]
  },
  {
   "cell_type": "markdown",
   "id": "0878c0ae",
   "metadata": {},
   "source": [
    "### Problem 7\n",
    "\n",
    "Implement a safe `remove_dir` function that deletes a directory tree but never deletes outside `practice_workspace` (protect against path traversal).\n",
    "\n",
    "**Hints:** Use appropriate standard-library modules (`sys`, `os`, `pathlib`, `json`, `csv`, `shutil`, `subprocess`, `dotenv`)."
   ]
  },
  {
   "cell_type": "code",
   "execution_count": null,
   "id": "96326120",
   "metadata": {},
   "outputs": [],
   "source": [
    "# Q7: Safe rmtree\n",
    "# TODO: implement remove_dir(path: Path)\n",
    "\n",
    "\n",
    "# ====== Your implementation above this line ======\n"
   ]
  },
  {
   "cell_type": "markdown",
   "id": "c7585274",
   "metadata": {},
   "source": [
    "### Problem 8\n",
    "\n",
    "Use `subprocess` to run `python --version` (or sys.executable -V) and capture the output string.\n",
    "\n",
    "**Hints:** Use appropriate standard-library modules (`sys`, `os`, `pathlib`, `json`, `csv`, `shutil`, `subprocess`, `dotenv`)."
   ]
  },
  {
   "cell_type": "code",
   "execution_count": null,
   "id": "610cf99f",
   "metadata": {},
   "outputs": [],
   "source": [
    "# Q8: Run subprocess to get Python version\n",
    "# TODO: run subprocess and capture output\n",
    "\n",
    "\n",
    "# ====== Your implementation above this line ======\n"
   ]
  },
  {
   "cell_type": "markdown",
   "id": "cd774a42",
   "metadata": {},
   "source": [
    "### Problem 9\n",
    "\n",
    "Create a `.env` file in the workspace with variables `APP_ENV=dev` and `DEBUG=True` using `set_key`, then load it with `load_dotenv` and print `os.getenv('APP_ENV')`.\n",
    "\n",
    "**Hints:** Use appropriate standard-library modules (`sys`, `os`, `pathlib`, `json`, `csv`, `shutil`, `subprocess`, `dotenv`)."
   ]
  },
  {
   "cell_type": "code",
   "execution_count": null,
   "id": "d55c2a02",
   "metadata": {},
   "outputs": [],
   "source": [
    "# Q9: Create and load .env\n",
    "env_path = ROOT / '.env'\n",
    "# TODO: set keys and load them\n",
    "\n",
    "\n",
    "# ====== Your implementation above this line ======\n"
   ]
  },
  {
   "cell_type": "markdown",
   "id": "9983f76b",
   "metadata": {},
   "source": [
    "### Problem 10\n",
    "\n",
    "Write code to safely read `records.csv` and compute the average of the `score` column (handle missing or malformed rows).\n",
    "\n",
    "**Hints:** Use appropriate standard-library modules (`sys`, `os`, `pathlib`, `json`, `csv`, `shutil`, `subprocess`, `dotenv`)."
   ]
  },
  {
   "cell_type": "code",
   "execution_count": null,
   "id": "f86a8d81",
   "metadata": {},
   "outputs": [],
   "source": [
    "# Q10: Average score from CSV\n",
    "# TODO: read CSV and compute average\n",
    "\n",
    "\n",
    "# ====== Your implementation above this line ======\n"
   ]
  },
  {
   "cell_type": "markdown",
   "id": "51188ae1",
   "metadata": {},
   "source": [
    "### Problem 11\n",
    "\n",
    "Write a function that finds duplicate filenames (by name only) in `practice_workspace` and returns groups of duplicates using `os.walk` or `pathlib`.\n",
    "\n",
    "**Hints:** Use appropriate standard-library modules (`sys`, `os`, `pathlib`, `json`, `csv`, `shutil`, `subprocess`, `dotenv`)."
   ]
  },
  {
   "cell_type": "code",
   "execution_count": null,
   "id": "fae68efd",
   "metadata": {},
   "outputs": [],
   "source": [
    "# Q11: Find duplicate filenames\n",
    "# TODO: implement find_duplicates(root: Path) -> dict\n",
    "\n",
    "\n",
    "# ====== Your implementation above this line ======\n"
   ]
  },
  {
   "cell_type": "markdown",
   "id": "4308a27e",
   "metadata": {},
   "source": [
    "### Problem 12\n",
    "\n",
    "Use `json` to pretty-print the loaded `config.json` to stdout with indent=4 and ensure keys are sorted.\n",
    "\n",
    "**Hints:** Use appropriate standard-library modules (`sys`, `os`, `pathlib`, `json`, `csv`, `shutil`, `subprocess`, `dotenv`)."
   ]
  },
  {
   "cell_type": "code",
   "execution_count": null,
   "id": "f1a7a5b2",
   "metadata": {},
   "outputs": [],
   "source": [
    "# Q12: Pretty-print config.json\n",
    "# TODO: load and pretty-print the JSON\n",
    "\n",
    "\n",
    "# ====== Your implementation above this line ======\n"
   ]
  },
  {
   "cell_type": "markdown",
   "id": "32d3b22d",
   "metadata": {},
   "source": [
    "### Problem 13\n",
    "\n",
    "Create a backup archive `project_backup.zip` of the `project` directory using `shutil.make_archive`.\n",
    "\n",
    "**Hints:** Use appropriate standard-library modules (`sys`, `os`, `pathlib`, `json`, `csv`, `shutil`, `subprocess`, `dotenv`)."
   ]
  },
  {
   "cell_type": "code",
   "execution_count": null,
   "id": "933b577e",
   "metadata": {},
   "outputs": [],
   "source": [
    "# Q13: Create archive\n",
    "# TODO: make a ZIP archive of PROJECT\n",
    "\n",
    "\n",
    "# ====== Your implementation above this line ======\n"
   ]
  },
  {
   "cell_type": "markdown",
   "id": "71b5a53e",
   "metadata": {},
   "source": [
    "### Problem 14\n",
    "\n",
    "Extract the archive you just created into `practice_workspace/restored` using `shutil.unpack_archive`.\n",
    "\n",
    "**Hints:** Use appropriate standard-library modules (`sys`, `os`, `pathlib`, `json`, `csv`, `shutil`, `subprocess`, `dotenv`)."
   ]
  },
  {
   "cell_type": "code",
   "execution_count": null,
   "id": "0ac01bb1",
   "metadata": {},
   "outputs": [],
   "source": [
    "# Q14: Extract archive\n",
    "# TODO: unpack archive into RESTORED dir\n",
    "\n",
    "\n",
    "# ====== Your implementation above this line ======\n"
   ]
  },
  {
   "cell_type": "markdown",
   "id": "c909442b",
   "metadata": {},
   "source": [
    "### Problem 15\n",
    "\n",
    "Demonstrate use of `shutil.which` to check whether `git` (or another common binary) is available on PATH and print its path or 'not found'.\n",
    "\n",
    "**Hints:** Use appropriate standard-library modules (`sys`, `os`, `pathlib`, `json`, `csv`, `shutil`, `subprocess`, `dotenv`)."
   ]
  },
  {
   "cell_type": "code",
   "execution_count": null,
   "id": "c2eb1953",
   "metadata": {},
   "outputs": [],
   "source": [
    "# Q15: Check binary with shutil.which\n",
    "# TODO: check for 'git' or fallback to another executable\n",
    "\n",
    "\n",
    "# ====== Your implementation above this line ======\n"
   ]
  },
  {
   "cell_type": "markdown",
   "id": "d1c5a597",
   "metadata": {},
   "source": [
    "### Problem 16\n",
    "\n",
    "Write a script cell that uses `subprocess.Popen` to start a short-lived Python process that prints 'hello' and capture the output non-blocking (communicate).\n",
    "\n",
    "**Hints:** Use appropriate standard-library modules (`sys`, `os`, `pathlib`, `json`, `csv`, `shutil`, `subprocess`, `dotenv`)."
   ]
  },
  {
   "cell_type": "code",
   "execution_count": null,
   "id": "218ce0db",
   "metadata": {},
   "outputs": [],
   "source": [
    "# Q16: Popen communicate\n",
    "# TODO: start a process and capture stdout\n",
    "\n",
    "\n",
    "# ====== Your implementation above this line ======\n"
   ]
  },
  {
   "cell_type": "markdown",
   "id": "0e34b268",
   "metadata": {},
   "source": [
    "### Problem 17\n",
    "\n",
    "Using `pathlib`, write a function to normalize and resolve a user-supplied path (expand ~, resolve symlinks) and ensure it exists.\n",
    "\n",
    "**Hints:** Use appropriate standard-library modules (`sys`, `os`, `pathlib`, `json`, `csv`, `shutil`, `subprocess`, `dotenv`)."
   ]
  },
  {
   "cell_type": "code",
   "execution_count": null,
   "id": "f12f5ce6",
   "metadata": {},
   "outputs": [],
   "source": [
    "# Q17: Normalize path\n",
    "# TODO: implement normalize_path(p: str) -> Path\n",
    "\n",
    "\n",
    "# ====== Your implementation above this line ======\n"
   ]
  },
  {
   "cell_type": "markdown",
   "id": "b6848d63",
   "metadata": {},
   "source": [
    "### Problem 18\n",
    "\n",
    "Create a small JSON-lines file `data/records.jl` and write a function to stream-parse it (read line by line as JSON objects).\n",
    "\n",
    "**Hints:** Use appropriate standard-library modules (`sys`, `os`, `pathlib`, `json`, `csv`, `shutil`, `subprocess`, `dotenv`)."
   ]
  },
  {
   "cell_type": "code",
   "execution_count": null,
   "id": "2b2c6e63",
   "metadata": {},
   "outputs": [],
   "source": [
    "# Q18: JSON-lines streaming\n",
    "jl_path = PROJECT / 'data' / 'records.jl'\n",
    "# TODO: append/read JSON lines safely\n",
    "\n",
    "\n",
    "# ====== Your implementation above this line ======\n"
   ]
  },
  {
   "cell_type": "markdown",
   "id": "b132eb2f",
   "metadata": {},
   "source": [
    "### Problem 19\n",
    "\n",
    "Write code that uses `os.environ` to temporarily set an env var for a subprocess call only (without persisting to the current process env).\n",
    "\n",
    "**Hints:** Use appropriate standard-library modules (`sys`, `os`, `pathlib`, `json`, `csv`, `shutil`, `subprocess`, `dotenv`)."
   ]
  },
  {
   "cell_type": "code",
   "execution_count": null,
   "id": "a408ed39",
   "metadata": {},
   "outputs": [],
   "source": [
    "# Q19: Set env for subprocess only\n",
    "# TODO: run a subprocess with a modified env dict\n",
    "\n",
    "\n",
    "# ====== Your implementation above this line ======\n"
   ]
  },
  {
   "cell_type": "markdown",
   "id": "c2edf98d",
   "metadata": {},
   "source": [
    "### Problem 20\n",
    "\n",
    "Use `csv` module to read `records.csv` and write a new CSV `high_scores.csv` containing rows with score >= threshold, using proper quoting.\n",
    "\n",
    "**Hints:** Use appropriate standard-library modules (`sys`, `os`, `pathlib`, `json`, `csv`, `shutil`, `subprocess`, `dotenv`)."
   ]
  },
  {
   "cell_type": "code",
   "execution_count": null,
   "id": "0e2a21f2",
   "metadata": {},
   "outputs": [],
   "source": [
    "# Q20: Filter CSV rows\n",
    "# TODO: filter rows and write to high_scores.csv\n",
    "\n",
    "\n",
    "# ====== Your implementation above this line ======\n"
   ]
  },
  {
   "cell_type": "markdown",
   "id": "fafe06ec",
   "metadata": {},
   "source": [
    "### Problem 21\n",
    "\n",
    "Implement a function that atomically writes JSON to a file (write to temp file then move into place) using `shutil`/`pathlib` to avoid corruption.\n",
    "\n",
    "**Hints:** Use appropriate standard-library modules (`sys`, `os`, `pathlib`, `json`, `csv`, `shutil`, `subprocess`, `dotenv`)."
   ]
  },
  {
   "cell_type": "code",
   "execution_count": null,
   "id": "1fb1e376",
   "metadata": {},
   "outputs": [],
   "source": [
    "# Q21: Atomic JSON write\n",
    "# TODO: implement atomic_write_json(path: Path, data: dict)\n",
    "\n",
    "\n",
    "# ====== Your implementation above this line ======\n"
   ]
  },
  {
   "cell_type": "markdown",
   "id": "0e07c88e",
   "metadata": {},
   "source": [
    "### Problem 22\n",
    "\n",
    "Demonstrate reading and updating nested JSON keys in `config.json` (add or update `settings.timeout`).\n",
    "\n",
    "**Hints:** Use appropriate standard-library modules (`sys`, `os`, `pathlib`, `json`, `csv`, `shutil`, `subprocess`, `dotenv`)."
   ]
  },
  {
   "cell_type": "code",
   "execution_count": null,
   "id": "bf9ee14b",
   "metadata": {},
   "outputs": [],
   "source": [
    "# Q22: Update nested JSON\n",
    "# TODO: modify config.json and save\n",
    "\n",
    "\n",
    "# ====== Your implementation above this line ======\n"
   ]
  },
  {
   "cell_type": "markdown",
   "id": "5feaae74",
   "metadata": {},
   "source": [
    "### Problem 23\n",
    "\n",
    "Use `subprocess` to run a small shell pipeline (for example: echo a b | awk to print the second field) safely without `shell=True` if possible.\n",
    "\n",
    "**Hints:** Use appropriate standard-library modules (`sys`, `os`, `pathlib`, `json`, `csv`, `shutil`, `subprocess`, `dotenv`)."
   ]
  },
  {
   "cell_type": "code",
   "execution_count": null,
   "id": "55e66910",
   "metadata": {},
   "outputs": [],
   "source": [
    "# Q23: Run pipeline safely\n",
    "# TODO: run a small pipeline and capture result\n",
    "\n",
    "\n",
    "# ====== Your implementation above this line ======\n"
   ]
  },
  {
   "cell_type": "markdown",
   "id": "d8dbf6f9",
   "metadata": {},
   "source": [
    "### Problem 24\n",
    "\n",
    "Write a function to copy only files larger than X bytes from `project` into `project_large_copy` preserving metadata.\n",
    "\n",
    "**Hints:** Use appropriate standard-library modules (`sys`, `os`, `pathlib`, `json`, `csv`, `shutil`, `subprocess`, `dotenv`)."
   ]
  },
  {
   "cell_type": "code",
   "execution_count": null,
   "id": "fcb70dd6",
   "metadata": {},
   "outputs": [],
   "source": [
    "# Q24: Copy files larger than size\n",
    "# TODO: copy files > threshold preserving metadata\n",
    "\n",
    "\n",
    "# ====== Your implementation above this line ======\n"
   ]
  },
  {
   "cell_type": "markdown",
   "id": "22d3cd62",
   "metadata": {},
   "source": [
    "### Problem 25\n",
    "\n",
    "Use `dotenv_values` to load a `.env` file into a dict and print all key-value pairs in sorted order.\n",
    "\n",
    "**Hints:** Use appropriate standard-library modules (`sys`, `os`, `pathlib`, `json`, `csv`, `shutil`, `subprocess`, `dotenv`)."
   ]
  },
  {
   "cell_type": "code",
   "execution_count": null,
   "id": "ed92764a",
   "metadata": {},
   "outputs": [],
   "source": [
    "# Q25: Load .env to dict\n",
    "# TODO: use dotenv_values and print sorted keys\n",
    "\n",
    "\n",
    "# ====== Your implementation above this line ======\n"
   ]
  },
  {
   "cell_type": "markdown",
   "id": "8fc04f78",
   "metadata": {},
   "source": [
    "### Problem 26\n",
    "\n",
    "Create a CSV with 1000 synthetic rows (id, timestamp, value), then measure time to read them back using `csv.reader` and using `json` line format; print timings.\n",
    "\n",
    "**Hints:** Use appropriate standard-library modules (`sys`, `os`, `pathlib`, `json`, `csv`, `shutil`, `subprocess`, `dotenv`)."
   ]
  },
  {
   "cell_type": "code",
   "execution_count": null,
   "id": "19cdfb82",
   "metadata": {},
   "outputs": [],
   "source": [
    "# Q26: Performance compare CSV vs JSON-lines\n",
    "# TODO: generate data and measure read times\n",
    "\n",
    "\n",
    "# ====== Your implementation above this line ======\n"
   ]
  },
  {
   "cell_type": "markdown",
   "id": "6e016745",
   "metadata": {},
   "source": [
    "### Problem 27\n",
    "\n",
    "Write a function that safely executes a user-provided command name (no args) by finding its absolute path with `shutil.which` and then running it with `subprocess.run`.\n",
    "\n",
    "**Hints:** Use appropriate standard-library modules (`sys`, `os`, `pathlib`, `json`, `csv`, `shutil`, `subprocess`, `dotenv`)."
   ]
  },
  {
   "cell_type": "code",
   "execution_count": null,
   "id": "3472efe2",
   "metadata": {},
   "outputs": [],
   "source": [
    "# Q27: Execute found command safely\n",
    "# TODO: find command with which and run it\n",
    "\n",
    "\n",
    "# ====== Your implementation above this line ======\n"
   ]
  },
  {
   "cell_type": "markdown",
   "id": "feaec45a",
   "metadata": {},
   "source": [
    "### Problem 28\n",
    "\n",
    "Use `pathlib` to create a file watcher loop (simple polling) that prints when a file in `project/src` changes modification time (poll every 1s, run for ~5 iterations).\n",
    "\n",
    "**Hints:** Use appropriate standard-library modules (`sys`, `os`, `pathlib`, `json`, `csv`, `shutil`, `subprocess`, `dotenv`)."
   ]
  },
  {
   "cell_type": "code",
   "execution_count": null,
   "id": "9900f64c",
   "metadata": {},
   "outputs": [],
   "source": [
    "# Q28: Simple polling file watcher\n",
    "# TODO: implement polling loop\n",
    "\n",
    "\n",
    "# ====== Your implementation above this line ======\n"
   ]
  },
  {
   "cell_type": "markdown",
   "id": "8edc9ccd",
   "metadata": {},
   "source": [
    "### Problem 29\n",
    "\n",
    "Demonstrate reading environment variables from `.env` and using them to configure a function (e.g., read APP_ENV and toggle debug behavior).\n",
    "\n",
    "**Hints:** Use appropriate standard-library modules (`sys`, `os`, `pathlib`, `json`, `csv`, `shutil`, `subprocess`, `dotenv`)."
   ]
  },
  {
   "cell_type": "code",
   "execution_count": null,
   "id": "a6b834cf",
   "metadata": {},
   "outputs": [],
   "source": [
    "# Q29: Use .env values to configure behavior\n",
    "# TODO: load .env and implement conditional behavior\n",
    "\n",
    "\n",
    "# ====== Your implementation above this line ======\n"
   ]
  },
  {
   "cell_type": "markdown",
   "id": "aa68185f",
   "metadata": {},
   "source": [
    "### Problem 30\n",
    "\n",
    "Write a helper that merges two JSON files into one, combining top-level keys (deep-merge arrays by concatenation) and save atomically.\n",
    "\n",
    "**Hints:** Use appropriate standard-library modules (`sys`, `os`, `pathlib`, `json`, `csv`, `shutil`, `subprocess`, `dotenv`)."
   ]
  },
  {
   "cell_type": "code",
   "execution_count": null,
   "id": "31e17af4",
   "metadata": {},
   "outputs": [],
   "source": [
    "# Q30: Merge two JSON files\n",
    "# TODO: merge and save atomically\n",
    "\n",
    "\n",
    "# ====== Your implementation above this line ======\n"
   ]
  },
  {
   "cell_type": "markdown",
   "id": "1c7db1c4",
   "metadata": {},
   "source": [
    "### Problem 31\n",
    "\n",
    "Create a small test that uses `subprocess` to run `python -c 'import sys; print(sys.path[0])'` and assert the output includes something expected.\n",
    "\n",
    "**Hints:** Use appropriate standard-library modules (`sys`, `os`, `pathlib`, `json`, `csv`, `shutil`, `subprocess`, `dotenv`)."
   ]
  },
  {
   "cell_type": "code",
   "execution_count": null,
   "id": "1c819969",
   "metadata": {},
   "outputs": [],
   "source": [
    "# Q31: Subprocess test for python -c\n",
    "# TODO: run subprocess and assert expected output\n",
    "\n",
    "\n",
    "# ====== Your implementation above this line ======\n"
   ]
  },
  {
   "cell_type": "markdown",
   "id": "4d89a4f3",
   "metadata": {},
   "source": [
    "### Problem 32\n",
    "\n",
    "Write a utility that converts a CSV file to JSON-lines (one JSON object per line) using `csv.DictReader` and `json.dumps`.\n",
    "\n",
    "**Hints:** Use appropriate standard-library modules (`sys`, `os`, `pathlib`, `json`, `csv`, `shutil`, `subprocess`, `dotenv`)."
   ]
  },
  {
   "cell_type": "code",
   "execution_count": null,
   "id": "34dd7cbd",
   "metadata": {},
   "outputs": [],
   "source": [
    "# Q32: CSV -> JSON-lines\n",
    "# TODO: implement conversion utility\n",
    "\n",
    "\n",
    "# ====== Your implementation above this line ======\n"
   ]
  }
 ],
 "metadata": {
  "kernelspec": {
   "display_name": "Python 3 (ipykernel)",
   "language": "python",
   "name": "python3"
  },
  "language_info": {
   "codemirror_mode": {
    "name": "ipython",
    "version": 3
   },
   "file_extension": ".py",
   "mimetype": "text/x-python",
   "name": "python",
   "nbconvert_exporter": "python",
   "pygments_lexer": "ipython3",
   "version": "3.10.12"
  }
 },
 "nbformat": 4,
 "nbformat_minor": 5
}
