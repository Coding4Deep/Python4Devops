{
 "cells": [
  {
   "cell_type": "code",
   "execution_count": 17,
   "id": "e42c1916-7cd3-49a7-a2ef-77f861ca03ac",
   "metadata": {},
   "outputs": [
    {
     "name": "stdout",
     "output_type": "stream",
     "text": [
      "posix\n",
      "/home/deepak/Python4Devops/day-08_system_interaction\n",
      "['que-01.ipynb', 'd', 'que-02.ipynb', '.ipynb_checkpoints', 'project', 'Untitled.ipynb', 'testfile.txt']\n",
      "['.wget-hsts', 'Python4Devops', '.ssh', 'aws', '.local', 'python_project', '.terraform.d', '.ipython', '.lesshst', '.python_history', 'shell_scripting', 'd', '.sudo_as_admin_successful', '.profile', '.vscode-remote-containers', '.bash_logout', '.gitconfig', '.dotnet', '.vscode-server', '.motd_shown', 'project-01', '.cache', '.gnupg', '.ansible', '.bashrc', '.bash_history', '.aws', '.jupyter', 'awscli-bundle']\n"
     ]
    }
   ],
   "source": [
    "import os\n",
    "\n",
    "print(os.name)\n",
    "print(os.getcwd())\n",
    "print(os.listdir())\n",
    "print(os.listdir(\"/home/deepak\"))\n",
    "os.mkdir(\"c\")\n",
    "os.rename(\"c\",\"d\")\n"
   ]
  }
 ],
 "metadata": {
  "kernelspec": {
   "display_name": "Python 3 (ipykernel)",
   "language": "python",
   "name": "python3"
  },
  "language_info": {
   "codemirror_mode": {
    "name": "ipython",
    "version": 3
   },
   "file_extension": ".py",
   "mimetype": "text/x-python",
   "name": "python",
   "nbconvert_exporter": "python",
   "pygments_lexer": "ipython3",
   "version": "3.10.12"
  }
 },
 "nbformat": 4,
 "nbformat_minor": 5
}
