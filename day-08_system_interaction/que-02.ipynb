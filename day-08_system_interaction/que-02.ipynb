{
 "cells": [
  {
   "cell_type": "markdown",
   "id": "5db06a01",
   "metadata": {},
   "source": [
    "# Advanced Python System & I/O Practice Notebook\n",
    "\n",
    "This notebook contains **22 intermediate-to-advanced problems** mixing:\n",
    "`sys`, `os`, `pathlib`, `json`, `csv`, `shutil`, `subprocess`, and `dotenv`.\n",
    "\n",
    "These exercises simulate **real-world scripting tasks** such as process management, data transformation, automation, and environment configuration.\n",
    "\n",
    "Each problem is followed by an empty code cell scaffold for your implementation.\n"
   ]
  },
  {
   "cell_type": "code",
   "execution_count": null,
   "id": "7e958f07",
   "metadata": {},
   "outputs": [],
   "source": [
    "# Common imports and setup\n",
    "import sys\n",
    "import os\n",
    "from pathlib import Path\n",
    "import json\n",
    "import csv\n",
    "import shutil\n",
    "import subprocess\n",
    "from dotenv import load_dotenv, dotenv_values, set_key, get_key, unset_key, find_dotenv\n",
    "\n",
    "ROOT = Path.cwd() / \"advanced_workspace\"\n",
    "ROOT.mkdir(exist_ok=True)\n",
    "print(\"Advanced workspace:\", ROOT)\n"
   ]
  },
  {
   "cell_type": "markdown",
   "id": "e6a10819",
   "metadata": {},
   "source": [
    "### Problem 1\n",
    "\n",
    "Write a script that executes a command using `subprocess.run` and automatically retries up to 3 times if it fails (non-zero return code).\n",
    "\n",
    "**Hint:** Use combinations of `sys`, `os`, `pathlib`, `json`, `csv`, `shutil`, `subprocess`, and `dotenv`."
   ]
  },
  {
   "cell_type": "code",
   "execution_count": null,
   "id": "1f7dc27a",
   "metadata": {},
   "outputs": [],
   "source": [
    "# Q1: Retry subprocess command\n",
    "# TODO: implement retry mechanism\n",
    "\n",
    "# ====== Your implementation above this line ======\n"
   ]
  },
  {
   "cell_type": "markdown",
   "id": "90af987c",
   "metadata": {},
   "source": [
    "### Problem 2\n",
    "\n",
    "Create a `sync_directories(src, dest)` function that copies new or modified files using `shutil.copy2` but skips unchanged ones (based on mtime).\n",
    "\n",
    "**Hint:** Use combinations of `sys`, `os`, `pathlib`, `json`, `csv`, `shutil`, `subprocess`, and `dotenv`."
   ]
  },
  {
   "cell_type": "code",
   "execution_count": null,
   "id": "3024fced",
   "metadata": {},
   "outputs": [],
   "source": [
    "# Q2: Sync directories\n",
    "# TODO: implement sync_directories(src, dest)\n",
    "\n",
    "# ====== Your implementation above this line ======\n"
   ]
  },
  {
   "cell_type": "markdown",
   "id": "483cb324",
   "metadata": {},
   "source": [
    "### Problem 3\n",
    "\n",
    "Write a script that compresses all `.log` files in a directory into a `.tar.gz` archive and removes the originals only if compression succeeded.\n",
    "\n",
    "**Hint:** Use combinations of `sys`, `os`, `pathlib`, `json`, `csv`, `shutil`, `subprocess`, and `dotenv`."
   ]
  },
  {
   "cell_type": "code",
   "execution_count": null,
   "id": "1f3d3d80",
   "metadata": {},
   "outputs": [],
   "source": [
    "# Q3: Compress logs\n",
    "# TODO: implement compression and cleanup\n",
    "\n",
    "# ====== Your implementation above this line ======\n"
   ]
  },
  {
   "cell_type": "markdown",
   "id": "250776a3",
   "metadata": {},
   "source": [
    "### Problem 4\n",
    "\n",
    "Create a function that runs a list of shell commands in parallel using `subprocess.Popen` and waits for all to finish, capturing stdout/stderr.\n",
    "\n",
    "**Hint:** Use combinations of `sys`, `os`, `pathlib`, `json`, `csv`, `shutil`, `subprocess`, and `dotenv`."
   ]
  },
  {
   "cell_type": "code",
   "execution_count": null,
   "id": "51a51eb2",
   "metadata": {},
   "outputs": [],
   "source": [
    "# Q4: Run multiple commands in parallel\n",
    "# TODO: implement parallel execution\n",
    "\n",
    "# ====== Your implementation above this line ======\n"
   ]
  },
  {
   "cell_type": "markdown",
   "id": "95da1ed1",
   "metadata": {},
   "source": [
    "### Problem 5\n",
    "\n",
    "Build a file integrity checker: compute SHA256 hash for all files under `project` and save to `hashes.json`. Verify changes on re-run.\n",
    "\n",
    "**Hint:** Use combinations of `sys`, `os`, `pathlib`, `json`, `csv`, `shutil`, `subprocess`, and `dotenv`."
   ]
  },
  {
   "cell_type": "code",
   "execution_count": null,
   "id": "0ce0b39b",
   "metadata": {},
   "outputs": [],
   "source": [
    "# Q5: File integrity checker\n",
    "# TODO: implement hash calculation and comparison\n",
    "\n",
    "# ====== Your implementation above this line ======\n"
   ]
  },
  {
   "cell_type": "markdown",
   "id": "6d66acac",
   "metadata": {},
   "source": [
    "### Problem 6\n",
    "\n",
    "Using `dotenv`, manage two environments: `.env.dev` and `.env.prod`. Load based on user input, and print which one is active.\n",
    "\n",
    "**Hint:** Use combinations of `sys`, `os`, `pathlib`, `json`, `csv`, `shutil`, `subprocess`, and `dotenv`."
   ]
  },
  {
   "cell_type": "code",
   "execution_count": null,
   "id": "7512bc3e",
   "metadata": {},
   "outputs": [],
   "source": [
    "# Q6: Multiple env management\n",
    "# TODO: switch between .env.dev and .env.prod\n",
    "\n",
    "# ====== Your implementation above this line ======\n"
   ]
  },
  {
   "cell_type": "markdown",
   "id": "df4c5584",
   "metadata": {},
   "source": [
    "### Problem 7\n",
    "\n",
    "Implement a watcher that detects when any `.json` file changes (mtime) in a directory and automatically reloads and validates JSON structure.\n",
    "\n",
    "**Hint:** Use combinations of `sys`, `os`, `pathlib`, `json`, `csv`, `shutil`, `subprocess`, and `dotenv`."
   ]
  },
  {
   "cell_type": "code",
   "execution_count": null,
   "id": "d976db30",
   "metadata": {},
   "outputs": [],
   "source": [
    "# Q7: JSON file watcher\n",
    "# TODO: implement JSON watcher loop\n",
    "\n",
    "# ====== Your implementation above this line ======\n"
   ]
  },
  {
   "cell_type": "markdown",
   "id": "9d03e68f",
   "metadata": {},
   "source": [
    "### Problem 8\n",
    "\n",
    "Write a script that converts a large CSV file to multiple JSON chunks (max 100 rows per file). Include progress printing.\n",
    "\n",
    "**Hint:** Use combinations of `sys`, `os`, `pathlib`, `json`, `csv`, `shutil`, `subprocess`, and `dotenv`."
   ]
  },
  {
   "cell_type": "code",
   "execution_count": null,
   "id": "dbeaca82",
   "metadata": {},
   "outputs": [],
   "source": [
    "# Q8: Chunked CSV -> JSON\n",
    "# TODO: implement chunked conversion\n",
    "\n",
    "# ====== Your implementation above this line ======\n"
   ]
  },
  {
   "cell_type": "markdown",
   "id": "cdf453b4",
   "metadata": {},
   "source": [
    "### Problem 9\n",
    "\n",
    "Use `subprocess` to run a background process (e.g. ping or sleep) and terminate it after 5 seconds programmatically.\n",
    "\n",
    "**Hint:** Use combinations of `sys`, `os`, `pathlib`, `json`, `csv`, `shutil`, `subprocess`, and `dotenv`."
   ]
  },
  {
   "cell_type": "code",
   "execution_count": null,
   "id": "9b5b2b16",
   "metadata": {},
   "outputs": [],
   "source": [
    "# Q9: Manage background process\n",
    "# TODO: run and terminate a subprocess safely\n",
    "\n",
    "# ====== Your implementation above this line ======\n"
   ]
  },
  {
   "cell_type": "markdown",
   "id": "c39e132c",
   "metadata": {},
   "source": [
    "### Problem 10\n",
    "\n",
    "Create a safe file deleter that moves files to a `.trash` folder under workspace instead of deleting them directly.\n",
    "\n",
    "**Hint:** Use combinations of `sys`, `os`, `pathlib`, `json`, `csv`, `shutil`, `subprocess`, and `dotenv`."
   ]
  },
  {
   "cell_type": "code",
   "execution_count": null,
   "id": "375f14ae",
   "metadata": {},
   "outputs": [],
   "source": [
    "# Q10: Safe file deleter\n",
    "# TODO: implement move-to-trash behavior\n",
    "\n",
    "# ====== Your implementation above this line ======\n"
   ]
  },
  {
   "cell_type": "markdown",
   "id": "6e2a5779",
   "metadata": {},
   "source": [
    "### Problem 11\n",
    "\n",
    "Write a `search_in_files` function that recursively finds text in files using Python (not grep) and prints file path + line number.\n",
    "\n",
    "**Hint:** Use combinations of `sys`, `os`, `pathlib`, `json`, `csv`, `shutil`, `subprocess`, and `dotenv`."
   ]
  },
  {
   "cell_type": "code",
   "execution_count": null,
   "id": "54daf7e3",
   "metadata": {},
   "outputs": [],
   "source": [
    "# Q11: Search text in files\n",
    "# TODO: implement search_in_files(root, pattern)\n",
    "\n",
    "# ====== Your implementation above this line ======\n"
   ]
  },
  {
   "cell_type": "markdown",
   "id": "7eb8e1d1",
   "metadata": {},
   "source": [
    "### Problem 12\n",
    "\n",
    "Use `subprocess.check_output` to list all active network connections (`netstat` or `ss`), parse them, and write to a CSV.\n",
    "\n",
    "**Hint:** Use combinations of `sys`, `os`, `pathlib`, `json`, `csv`, `shutil`, `subprocess`, and `dotenv`."
   ]
  },
  {
   "cell_type": "code",
   "execution_count": null,
   "id": "8ed39a96",
   "metadata": {},
   "outputs": [],
   "source": [
    "# Q12: Capture netstat output\n",
    "# TODO: run command, parse, and write CSV\n",
    "\n",
    "# ====== Your implementation above this line ======\n"
   ]
  },
  {
   "cell_type": "markdown",
   "id": "b92a7a51",
   "metadata": {},
   "source": [
    "### Problem 13\n",
    "\n",
    "Build a command-line utility using `sys.argv` that accepts a JSON file path and prints formatted statistics (key counts, nesting depth).\n",
    "\n",
    "**Hint:** Use combinations of `sys`, `os`, `pathlib`, `json`, `csv`, `shutil`, `subprocess`, and `dotenv`."
   ]
  },
  {
   "cell_type": "code",
   "execution_count": null,
   "id": "e05c2ade",
   "metadata": {},
   "outputs": [],
   "source": [
    "# Q13: JSON CLI stats\n",
    "# TODO: parse sys.argv and compute stats\n",
    "\n",
    "# ====== Your implementation above this line ======\n"
   ]
  },
  {
   "cell_type": "markdown",
   "id": "5d300561",
   "metadata": {},
   "source": [
    "### Problem 14\n",
    "\n",
    "Implement a simple `.env` key rotator: rotate API_KEY value (random hex) and update `.env` atomically using `set_key`.\n",
    "\n",
    "**Hint:** Use combinations of `sys`, `os`, `pathlib`, `json`, `csv`, `shutil`, `subprocess`, and `dotenv`."
   ]
  },
  {
   "cell_type": "code",
   "execution_count": null,
   "id": "0dc992f1",
   "metadata": {},
   "outputs": [],
   "source": [
    "# Q14: Env key rotator\n",
    "# TODO: implement rotation logic\n",
    "\n",
    "# ====== Your implementation above this line ======\n"
   ]
  },
  {
   "cell_type": "markdown",
   "id": "220cd7fb",
   "metadata": {},
   "source": [
    "### Problem 15\n",
    "\n",
    "Write a cross-platform cleaner script that removes temporary files (`*.tmp`, `__pycache__`) recursively and reports count deleted.\n",
    "\n",
    "**Hint:** Use combinations of `sys`, `os`, `pathlib`, `json`, `csv`, `shutil`, `subprocess`, and `dotenv`."
   ]
  },
  {
   "cell_type": "code",
   "execution_count": null,
   "id": "70dedc6f",
   "metadata": {},
   "outputs": [],
   "source": [
    "# Q15: Cleanup temp files\n",
    "# TODO: implement recursive cleanup\n",
    "\n",
    "# ====== Your implementation above this line ======\n"
   ]
  },
  {
   "cell_type": "markdown",
   "id": "23167b08",
   "metadata": {},
   "source": [
    "### Problem 16\n",
    "\n",
    "Create a directory usage analyzer that walks a tree and prints total size per subdirectory (similar to `du -h`).\n",
    "\n",
    "**Hint:** Use combinations of `sys`, `os`, `pathlib`, `json`, `csv`, `shutil`, `subprocess`, and `dotenv`."
   ]
  },
  {
   "cell_type": "code",
   "execution_count": null,
   "id": "71d1f5fc",
   "metadata": {},
   "outputs": [],
   "source": [
    "# Q16: Directory usage analyzer\n",
    "# TODO: compute and print sizes per directory\n",
    "\n",
    "# ====== Your implementation above this line ======\n"
   ]
  },
  {
   "cell_type": "markdown",
   "id": "c320b633",
   "metadata": {},
   "source": [
    "### Problem 17\n",
    "\n",
    "Use `subprocess.run` to execute a Python one-liner that prints an environment variable loaded via `.env`, capturing and printing its output.\n",
    "\n",
    "**Hint:** Use combinations of `sys`, `os`, `pathlib`, `json`, `csv`, `shutil`, `subprocess`, and `dotenv`."
   ]
  },
  {
   "cell_type": "code",
   "execution_count": null,
   "id": "e5230379",
   "metadata": {},
   "outputs": [],
   "source": [
    "# Q17: Run subprocess with env var\n",
    "# TODO: load .env and run Python subprocess printing a var\n",
    "\n",
    "# ====== Your implementation above this line ======\n"
   ]
  },
  {
   "cell_type": "markdown",
   "id": "f7ff37bd",
   "metadata": {},
   "source": [
    "### Problem 18\n",
    "\n",
    "Write a `safe_overwrite_json(path, data)` function that first writes to a `.bak` file, verifies it’s valid JSON, then replaces the original.\n",
    "\n",
    "**Hint:** Use combinations of `sys`, `os`, `pathlib`, `json`, `csv`, `shutil`, `subprocess`, and `dotenv`."
   ]
  },
  {
   "cell_type": "code",
   "execution_count": null,
   "id": "dbd729e1",
   "metadata": {},
   "outputs": [],
   "source": [
    "# Q18: Safe JSON overwrite\n",
    "# TODO: implement with backup verification\n",
    "\n",
    "# ====== Your implementation above this line ======\n"
   ]
  },
  {
   "cell_type": "markdown",
   "id": "488e1559",
   "metadata": {},
   "source": [
    "### Problem 19\n",
    "\n",
    "Create a small configuration migration script that reads `old_config.json`, maps keys to a new schema, and writes `new_config.json`.\n",
    "\n",
    "**Hint:** Use combinations of `sys`, `os`, `pathlib`, `json`, `csv`, `shutil`, `subprocess`, and `dotenv`."
   ]
  },
  {
   "cell_type": "code",
   "execution_count": null,
   "id": "f739fd1f",
   "metadata": {},
   "outputs": [],
   "source": [
    "# Q19: Config migration\n",
    "# TODO: implement JSON key remapping\n",
    "\n",
    "# ====== Your implementation above this line ======\n"
   ]
  },
  {
   "cell_type": "markdown",
   "id": "0471f87d",
   "metadata": {},
   "source": [
    "### Problem 20\n",
    "\n",
    "Use `csv.DictReader` and `json` together to convert a CSV into grouped JSON (group rows by a field, e.g. department -> list of employees).\n",
    "\n",
    "**Hint:** Use combinations of `sys`, `os`, `pathlib`, `json`, `csv`, `shutil`, `subprocess`, and `dotenv`."
   ]
  },
  {
   "cell_type": "code",
   "execution_count": null,
   "id": "eed72000",
   "metadata": {},
   "outputs": [],
   "source": [
    "# Q20: Grouped CSV -> JSON\n",
    "# TODO: implement grouping and writing\n",
    "\n",
    "# ====== Your implementation above this line ======\n"
   ]
  },
  {
   "cell_type": "markdown",
   "id": "24bc4115",
   "metadata": {},
   "source": [
    "### Problem 21\n",
    "\n",
    "Build a utility that zips all files modified in the last 24 hours into `recent_backup.zip` and logs their names to a text file.\n",
    "\n",
    "**Hint:** Use combinations of `sys`, `os`, `pathlib`, `json`, `csv`, `shutil`, `subprocess`, and `dotenv`."
   ]
  },
  {
   "cell_type": "code",
   "execution_count": null,
   "id": "cf8734ee",
   "metadata": {},
   "outputs": [],
   "source": [
    "# Q21: Zip modified files\n",
    "# TODO: find recent files, zip them, and log\n",
    "\n",
    "# ====== Your implementation above this line ======\n"
   ]
  },
  {
   "cell_type": "markdown",
   "id": "a1640d1f",
   "metadata": {},
   "source": [
    "### Problem 22\n",
    "\n",
    "Write a mini shell tool that lists all environment variables sorted alphabetically and allows filtering by prefix (e.g. `PY`).\n",
    "\n",
    "**Hint:** Use combinations of `sys`, `os`, `pathlib`, `json`, `csv`, `shutil`, `subprocess`, and `dotenv`."
   ]
  },
  {
   "cell_type": "code",
   "execution_count": null,
   "id": "a468ac44",
   "metadata": {},
   "outputs": [],
   "source": [
    "# Q22: Env variable lister\n",
    "# TODO: implement filtering and printing\n",
    "\n",
    "# ====== Your implementation above this line ======\n"
   ]
  }
 ],
 "metadata": {},
 "nbformat": 4,
 "nbformat_minor": 5
}
