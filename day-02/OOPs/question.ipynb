{
 "cells": [
  {
   "cell_type": "markdown",
   "id": "a51a834c",
   "metadata": {},
   "source": [
    "# Level 1: Basic Class and Objects\n",
    "**Problem:** Create a class `Student` that stores `name`, `roll_no`, `marks`.\n",
    "- Create 3 student objects.\n",
    "- Print each student’s details using a method `show_info()`"
   ]
  },
  {
   "cell_type": "code",
   "execution_count": 4,
   "id": "9b15decc",
   "metadata": {},
   "outputs": [
    {
     "name": "stdout",
     "output_type": "stream",
     "text": [
      "student #1 \n",
      " name: deepak \n",
      " roll no: 18 \n",
      " marks: 100\n"
     ]
    }
   ],
   "source": [
    "# Write your code here\n",
    "\n",
    "class Student:\n",
    "    count=0\n",
    "    def __init__(self,name,roll_no,marks):\n",
    "        self.name=name\n",
    "        self.roll_no=roll_no\n",
    "        self.marks=marks\n",
    "        self.count+=1\n",
    "    def show_info(self):\n",
    "        return print(f\"student #{self.count} \\n name: {self.name} \\n roll no: {self.roll_no} \\n marks: {self.marks}\")\n",
    "s1=Student(\"deepak\",18,100)\n",
    "s1.show_info()\n",
    "\n",
    "\n",
    "        "
   ]
  },
  {
   "cell_type": "markdown",
   "id": "9eec00e2",
   "metadata": {},
   "source": [
    "# Level 2: Class Method and self\n",
    "**Problem:** Extend your `Student` class:\n",
    "- Add a method `is_passed()` that returns `True` if marks >= 40\n",
    "- Print for each student whether they passed or failed"
   ]
  },
  {
   "cell_type": "code",
   "execution_count": 12,
   "id": "73fbc5e9",
   "metadata": {},
   "outputs": [
    {
     "name": "stdout",
     "output_type": "stream",
     "text": [
      "student deepak is passed with marks 100\n",
      "Topper is deepak with marks 100\n"
     ]
    }
   ],
   "source": [
    "# Write your code here\n",
    "\n",
    "class Student:\n",
    "    count=0\n",
    "    students_list = []\n",
    "    \n",
    "    def __init__(self,name,roll_no,marks):\n",
    "        self.name=name\n",
    "        self.roll_no=roll_no\n",
    "        self.marks=marks\n",
    "        Student.count += 1\n",
    "        Student.students_list.append(self)\n",
    "\n",
    "    def show_info(self):\n",
    "        return print(f\"student #{self.count} \\n name: {self.name} \\n roll no: {self.roll_no} \\n marks: {self.marks}\")\n",
    "        \n",
    "    def is_passed(self):\n",
    "        if self.marks >= 40:\n",
    "            return print(f\"student {self.name} is passed with marks {self.marks}\")\n",
    "        else:\n",
    "            return print(f\"student {self.name} is failed with marks {self.marks}\")\n",
    "            \n",
    "    @classmethod\n",
    "    def topper(cls):\n",
    "        # Find the student with the maximum marks\n",
    "        top_student = max(cls.students_list, key=lambda s: s.marks)\n",
    "        print(f\"Topper is {top_student.name} with marks {top_student.marks}\")\n",
    "        \n",
    "s1=Student(\"deepak\",18,100)\n",
    "s2=Student(\"sagar\",19,30)\n",
    "s3=Student(\"rohan\",11,10)\n",
    "s4=Student(\"deepika\",15,70)\n",
    "\n",
    "s1.is_passed()\n",
    "Student.topper()\n"
   ]
  },
  {
   "cell_type": "markdown",
   "id": "e3140501",
   "metadata": {},
   "source": [
    "# Level 3: Inheritance\n",
    "**Problem:** Create a base class `Person` with `name` and `age` and a method `info()`.\n",
    "- Create a derived class `Student` that adds `marks` and a method `student_info()` that calls parent `info()` and prints marks."
   ]
  },
  {
   "cell_type": "code",
   "execution_count": 13,
   "id": "6fb32e5b",
   "metadata": {},
   "outputs": [
    {
     "name": "stdout",
     "output_type": "stream",
     "text": [
      "Person name is Priyanshu and age: 21\n",
      "Person name is Priyanshu and age: 21 and marks: 95\n"
     ]
    }
   ],
   "source": [
    "class Person:\n",
    "    def __init__(self, name, age):\n",
    "        self.name = name\n",
    "        self.age = age\n",
    "\n",
    "    def info(self):\n",
    "        return f\"Person name is {self.name} and age: {self.age}\"\n",
    "\n",
    "\n",
    "class Student(Person):\n",
    "    def __init__(self, name, age, marks):\n",
    "        super().__init__(name, age)  # call base constructor\n",
    "        self.marks = marks\n",
    "\n",
    "    def student_info(self):\n",
    "        person_str = super().info()   # get base class info\n",
    "        return f\"{person_str} and marks: {self.marks}\"\n",
    "s1 = Student(\"Priyanshu\", 21, 95)\n",
    "print(s1.info())          # inherited method\n",
    "print(s1.student_info())  # extended info\n"
   ]
  },
  {
   "cell_type": "markdown",
   "id": "dbfada60-5a9c-426b-857d-d29719525dd8",
   "metadata": {},
   "source": [
    "## 🧠 LEVEL 4: Encapsulation (Private Variables)\n",
    "\n",
    "### 🧩 Problem:\n",
    "\n",
    "In your `Student` class:\n",
    "\n",
    "* Make `marks` private (`__marks`)\n",
    "* Add methods `get_marks()` and `set_marks()`\n",
    "* In `set_marks()`, don’t allow negative marks\n",
    "\n",
    "🎯 **Goal:** Learn access control via getter/setter"
   ]
  },
  {
   "cell_type": "code",
   "execution_count": 27,
   "id": "85085710-a91a-4de0-8bf7-41e8eae33eab",
   "metadata": {},
   "outputs": [
    {
     "name": "stdout",
     "output_type": "stream",
     "text": [
      "13\n",
      "Invalid mark!\n"
     ]
    }
   ],
   "source": [
    "class Student:\n",
    "\n",
    "    def __init__(self,name,roll_no,marks):\n",
    "        self.name=name\n",
    "        self.roll_no=roll_no\n",
    "        self.__marks=marks\n",
    "\n",
    "    def get_marks(self):\n",
    "        return f\"{self.__marks}\"\n",
    "    def set_marks(self,new_marks):\n",
    "        if 0<= new_marks <= 100:\n",
    "            self.__marks=new_marks\n",
    "            print(f\"{self.__marks}\")\n",
    "        else:\n",
    "            print(\"Invalid mark!\")\n",
    "\n",
    "\n",
    "\n",
    "s1=Student(\"deepak\",18,100)\n",
    "s2=Student(\"sagar\",19,30)\n",
    "s3=Student(\"rohan\",11,10)\n",
    "s4=Student(\"deepika\",15,70)\n",
    "\n",
    "# print(s1.get_marks())\n",
    "s1.set_marks(13)\n",
    "s1.set_marks(112)\n",
    "\n"
   ]
  },
  {
   "cell_type": "markdown",
   "id": "f3e5bfac-58a1-48f6-8330-3c44dc66cf9d",
   "metadata": {},
   "source": [
    "## 🧠 LEVEL 5: Polymorphism\n",
    "\n",
    "### 💡 Concept:\n",
    "\n",
    "Same method name, different behaviors depending on class.\n",
    "\n",
    "### 🧩 Problem:\n",
    "\n",
    "Create two classes:\n",
    "\n",
    "* `Dog` → method `speak()` prints `\"Woof!\"`\n",
    "* `Cat` → method `speak()` prints `\"Meow!\"`\n",
    "\n",
    "Then write a function `animal_sound(animal)` that calls `animal.speak()`.\n",
    "\n",
    "🎯 **Goal:** Understand how polymorphism lets different objects behave differently under the same interface.\n"
   ]
  },
  {
   "cell_type": "code",
   "execution_count": 28,
   "id": "8ed1a473-9163-4a84-80bc-3e43af83e81d",
   "metadata": {},
   "outputs": [
    {
     "name": "stdout",
     "output_type": "stream",
     "text": [
      "Woof !\n",
      "Meow !\n"
     ]
    }
   ],
   "source": [
    "class Dog:\n",
    "    def speak(self):\n",
    "        print(\"Woof !\")\n",
    "        \n",
    "class Cat:\n",
    "    def speak(self):\n",
    "        print(\"Meow !\")\n",
    "        \n",
    "def animal_sound(animal):\n",
    "    animal.speak() \n",
    "\n",
    "d = Dog()\n",
    "c = Cat()\n",
    "\n",
    "animal_sound(d)  # Woof!\n",
    "animal_sound(c)  # Meow!\n"
   ]
  },
  {
   "cell_type": "markdown",
   "id": "811a31fa-5b3f-4d2e-9ec2-937892ac7749",
   "metadata": {},
   "source": [
    "## 🧠 LEVEL 6: Class Variables\n",
    "\n",
    "### 💡 Concept:\n",
    "\n",
    "Variables shared by **all objects** of the class.\n",
    "\n",
    "### 🧩 Problem:\n",
    "\n",
    "In `Student`, add a **class variable** `total_students` which keeps count of how many students have been created.\n",
    "\n",
    "* Increment this count inside `__init__()`\n",
    "* Add a method `get_total_students()` to show the count\n",
    "\n",
    "🎯 **Goal:** Understand class vs instance variable difference.\n"
   ]
  },
  {
   "cell_type": "code",
   "execution_count": 29,
   "id": "c00889b0-9cae-4ca0-9411-34b49ca4ed0f",
   "metadata": {},
   "outputs": [
    {
     "name": "stdout",
     "output_type": "stream",
     "text": [
      "Total students: 3\n"
     ]
    }
   ],
   "source": [
    "class Student:\n",
    "    total_students = 0  # class variable\n",
    "\n",
    "    def __init__(self, name, roll_no, marks):\n",
    "        self.name = name\n",
    "        self.roll_no = roll_no\n",
    "        self.marks = marks\n",
    "        Student.total_students += 1  # increment the class variable\n",
    "\n",
    "    @classmethod\n",
    "    def get_total_students(cls):\n",
    "        return cls.total_students\n",
    "        \n",
    "s1 = Student(\"Priyanshu\", 101, 95)\n",
    "s2 = Student(\"Rohit\", 102, 85)\n",
    "s3 = Student(\"Sagar\", 103, 75)\n",
    "\n",
    "print(\"Total students:\", Student.get_total_students())\n",
    "\n"
   ]
  },
  {
   "cell_type": "markdown",
   "id": "7c5361b4-1d3d-4403-b71c-024e8a556712",
   "metadata": {},
   "source": [
    "## 🧠 LEVEL 7: Static Method\n",
    "\n",
    "### 💡 Concept: \n",
    "Methods that don’t depend on instance or class data.\n",
    "### 🧩 Problem:\n",
    "Add a `@staticmethod` method `is_college_open(day)` in `Student` that:\n",
    "\n",
    "* Returns `True` if `day` is not `\"Sunday\"`\n",
    "\n",
    "Example:\n",
    "\n",
    "```python\n",
    "Student.is_college_open(\"Monday\")  # True\n",
    "Student.is_college_open(\"Sunday\")  # False\n",
    "```\n"
   ]
  },
  {
   "cell_type": "code",
   "execution_count": 30,
   "id": "982aece0-7958-473a-b2f5-7b99fa2940d5",
   "metadata": {},
   "outputs": [
    {
     "name": "stdout",
     "output_type": "stream",
     "text": [
      "True\n",
      "False\n",
      "True\n"
     ]
    }
   ],
   "source": [
    "class Student:\n",
    "    total_students = 0  # class variable\n",
    "\n",
    "    def __init__(self, name, roll_no, marks):\n",
    "        self.name = name\n",
    "        self.roll_no = roll_no\n",
    "        self.marks = marks\n",
    "        Student.total_students += 1  # increment the class variable\n",
    "\n",
    "    @classmethod\n",
    "    def get_total_students(cls):\n",
    "        return cls.total_students\n",
    "        \n",
    "    @staticmethod\n",
    "    def is_college_open(day):\n",
    "        return day.lower() != \"sunday\"\n",
    "\n",
    "        \n",
    "s1 = Student(\"Priyanshu\", 101, 95)\n",
    "s2 = Student(\"Rohit\", 102, 85)\n",
    "s3 = Student(\"Sagar\", 103, 75)\n",
    "\n",
    "\n",
    "\n",
    "print(Student.is_college_open(\"Monday\"))   # True\n",
    "print(Student.is_college_open(\"Sunday\"))   # False\n",
    "\n",
    "# You can also call from an object, but it's not necessary:\n",
    "s1 = Student(\"Alice\", 101, 95)\n",
    "print(s1.is_college_open(\"Friday\"))        # True\n",
    "\n",
    "\n",
    "\n",
    "\n",
    "        "
   ]
  },
  {
   "cell_type": "markdown",
   "id": "6952d313-2939-4dc5-91a4-dfe05868c96f",
   "metadata": {},
   "source": [
    "\n",
    "## 🧠 LEVEL 8: Property Decorators (`@property`)\n",
    "\n",
    "### 💡 Concept:\n",
    "\n",
    "Convert getter/setter into attributes.\n",
    "\n",
    "### 🧩 Problem:\n",
    "\n",
    "Create a class `Employee` with:\n",
    "\n",
    "* Private variable `__salary`\n",
    "* A `@property` called `salary` to get its value\n",
    "* A setter `@salary.setter` that ensures salary ≥ 10000\n",
    "\n",
    "Example:\n",
    "\n",
    "```python\n",
    "e1 = Employee(15000)\n",
    "print(e1.salary)  # 15000\n",
    "e1.salary = 8000  # \"Salary too low!\"\n",
    "```\n"
   ]
  },
  {
   "cell_type": "code",
   "execution_count": 33,
   "id": "9535aaaf-1715-4f7e-a532-330b31cc0e55",
   "metadata": {},
   "outputs": [
    {
     "name": "stdout",
     "output_type": "stream",
     "text": [
      "15000\n",
      "20000\n",
      "Salary too low!\n",
      "20000\n"
     ]
    }
   ],
   "source": [
    "class Employee:\n",
    "    def __init__(self, salary):\n",
    "        self.__salary = salary  # private variable\n",
    "\n",
    "    # Getter\n",
    "    @property\n",
    "    def salary(self):\n",
    "        return self.__salary\n",
    "\n",
    "    # Setter\n",
    "    @salary.setter\n",
    "    def salary(self, value):\n",
    "        if value >= 10000:\n",
    "            self.__salary = value\n",
    "        else:\n",
    "            print(\"Salary too low!\")\n",
    "\n",
    "\n",
    "\n",
    "e1 = Employee(15000)\n",
    "print(e1.salary)  # 15000\n",
    "\n",
    "e1.salary = 20000\n",
    "print(e1.salary)  # 20000\n",
    "\n",
    "e1.salary = 8000   # Salary too low!\n",
    "print(e1.salary)   # 20000 (unchanged)\n"
   ]
  },
  {
   "cell_type": "markdown",
   "id": "1dffb782-408f-41e8-9fea-9d6ecefa3bfc",
   "metadata": {},
   "source": [
    "## 🧠 LEVEL 9: Class Inheritance and Instance Function\n",
    "\n",
    "### 💡 Concept:\n",
    "\n",
    "Parent class methods being reused and customized in child classes.\n",
    "\n",
    "### 🧩 Problem:\n",
    "\n",
    "Create:\n",
    "\n",
    "* `Person` (base class): `name`, `age`\n",
    "* `Employee` (child class): `salary`\n",
    "* `Manager` (child class of Employee): `department`\n",
    "\n",
    "Each should have its own `show_info()` method that calls the parent’s using `super()`.\n",
    "\n",
    "🎯 **Goal:** Learn method chaining and inheritance depth.\n",
    "\n",
    "---"
   ]
  },
  {
   "cell_type": "markdown",
   "id": "d8fa65a3-a8b8-406b-ba9e-ec483c7f8640",
   "metadata": {},
   "source": [
    "\n",
    "## 🧠 LEVEL 10: Multiple Inheritance\n",
    "\n",
    "### 💡 Concept:\n",
    "\n",
    "A class inheriting from **multiple parents**.\n",
    "\n",
    "### 🧩 Problem:\n",
    "\n",
    "Create:\n",
    "\n",
    "* `Teacher` class → method `teach()`\n",
    "* `Athlete` class → method `play()`\n",
    "* `SportsTeacher` class → inherits both and can call both methods.\n",
    "\n",
    "🎯 **Goal:** Understand method resolution order (MRO) and how multiple inheritance works.\n"
   ]
  }
 ],
 "metadata": {
  "kernelspec": {
   "display_name": "Python 3 (ipykernel)",
   "language": "python",
   "name": "python3"
  },
  "language_info": {
   "codemirror_mode": {
    "name": "ipython",
    "version": 3
   },
   "file_extension": ".py",
   "mimetype": "text/x-python",
   "name": "python",
   "nbconvert_exporter": "python",
   "pygments_lexer": "ipython3",
   "version": "3.12.9"
  }
 },
 "nbformat": 4,
 "nbformat_minor": 5
}
