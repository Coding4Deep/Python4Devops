{
 "cells": [
  {
   "cell_type": "markdown",
   "id": "bb845d1f-8966-4014-9003-cabf6c604ba8",
   "metadata": {},
   "source": [
    "\n",
    "## 🧱 1. Generator Function\n",
    "\n",
    "A **generator function** is like a normal function but uses `yield` instead of `return`.\n",
    "\n",
    "When Python sees `yield`, it **pauses the function**, remembers its state, and resumes when you ask for the next value.\n",
    "\n",
    "---\n",
    "\n",
    "### 🔹 Example 1 — Simple Generator\n"
   ]
  },
  {
   "cell_type": "code",
   "execution_count": 28,
   "id": "01ac6358-c62e-4c0b-b42f-3f7bb84a65e6",
   "metadata": {},
   "outputs": [
    {
     "name": "stdout",
     "output_type": "stream",
     "text": [
      "<generator object simple_gen at 0x7ffbba7ea680>\n",
      "<generator object simple_gen at 0x7ffbba7ea680>\n",
      "before yield 1\n",
      "1\n"
     ]
    }
   ],
   "source": [
    "def simple_gen():\n",
    "    print(\"before yield 1\")\n",
    "    yield 1\n",
    "    print(\"after yield 1\")\n",
    "    print(\"before yield 2\")\n",
    "    yield 2\n",
    "    print(\"after yield 2\")\n",
    "    print(\"before yield 3\")\n",
    "    yield 3\n",
    "    print(\"after yield 3\")\n",
    "    \n",
    "    # Create generator object\n",
    "gen = simple_gen()\n",
    "\n",
    "print(gen)             # <generator object simple_gen at 0x...>\n",
    "print(gen)             # <generator object simple_gen at 0x...>\n",
    "print(next(gen))       # 1\n",
    "# print(next(gen))       # 2\n",
    "# print(next(gen))       # 3"
   ]
  },
  {
   "cell_type": "code",
   "execution_count": null,
   "id": "d063a59a-8421-494d-8e9a-582f066a8f0a",
   "metadata": {},
   "outputs": [],
   "source": []
  },
  {
   "cell_type": "code",
   "execution_count": 17,
   "id": "10f25eae-50d0-464c-8881-d5ba058b5464",
   "metadata": {},
   "outputs": [
    {
     "name": "stdout",
     "output_type": "stream",
     "text": [
      "0\n",
      "1\n",
      "1\n",
      "2\n",
      "3\n",
      "5\n",
      "8\n"
     ]
    }
   ],
   "source": [
    "def fib(limit):\n",
    "    a, b = 0, 1\n",
    "    while a < limit:\n",
    "        yield a\n",
    "        a, b = b, a + b\n",
    "\n",
    "# Using the generator\n",
    "for num in fib(10):\n",
    "    print(num)\n"
   ]
  },
  {
   "cell_type": "code",
   "execution_count": 19,
   "id": "5e64adf4-be68-4f53-a468-9f8200608420",
   "metadata": {},
   "outputs": [
    {
     "name": "stdout",
     "output_type": "stream",
     "text": [
      "[0, 1, 4, 9, 16]\n",
      "<class 'list'>\n",
      "<generator object <genexpr> at 0x7ffbba85b510>\n",
      "0\n",
      "1\n",
      "4\n",
      "9\n",
      "16\n"
     ]
    }
   ],
   "source": [
    "# List comprehension\n",
    "nums = [x*x for x in range(5)]\n",
    "print(nums)  # [0, 1, 4, 9, 16]\n",
    "print(type(nums))\n",
    "\n",
    "# Generator expression\n",
    "gen = (x*x for x in range(5))\n",
    "print(gen)   # <generator object <genexpr> at 0x...>\n",
    "\n",
    "for n in gen:\n",
    "    print(n)"
   ]
  },
  {
   "cell_type": "code",
   "execution_count": 20,
   "id": "ac4a0ce0-3f4f-45cd-b127-5266a320b49a",
   "metadata": {},
   "outputs": [
    {
     "name": "stdout",
     "output_type": "stream",
     "text": [
      "8448728\n",
      "192\n"
     ]
    }
   ],
   "source": [
    "import sys\n",
    "\n",
    "nums_list = [i for i in range(1000000)]\n",
    "nums_gen = (i for i in range(1000000))\n",
    "\n",
    "print(sys.getsizeof(nums_list))  # ~8,000,000 bytes\n",
    "print(sys.getsizeof(nums_gen))   # ~100 bytes\n"
   ]
  },
  {
   "cell_type": "code",
   "execution_count": 29,
   "id": "ffaa7a92-721f-425a-ba5d-e56dc2568fcc",
   "metadata": {},
   "outputs": [
    {
     "name": "stdout",
     "output_type": "stream",
     "text": [
      "What is your name?\n",
      "Hello, Priyanshu\n"
     ]
    }
   ],
   "source": [
    "def greet():\n",
    "    name = yield \"What is your name?\"\n",
    "    yield f\"Hello, {name}\"\n",
    "\n",
    "gen = greet()\n",
    "print(next(gen))       # Start generator, yields \"What is your name?\"\n",
    "print(gen.send(\"Priyanshu\")) "
   ]
  },
  {
   "cell_type": "code",
   "execution_count": 30,
   "id": "d01b7c01-6d2c-465a-be3a-6e0f15ded82a",
   "metadata": {},
   "outputs": [
    {
     "name": "stdout",
     "output_type": "stream",
     "text": [
      "1\n"
     ]
    },
    {
     "ename": "StopIteration",
     "evalue": "",
     "output_type": "error",
     "traceback": [
      "\u001b[31m---------------------------------------------------------------------------\u001b[39m",
      "\u001b[31mStopIteration\u001b[39m                             Traceback (most recent call last)",
      "\u001b[36mCell\u001b[39m\u001b[36m \u001b[39m\u001b[32mIn[30]\u001b[39m\u001b[32m, line 8\u001b[39m\n\u001b[32m      6\u001b[39m \u001b[38;5;28mprint\u001b[39m(\u001b[38;5;28mnext\u001b[39m(g))\n\u001b[32m      7\u001b[39m g.close()\n\u001b[32m----> \u001b[39m\u001b[32m8\u001b[39m \u001b[38;5;28mprint\u001b[39m(\u001b[38;5;28;43mnext\u001b[39;49m\u001b[43m(\u001b[49m\u001b[43mg\u001b[49m\u001b[43m)\u001b[49m)\n",
      "\u001b[31mStopIteration\u001b[39m: "
     ]
    }
   ],
   "source": [
    "def my_gen():\n",
    "    yield 1\n",
    "    yield 2\n",
    "\n",
    "g = my_gen()\n",
    "print(next(g))\n",
    "g.close()\n",
    "print(next(g))"
   ]
  },
  {
   "cell_type": "code",
   "execution_count": null,
   "id": "bb28e0da-c1a9-4e51-a0e8-bb8a9eea210c",
   "metadata": {},
   "outputs": [],
   "source": []
  }
 ],
 "metadata": {
  "kernelspec": {
   "display_name": "Python 3 (ipykernel)",
   "language": "python",
   "name": "python3"
  },
  "language_info": {
   "codemirror_mode": {
    "name": "ipython",
    "version": 3
   },
   "file_extension": ".py",
   "mimetype": "text/x-python",
   "name": "python",
   "nbconvert_exporter": "python",
   "pygments_lexer": "ipython3",
   "version": "3.12.9"
  }
 },
 "nbformat": 4,
 "nbformat_minor": 5
}
