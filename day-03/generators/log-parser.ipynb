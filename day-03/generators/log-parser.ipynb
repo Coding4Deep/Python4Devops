{
 "cells": [
  {
   "cell_type": "code",
   "execution_count": 34,
   "id": "336570f2-0ad6-4989-90de-bbb91bd7f94e",
   "metadata": {},
   "outputs": [
    {
     "data": {
      "text/plain": [
       "{'ts': '2025-05-02 08:58:02+00:00',\n",
       " 'level': 'DEBUG',\n",
       " 'message': 'Debugging session started for user user18'}"
      ]
     },
     "execution_count": 34,
     "metadata": {},
     "output_type": "execute_result"
    }
   ],
   "source": [
    "# 1.  Ingest the log lines\n",
    "# 2.  Filter log lines based on either level or message substring\n",
    "# 3.  Extract and return only the message attribute of the logs\n",
    "\n",
    "import sys\n",
    "import json\n",
    "\n",
    "def read_log(filepath):\n",
    "    with open(filepath, 'r') as file:\n",
    "        for line in file:\n",
    "            line = line.strip()\n",
    "            if not line:\n",
    "                continue\n",
    "            yield json.loads(line)\n",
    "    \n",
    "log_gen = read_log(\"log.txt\")\n",
    "# print(log_gen)\n",
    "#print(next(log_gen))\n",
    "# for i in range(1):\n",
    "#     print(next(log_gen))\n",
    "\n",
    "\n",
    "def filter_logs(logs, level=None,message_str=None):\n",
    "    for log in logs:\n",
    "        if (\n",
    "            level is not None\n",
    "            and log.get(\"level\", \"\").lower() != level.lower()\n",
    "        ):\n",
    "            continue\n",
    "        if (\n",
    "            message is not None\n",
    "            and message_str.lower() not in log.get(\"message\",\"\").lower()\n",
    "        ):\n",
    "            continue\n",
    "        yield log\n",
    "        \n",
    "\n",
    "fil_log=filter_logs(log_gen,'DEBUG')\n",
    "next(fil_log)\n",
    "\n",
    "\n"
   ]
  },
  {
   "cell_type": "code",
   "execution_count": null,
   "id": "407661b0-a89d-48de-97ec-b63896826d79",
   "metadata": {},
   "outputs": [],
   "source": []
  },
  {
   "cell_type": "code",
   "execution_count": null,
   "id": "73bf8da3-4f6e-45cb-8e37-a9029f1787a3",
   "metadata": {},
   "outputs": [],
   "source": []
  },
  {
   "cell_type": "code",
   "execution_count": null,
   "id": "4932ebf1-013f-47a2-a8db-ed711d247ac5",
   "metadata": {},
   "outputs": [],
   "source": []
  }
 ],
 "metadata": {
  "kernelspec": {
   "display_name": "Python 3 (ipykernel)",
   "language": "python",
   "name": "python3"
  },
  "language_info": {
   "codemirror_mode": {
    "name": "ipython",
    "version": 3
   },
   "file_extension": ".py",
   "mimetype": "text/x-python",
   "name": "python",
   "nbconvert_exporter": "python",
   "pygments_lexer": "ipython3",
   "version": "3.12.9"
  }
 },
 "nbformat": 4,
 "nbformat_minor": 5
}
