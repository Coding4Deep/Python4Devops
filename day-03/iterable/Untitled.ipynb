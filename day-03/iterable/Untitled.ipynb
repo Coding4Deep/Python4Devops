{
 "cells": [
  {
   "cell_type": "markdown",
   "id": "e4847eb0-8436-43a9-b397-72f49cfa0db5",
   "metadata": {},
   "source": [
    "### 🧩 Q1. Understanding the Basics\n",
    "\n",
    "Create a class `Countdown` that counts down from a given number to 1 using the iterator protocol.\n",
    "\n",
    "Requirements:\n",
    "\n",
    "* Define `__init__`, `__iter__`, and `__next__`.\n",
    "* Raise `StopIteration` when it reaches 0.\n",
    "* Example:\n",
    "\n",
    "  ```python\n",
    "  for num in Countdown(3):\n",
    "      print(num)\n",
    "  # Output: 3 2 1\n",
    "  ```\n"
   ]
  },
  {
   "cell_type": "markdown",
   "id": "bf62ef41-0ba3-47fc-9d39-6d225cf5f445",
   "metadata": {},
   "source": [
    "### 🧩 Q2. Multiple Iterators\n",
    "\n",
    "Modify your `Countdown` class so that **each `for` loop gets its own fresh iterator** (it restarts from the top every time).\n",
    "\n",
    "Hint: Change what `__iter__` returns.\n",
    "\n",
    "Then test it with:\n",
    "\n",
    "```python\n",
    "c = Countdown(3)\n",
    "for i in c:\n",
    "    for j in c:\n",
    "        print(i, j)\n",
    "```\n"
   ]
  },
  {
   "cell_type": "markdown",
   "id": "d1fc2fc8-3582-4778-8084-bc634e665266",
   "metadata": {},
   "source": [
    "\n",
    "### 🧩 Q3. Manual Iteration\n",
    "\n",
    "Create an instance of your `Countdown` and manually iterate using `next()` instead of a `for` loop.\n",
    "\n",
    "Example:\n",
    "\n",
    "```python\n",
    "c = Countdown(3)\n",
    "print(next(c))\n",
    "print(next(c))\n",
    "print(next(c))\n",
    "print(next(c))   # should raise StopIteration\n",
    "```\n",
    "\n",
    "Explain (in comments) what happens when `StopIteration` occurs.\n",
    "\n",
    "---"
   ]
  },
  {
   "cell_type": "markdown",
   "id": "16bcf05e-8559-48ae-9fcc-7cf5408c0255",
   "metadata": {},
   "source": [
    "### 🧩 Q4. Iterator Reuse Problem\n",
    "\n",
    "Create a class `CountUp` that counts from 1 to N.\n",
    "\n",
    "* Make it return `self` from `__iter__`.\n",
    "* Create a single object `c = CountUp(3)`\n",
    "* Run:\n",
    "\n",
    "  ```python\n",
    "  for i in c:\n",
    "      for j in c:\n",
    "          print(i, j)\n",
    "  ```\n",
    "\n",
    "Explain (in comments) why the output is **not 9 pairs** and how to fix it.\n",
    "\n",
    "---"
   ]
  },
  {
   "cell_type": "markdown",
   "id": "212e1869-9258-45a4-a580-e3ffde129ad4",
   "metadata": {},
   "source": [
    "### 🧩 Q5. Custom Iterable with Fresh Iterator\n",
    "\n",
    "Fix your `CountUp` class from Q4 so that each `for` loop restarts counting from 1 again.\n",
    "(Hint: return a *new* iterator object each time `__iter__` is called.)\n"
   ]
  },
  {
   "cell_type": "markdown",
   "id": "4b84816f-689e-46b0-a8dc-4dc5f21a7dcf",
   "metadata": {},
   "source": [
    "\n",
    "### 🧩 Q6. Using Iterator to Simulate File Reading\n",
    "\n",
    "Create a class `FakeFile` that simulates reading lines from a file.\n",
    "\n",
    "Requirements:\n",
    "\n",
    "* It accepts a list of strings (lines).\n",
    "* Each call to `next()` returns one line.\n",
    "* When all lines are read, raise `StopIteration`.\n",
    "\n",
    "Example:\n",
    "\n",
    "```python\n",
    "lines = [\"Hello\", \"World\", \"Python\"]\n",
    "for line in FakeFile(lines):\n",
    "    print(line)\n",
    "```\n"
   ]
  },
  {
   "cell_type": "markdown",
   "id": "03042962-5804-4b06-ac30-d32fdbc0aa15",
   "metadata": {},
   "source": [
    "### 🧩 Q7. Infinite Iterator (⚠️ Be careful)\n",
    "\n",
    "Create a class `EvenNumbers` that **infinitely generates even numbers** starting from 0.\n",
    "\n",
    "* Don’t raise `StopIteration`.\n",
    "* Test it carefully by only printing the first 5 numbers (use `itertools.islice`).\n",
    "\n",
    "Example:\n",
    "\n",
    "```python\n",
    "import itertools\n",
    "evens = EvenNumbers()\n",
    "for num in itertools.islice(evens, 5):\n",
    "    print(num)\n",
    "```\n"
   ]
  },
  {
   "cell_type": "markdown",
   "id": "e3917821-6613-4401-b8bb-46065c5c5556",
   "metadata": {},
   "source": [
    "### 🧩 Q8. Combining Iterators\n",
    "\n",
    "Write a function `merge_iterators(it1, it2)` that takes two iterators and yields values alternately:\n",
    "\n",
    "```python\n",
    "# Example:\n",
    "# it1 = [1, 3, 5]\n",
    "# it2 = [2, 4, 6]\n",
    "# Output: 1 2 3 4 5 6\n",
    "```\n",
    "\n",
    "You must implement it **without using `zip()`** — manually with `next()` and try/except.\n",
    "\n",
    "---"
   ]
  },
  {
   "cell_type": "markdown",
   "id": "bf7ffacb-e338-403b-867a-017b27303da9",
   "metadata": {},
   "source": [
    "\n",
    "### 🧩 Q9. Generator vs Iterator Comparison\n",
    "\n",
    "Create a class-based iterator `SquareIterator(n)` that yields squares from 1² to n².\n",
    "\n",
    "Then write a **generator function** version `square_generator(n)` that does the same.\n",
    "\n",
    "Compare:\n",
    "\n",
    "* Which one is simpler?\n",
    "* Which one keeps less state?\n",
    "* Are both lazy (on-demand)?\n",
    "\n",
    "---"
   ]
  },
  {
   "cell_type": "markdown",
   "id": "67b85389-466d-48ff-8bf6-87d8e50b2c9b",
   "metadata": {},
   "source": [
    "### 🧩 Q10. Deep Understanding Challenge\n",
    "\n",
    "Here’s a tricky code:\n",
    "\n",
    "```python\n",
    "class Counter:\n",
    "    def __init__(self, n):\n",
    "        self.n = n\n",
    "        self.current = 0\n",
    "    def __iter__(self):\n",
    "        return self\n",
    "    def __next__(self):\n",
    "        if self.current < self.n:\n",
    "            self.current += 1\n",
    "            return self.current\n",
    "        else:\n",
    "            raise StopIteration\n",
    "\n",
    "c1 = Counter(3)\n",
    "c2 = Counter(3)\n",
    "\n",
    "for i in c1:\n",
    "    for j in c2:\n",
    "        print(i, j)\n",
    "    \n",
    "```\n",
    "##### Predict the output without running it — then run it and check.\n",
    "##### Explain why it behaves that way in comments."
   ]
  },
  {
   "cell_type": "code",
   "execution_count": null,
   "id": "99a4c837-6d18-4788-9357-e2b1885ec17a",
   "metadata": {},
   "outputs": [],
   "source": []
  }
 ],
 "metadata": {
  "kernelspec": {
   "display_name": "Python 3 (ipykernel)",
   "language": "python",
   "name": "python3"
  },
  "language_info": {
   "codemirror_mode": {
    "name": "ipython",
    "version": 3
   },
   "file_extension": ".py",
   "mimetype": "text/x-python",
   "name": "python",
   "nbconvert_exporter": "python",
   "pygments_lexer": "ipython3",
   "version": "3.12.9"
  }
 },
 "nbformat": 4,
 "nbformat_minor": 5
}
