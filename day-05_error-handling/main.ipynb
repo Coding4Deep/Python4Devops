{
 "cells": [
  {
   "cell_type": "markdown",
   "id": "6c2d3243",
   "metadata": {},
   "source": [
    "#  Basic Level Error Handling Exercises (10+)"
   ]
  },
  {
   "cell_type": "markdown",
   "id": "79ef9b7b",
   "metadata": {},
   "source": [
    "### 🧩 1. Division Safety\n",
    "\n",
    "Write a program that divides two numbers and handles ZeroDivisionError.\n",
    "\n",
    "💡 **Hint:** Use try/except ZeroDivisionError."
   ]
  },
  {
   "cell_type": "code",
   "execution_count": 6,
   "id": "da41e193",
   "metadata": {},
   "outputs": [
    {
     "name": "stdout",
     "output_type": "stream",
     "text": [
      "0.875\n",
      "cannot divide by 0\n",
      "0.7\n"
     ]
    }
   ],
   "source": [
    "# def div1(a,b):\n",
    "#     return a/b\n",
    "#div1(23/0)\n",
    "def div(a,b):\n",
    "    try:\n",
    "        print(a/b)\n",
    "    except ZeroDivisionError:\n",
    "        print(\"cannot divide by 0\")\n",
    "\n",
    "div(7,8)\n",
    "div(7,0)\n",
    "div(7,10)"
   ]
  },
  {
   "cell_type": "markdown",
   "id": "542c4a68",
   "metadata": {},
   "source": [
    "### 🧩 2. List Index Access\n",
    "\n",
    "Access list index safely, handle IndexError.\n",
    "\n",
    "💡 **Hint:** Use len() to check or catch exception."
   ]
  },
  {
   "cell_type": "code",
   "execution_count": 24,
   "id": "4ef18dee",
   "metadata": {},
   "outputs": [
    {
     "name": "stdout",
     "output_type": "stream",
     "text": [
      "list index out of range\n",
      "100\n"
     ]
    }
   ],
   "source": [
    "def indErr(list):\n",
    "    try:\n",
    "        print(list[4])\n",
    "    except IndexError as e:\n",
    "        print(e)\n",
    "\n",
    "    print(list[1])\n",
    "    \n",
    "\n",
    "l=[\"deepak\",100,\"sagar\"]    \n",
    "indErr(l)"
   ]
  },
  {
   "cell_type": "markdown",
   "id": "ff90a0cb",
   "metadata": {},
   "source": [
    "### 🧩 3. File Reader\n",
    "\n",
    "Open a file and handle FileNotFoundError.\n",
    "\n",
    "💡 **Hint:** Use open() inside try/except."
   ]
  },
  {
   "cell_type": "code",
   "execution_count": 36,
   "id": "8a805ce3",
   "metadata": {},
   "outputs": [
    {
     "name": "stdout",
     "output_type": "stream",
     "text": [
      "[Errno 2] No such file or directory: 'maicn.py'\n",
      "result\n"
     ]
    }
   ],
   "source": [
    "def readFile(filepath):\n",
    "    try:\n",
    "        with open(filepath,\"r\") as file:\n",
    "            for line in file:\n",
    "                print(line.strip())\n",
    "    except FileNotFoundError as e:\n",
    "        print(e)\n",
    "    print(\"result\")\n",
    "\n",
    "            \n",
    "readFile(\"maicn.py\")"
   ]
  },
  {
   "cell_type": "markdown",
   "id": "94c459de",
   "metadata": {},
   "source": [
    "### 🧩 4. Convert to Integer\n",
    "\n",
    "Convert string list to integers skipping invalid ones.\n",
    "\n",
    "💡 **Hint:** Use int() inside try/except."
   ]
  },
  {
   "cell_type": "code",
   "execution_count": 48,
   "id": "89be1b7a",
   "metadata": {
    "scrolled": true
   },
   "outputs": [
    {
     "name": "stdout",
     "output_type": "stream",
     "text": [
      "invalid literal for int() with base 10: 'deepak'\n",
      "[100, 1222]\n"
     ]
    }
   ],
   "source": [
    "def convert(list):\n",
    "    result=[]\n",
    "    for item in list:\n",
    "        try:\n",
    "            num=int(item)\n",
    "            result.append(num)\n",
    "        except ValueError as e:\n",
    "            print(e)\n",
    "    return result\n",
    "    \n",
    "list=[\"100\",\"deepak\",\"1222\"]\n",
    "print(convert(list))\n",
    "\n",
    "\n"
   ]
  },
  {
   "cell_type": "markdown",
   "id": "9f49dae6",
   "metadata": {},
   "source": [
    "### 🧩 5. Dictionary Lookup\n",
    "\n",
    "Handle missing key in dict lookup.\n",
    "\n",
    "💡 **Hint:** Use dict.get() or try/except KeyError."
   ]
  },
  {
   "cell_type": "code",
   "execution_count": 20,
   "id": "3e3dcd43",
   "metadata": {
    "scrolled": true
   },
   "outputs": [
    {
     "name": "stdout",
     "output_type": "stream",
     "text": [
      "name\n",
      "roll_no\n",
      "status\n",
      "grade not found in this dictionary\n"
     ]
    }
   ],
   "source": [
    "def dict(d):\n",
    "    for key in d.keys(): \n",
    "        print(key)\n",
    "    try:\n",
    "        k=\"grade\"\n",
    "        print(d[\"k\"])     \n",
    "    except KeyError:\n",
    "        print(f\"{k} not found in this dictionary\")\n",
    "        \n",
    "        \n",
    "       \n",
    "dic={\n",
    "    \"name\":\"deepak\",\n",
    "    \"roll_no\": 18,\n",
    "    \"status\":\"pass\"\n",
    "}\n",
    "# print(dic.items())\n",
    "# print(dic.keys())\n",
    "# print(dic.values())\n",
    "# print(dic)\n",
    "# print(dic.get(\"nam\",\"not found\"))\n",
    "dict(dic)\n",
    "  \n",
    "    "
   ]
  },
  {
   "cell_type": "markdown",
   "id": "4ec4d80c",
   "metadata": {},
   "source": [
    "### 🧩 6. Multiple Exceptions\n",
    "\n",
    "Handle ValueError and ZeroDivisionError separately.\n",
    "\n",
    "💡 **Hint:** Use multiple except blocks."
   ]
  },
  {
   "cell_type": "code",
   "execution_count": 35,
   "id": "3800ad8e",
   "metadata": {},
   "outputs": [
    {
     "name": "stdout",
     "output_type": "stream",
     "text": [
      "5.0\n",
      "8.5\n",
      "gave proper int value: invalid literal for int() with base 10: 'avd'\n"
     ]
    }
   ],
   "source": [
    "def div(a,b):\n",
    "    try:\n",
    "        a=int(a)\n",
    "        b=int(b)\n",
    "        print(a/b)\n",
    "    except ZeroDivisionError:\n",
    "        print(f\"{b} cant be 0\")\n",
    "    except ValueError as e:\n",
    "        print(f\"gave proper int value: {e}\")\n",
    "    except TypeError as e:\n",
    "        print(f\"expect int: {e}\")\n",
    "\n",
    "div(10,2)\n",
    "div(17.9,\"2\")\n",
    "div(\"avd\",2)\n",
    "\n",
    "\n",
    "        "
   ]
  },
  {
   "cell_type": "markdown",
   "id": "29a341a1",
   "metadata": {},
   "source": [
    "### 🧩 7. Custom Error Raising\n",
    "\n",
    "Raise ValueError if age < 0.\n",
    "\n",
    "💡 **Hint:** Use raise ValueError('Invalid age')."
   ]
  },
  {
   "cell_type": "code",
   "execution_count": 45,
   "id": "833b3503",
   "metadata": {},
   "outputs": [
    {
     "name": "stdout",
     "output_type": "stream",
     "text": [
      "Age is valid: 12\n",
      "Invalid age: age cannot be less than 0\n"
     ]
    }
   ],
   "source": [
    "def ageC(age):\n",
    "    try:\n",
    "        if age < 0:\n",
    "            raise ValueError(\"Invalid age: age cannot be less than 0\")\n",
    "        print(\"Age is valid:\", age)\n",
    "    except ValueError as e:\n",
    "        print(e)\n",
    "\n",
    "ageC(12)   # ✅ valid\n",
    "ageC(-5)   # ❌ invalid\n"
   ]
  },
  {
   "cell_type": "markdown",
   "id": "e2940955",
   "metadata": {},
   "source": [
    "### 🧩 8. Else + Finally\n",
    "\n",
    "Use else and finally in a division program.\n",
    "\n",
    "💡 **Hint:** Use finally to print completion."
   ]
  },
  {
   "cell_type": "code",
   "execution_count": 49,
   "id": "2f174156",
   "metadata": {},
   "outputs": [
    {
     "name": "stdout",
     "output_type": "stream",
     "text": [
      "b cant be 0: division by zero\n"
     ]
    }
   ],
   "source": [
    "#Use else and finally in a division program.\n",
    "\n",
    "def div(a,b):\n",
    "    try:\n",
    "        print(a/b)\n",
    "    except ZeroDivisionError as e:\n",
    "        print(f\"b cant be 0: {e}\")\n",
    "    else:\n",
    "        print(\"division completed\")\n",
    "div(122,0)"
   ]
  },
  {
   "cell_type": "markdown",
   "id": "8ab62aa3",
   "metadata": {},
   "source": [
    "### 🧩 9. String Operations\n",
    "\n",
    "Handle AttributeError while using string methods.\n",
    "\n",
    "💡 **Hint:** Wrap in try/except."
   ]
  },
  {
   "cell_type": "code",
   "execution_count": null,
   "id": "0e40107c",
   "metadata": {},
   "outputs": [],
   "source": []
  },
  {
   "cell_type": "markdown",
   "id": "412071cb",
   "metadata": {},
   "source": [
    "### 🧩 10. Nested try-except\n",
    "\n",
    "Nest two try-except blocks for file operations.\n",
    "\n",
    "💡 **Hint:** Inner handles ValueError, outer handles FileNotFoundError."
   ]
  },
  {
   "cell_type": "code",
   "execution_count": null,
   "id": "945507f5",
   "metadata": {},
   "outputs": [],
   "source": [
    "# Write your solution here\n"
   ]
  },
  {
   "cell_type": "markdown",
   "id": "06b875f0",
   "metadata": {},
   "source": [
    "# ⚙️ Intermediate Level Error Handling Exercises (10+)"
   ]
  },
  {
   "cell_type": "markdown",
   "id": "c516d8ab",
   "metadata": {},
   "source": [
    "### 🧩 1. API Request Handler\n",
    "\n",
    "Simulate API call errors using random failure.\n",
    "\n",
    "💡 **Hint:** Use random.choice and try/except."
   ]
  },
  {
   "cell_type": "code",
   "execution_count": 58,
   "id": "4953ea14",
   "metadata": {},
   "outputs": [
    {
     "name": "stdout",
     "output_type": "stream",
     "text": [
      "Calling API...\n",
      "requested timeout !\n",
      "Calling API...\n",
      "server not running\n",
      "Calling API...\n",
      "server not running\n",
      "Calling API...\n",
      "server not running\n",
      "Calling API...\n",
      "requested timeout !\n"
     ]
    }
   ],
   "source": [
    "import random\n",
    "import time\n",
    "class ServerError(Exception):\n",
    "    pass\n",
    "def simulated_api_call():\n",
    "    \"\"\"\n",
    "    Simulates an API call which randomly fails.\n",
    "    \"\"\"\n",
    "    print(\"Calling API...\")\n",
    "    time.sleep(1)  # Simulate network delay\n",
    "\n",
    "    # Randomly choose an outcome\n",
    "    outcome = random.choice([\"success\", \"timeout\", \"connection_error\", \"server_error\"])\n",
    "\n",
    "    if outcome == \"success\":\n",
    "        return {\"status\": 200, \"data\": \"API call successful!\"}\n",
    "    if outcome == \"timeout\":\n",
    "        raise TimeoutError(\"requested timeout !\")\n",
    "    if outcome == \"connection_error\":\n",
    "        raise ConnectionError(\"backend not connected\")\n",
    "    if outcome == \"server_error\":\n",
    "        raise ServerError(\"server not running\")\n",
    "\n",
    "for i in range(5):\n",
    "    try:\n",
    "        simulated_api_call()\n",
    "        print(\"succes.......\")\n",
    "    except TimeoutError as e:\n",
    "        print(e)\n",
    "    except ConnectionError as e:\n",
    "        print(e)    \n",
    "    except ServerError as e:\n",
    "        print(e)\n",
    "        "
   ]
  },
  {
   "cell_type": "markdown",
   "id": "390b887d",
   "metadata": {},
   "source": [
    "### 🧩 2. Log File Parser\n",
    "\n",
    "Parse logs safely, handle ValueError.\n",
    "\n",
    "💡 **Hint:** Wrap line parsing logic in try/except."
   ]
  },
  {
   "cell_type": "code",
   "execution_count": null,
   "id": "732dfd46",
   "metadata": {},
   "outputs": [],
   "source": [
    "# Write your solution here\n"
   ]
  },
  {
   "cell_type": "markdown",
   "id": "552605ac",
   "metadata": {},
   "source": [
    "### 🧩 3. Calculator Function\n",
    "\n",
    "Handle invalid operations gracefully.\n",
    "\n",
    "💡 **Hint:** Use raise for invalid ops."
   ]
  },
  {
   "cell_type": "code",
   "execution_count": null,
   "id": "4865c41c",
   "metadata": {},
   "outputs": [],
   "source": [
    "# Write your solution here\n"
   ]
  },
  {
   "cell_type": "markdown",
   "id": "81a5fad8",
   "metadata": {},
   "source": [
    "### 🧩 4. Config File Loader\n",
    "\n",
    "Handle missing JSON file and bad JSON.\n",
    "\n",
    "💡 **Hint:** Use json.load() inside try/except."
   ]
  },
  {
   "cell_type": "code",
   "execution_count": null,
   "id": "47356034",
   "metadata": {},
   "outputs": [],
   "source": [
    "# Write your solution here\n"
   ]
  },
  {
   "cell_type": "markdown",
   "id": "cc3be981",
   "metadata": {},
   "source": [
    "### 🧩 5. User Registration Validator\n",
    "\n",
    "Raise ValueError for missing keys.\n",
    "\n",
    "💡 **Hint:** Use isinstance() to check types."
   ]
  },
  {
   "cell_type": "code",
   "execution_count": null,
   "id": "c892cbd0",
   "metadata": {},
   "outputs": [],
   "source": [
    "# Write your solution here\n"
   ]
  },
  {
   "cell_type": "markdown",
   "id": "20aa317c",
   "metadata": {},
   "source": [
    "### 🧩 6. Batch Processor\n",
    "\n",
    "Skip invalid numbers and raise ValueError for negatives.\n",
    "\n",
    "💡 **Hint:** Use math.sqrt() in try/except."
   ]
  },
  {
   "cell_type": "code",
   "execution_count": null,
   "id": "23c8e82d",
   "metadata": {},
   "outputs": [],
   "source": [
    "# Write your solution here\n"
   ]
  },
  {
   "cell_type": "markdown",
   "id": "5c7c7245",
   "metadata": {},
   "source": [
    "### 🧩 7. Retry Logic\n",
    "\n",
    "Retry connection three times on failure.\n",
    "\n",
    "💡 **Hint:** Use loop with try/except."
   ]
  },
  {
   "cell_type": "code",
   "execution_count": null,
   "id": "f98b0c6f",
   "metadata": {},
   "outputs": [],
   "source": [
    "# Write your solution here\n"
   ]
  },
  {
   "cell_type": "markdown",
   "id": "8e6cfa6f",
   "metadata": {},
   "source": [
    "### 🧩 8. Chained Exceptions\n",
    "\n",
    "Use raise ... from e to chain exceptions.\n",
    "\n",
    "💡 **Hint:** Wrap original error in a new one."
   ]
  },
  {
   "cell_type": "code",
   "execution_count": null,
   "id": "73ff75a8",
   "metadata": {},
   "outputs": [],
   "source": [
    "# Write your solution here\n"
   ]
  },
  {
   "cell_type": "markdown",
   "id": "979063d0",
   "metadata": {},
   "source": [
    "### 🧩 9. Context Manager\n",
    "\n",
    "Ensure file closes even on error.\n",
    "\n",
    "💡 **Hint:** Use with open() and finally block."
   ]
  },
  {
   "cell_type": "code",
   "execution_count": null,
   "id": "f852219e",
   "metadata": {},
   "outputs": [],
   "source": [
    "# Write your solution here\n"
   ]
  },
  {
   "cell_type": "markdown",
   "id": "b7ce86cf",
   "metadata": {},
   "source": [
    "### 🧩 10. Decorator for Safe Execution\n",
    "\n",
    "Catch any function error and return None.\n",
    "\n",
    "💡 **Hint:** Wrap func(*args, **kwargs) in try/except."
   ]
  },
  {
   "cell_type": "code",
   "execution_count": null,
   "id": "9dcf176a",
   "metadata": {},
   "outputs": [],
   "source": [
    "# Write your solution here\n"
   ]
  },
  {
   "cell_type": "markdown",
   "id": "e2be9f8e",
   "metadata": {},
   "source": [
    "# 🚀 Advanced Level Error Handling Exercises (15)"
   ]
  },
  {
   "cell_type": "markdown",
   "id": "743057f2",
   "metadata": {},
   "source": [
    "### 🧩 1. Custom Exception Hierarchy\n",
    "\n",
    "Create EcommerceError, PaymentError, etc.\n",
    "\n",
    "💡 **Hint:** Inherit from Exception."
   ]
  },
  {
   "cell_type": "code",
   "execution_count": null,
   "id": "744103a7",
   "metadata": {},
   "outputs": [],
   "source": [
    "# Write your solution here\n"
   ]
  },
  {
   "cell_type": "markdown",
   "id": "6b0acd60",
   "metadata": {},
   "source": [
    "### 🧩 2. Transaction Rollback\n",
    "\n",
    "Simulate rollback on transfer failure.\n",
    "\n",
    "💡 **Hint:** Use try/finally for rollback."
   ]
  },
  {
   "cell_type": "code",
   "execution_count": null,
   "id": "000859b9",
   "metadata": {},
   "outputs": [],
   "source": [
    "# Write your solution here\n"
   ]
  },
  {
   "cell_type": "markdown",
   "id": "3ca7f3f2",
   "metadata": {},
   "source": [
    "### 🧩 3. Logging Exceptions\n",
    "\n",
    "Decorator logs errors to file.\n",
    "\n",
    "💡 **Hint:** Use logging module."
   ]
  },
  {
   "cell_type": "code",
   "execution_count": null,
   "id": "cea99480",
   "metadata": {},
   "outputs": [],
   "source": [
    "# Write your solution here\n"
   ]
  },
  {
   "cell_type": "markdown",
   "id": "86235f29",
   "metadata": {},
   "source": [
    "### 🧩 4. Retry Decorator\n",
    "\n",
    "Implement retry with delay.\n",
    "\n",
    "💡 **Hint:** Use time.sleep() and recursion/loop."
   ]
  },
  {
   "cell_type": "code",
   "execution_count": null,
   "id": "9f57a983",
   "metadata": {},
   "outputs": [],
   "source": [
    "# Write your solution here\n"
   ]
  },
  {
   "cell_type": "markdown",
   "id": "2d8dd867",
   "metadata": {},
   "source": [
    "### 🧩 5. Safe File Writer\n",
    "\n",
    "Context manager deletes file if error occurs.\n",
    "\n",
    "💡 **Hint:** Use __exit__ to check exception."
   ]
  },
  {
   "cell_type": "code",
   "execution_count": null,
   "id": "68635997",
   "metadata": {},
   "outputs": [],
   "source": [
    "# Write your solution here\n"
   ]
  },
  {
   "cell_type": "markdown",
   "id": "c9b7650a",
   "metadata": {},
   "source": [
    "### 🧩 6. Exception Wrapping\n",
    "\n",
    "Chain exceptions using from e.\n",
    "\n",
    "💡 **Hint:** Use multiple function calls."
   ]
  },
  {
   "cell_type": "code",
   "execution_count": null,
   "id": "2170f76a",
   "metadata": {},
   "outputs": [],
   "source": [
    "# Write your solution here\n"
   ]
  },
  {
   "cell_type": "markdown",
   "id": "5f4907cb",
   "metadata": {},
   "source": [
    "### 🧩 7. Async Error Handling\n",
    "\n",
    "Handle async TimeoutError.\n",
    "\n",
    "💡 **Hint:** Use asyncio.gather with try/except."
   ]
  },
  {
   "cell_type": "code",
   "execution_count": null,
   "id": "a0d51b11",
   "metadata": {},
   "outputs": [],
   "source": [
    "# Write your solution here\n"
   ]
  },
  {
   "cell_type": "markdown",
   "id": "c8687fa1",
   "metadata": {},
   "source": [
    "### 🧩 8. DB Cleanup Context Manager\n",
    "\n",
    "Guarantee cleanup even on error.\n",
    "\n",
    "💡 **Hint:** Use try/finally inside __exit__."
   ]
  },
  {
   "cell_type": "code",
   "execution_count": null,
   "id": "e5e745d0",
   "metadata": {},
   "outputs": [],
   "source": [
    "# Write your solution here\n"
   ]
  },
  {
   "cell_type": "markdown",
   "id": "902b48e3",
   "metadata": {},
   "source": [
    "### 🧩 9. Aggregate Exceptions\n",
    "\n",
    "Collect multiple task exceptions.\n",
    "\n",
    "💡 **Hint:** Store exceptions in list."
   ]
  },
  {
   "cell_type": "code",
   "execution_count": null,
   "id": "bd052ddd",
   "metadata": {},
   "outputs": [],
   "source": [
    "# Write your solution here\n"
   ]
  },
  {
   "cell_type": "markdown",
   "id": "05690b80",
   "metadata": {},
   "source": [
    "### 🧩 10. Complex Validation\n",
    "\n",
    "Raise different errors per field.\n",
    "\n",
    "💡 **Hint:** Define custom exceptions."
   ]
  },
  {
   "cell_type": "code",
   "execution_count": null,
   "id": "4fd02923",
   "metadata": {},
   "outputs": [],
   "source": [
    "# Write your solution here\n"
   ]
  },
  {
   "cell_type": "markdown",
   "id": "2afd85de",
   "metadata": {},
   "source": [
    "### 🧩 11. DB Rollback Simulation\n",
    "\n",
    "Rollback all queries if one fails.\n",
    "\n",
    "💡 **Hint:** Track executed queries."
   ]
  },
  {
   "cell_type": "code",
   "execution_count": null,
   "id": "1fd7bff7",
   "metadata": {},
   "outputs": [],
   "source": [
    "# Write your solution here\n"
   ]
  },
  {
   "cell_type": "markdown",
   "id": "bc1d983c",
   "metadata": {},
   "source": [
    "### 🧩 12. Graceful Shutdown\n",
    "\n",
    "Handle KeyboardInterrupt gracefully.\n",
    "\n",
    "💡 **Hint:** Use signal or try/except KeyboardInterrupt."
   ]
  },
  {
   "cell_type": "code",
   "execution_count": null,
   "id": "4a0ef3dc",
   "metadata": {},
   "outputs": [],
   "source": [
    "# Write your solution here\n"
   ]
  },
  {
   "cell_type": "markdown",
   "id": "d11f792f",
   "metadata": {},
   "source": [
    "### 🧩 13. Config Fallback\n",
    "\n",
    "Load JSON, fallback on missing file.\n",
    "\n",
    "💡 **Hint:** Combine try/except + raise custom error."
   ]
  },
  {
   "cell_type": "code",
   "execution_count": null,
   "id": "9551a2f6",
   "metadata": {},
   "outputs": [],
   "source": [
    "# Write your solution here\n"
   ]
  },
  {
   "cell_type": "markdown",
   "id": "b1a5948c",
   "metadata": {},
   "source": [
    "### 🧩 14. Threaded Error Handling\n",
    "\n",
    "Run threads safely with logging.\n",
    "\n",
    "💡 **Hint:** Use threading and queue."
   ]
  },
  {
   "cell_type": "code",
   "execution_count": null,
   "id": "b815091c",
   "metadata": {},
   "outputs": [],
   "source": [
    "# Write your solution here\n"
   ]
  },
  {
   "cell_type": "markdown",
   "id": "f1c3f6bc",
   "metadata": {},
   "source": [
    "### 🧩 15. Error Reporter\n",
    "\n",
    "Log and alert on exceptions.\n",
    "\n",
    "💡 **Hint:** Use traceback and logging."
   ]
  },
  {
   "cell_type": "code",
   "execution_count": null,
   "id": "7bc19d45",
   "metadata": {},
   "outputs": [],
   "source": [
    "# Write your solution here\n"
   ]
  }
 ],
 "metadata": {
  "kernelspec": {
   "display_name": "Python 3 (ipykernel)",
   "language": "python",
   "name": "python3"
  },
  "language_info": {
   "codemirror_mode": {
    "name": "ipython",
    "version": 3
   },
   "file_extension": ".py",
   "mimetype": "text/x-python",
   "name": "python",
   "nbconvert_exporter": "python",
   "pygments_lexer": "ipython3",
   "version": "3.12.9"
  }
 },
 "nbformat": 4,
 "nbformat_minor": 5
}
