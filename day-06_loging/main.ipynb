{
 "cells": [
  {
   "cell_type": "markdown",
   "id": "fe51a74a",
   "metadata": {},
   "source": [
    "\n",
    "---\n",
    "\n",
    "## 🩵 Section 1: Basics (Q1–Q8)\n"
   ]
  },
  {
   "cell_type": "markdown",
   "id": "37033d4b",
   "metadata": {},
   "source": [
    "### Q1: Import the `logging` module and print a simple INFO message using the root logger."
   ]
  },
  {
   "cell_type": "code",
   "execution_count": 46,
   "id": "2014fb62",
   "metadata": {},
   "outputs": [
    {
     "name": "stdout",
     "output_type": "stream",
     "text": [
      "root\n",
      "10\n",
      "Number of handlers: 1\n"
     ]
    }
   ],
   "source": [
    "import logging\n",
    "\n",
    "# logging.basicConfig(\n",
    "#     # filename='app.log',\n",
    "#     level=logging.DEBUG,\n",
    "#     format='%(asctime)s - %(name)s - %(levelname)s - %(message)s'\n",
    "# )\n",
    "\n",
    "logger=logging.getLogger()\n",
    "logger.setLevel(logging.DEBUG)\n",
    "\n",
    "# handler=logging.FileHandler(\"app.log\")\n",
    "# handler.setLevel(logging.INFO)\n",
    "# logger.addHandler(handler)\n",
    "\n",
    "logger.handlers.clear()\n",
    "if not logger.handlers:\n",
    "    handler = logging.FileHandler(\"app.log\")\n",
    "    handler.setLevel(logging.INFO)\n",
    "    logger.addHandler(handler)\n",
    "\n",
    "logger.debug(\"this is DEBUG\")\n",
    "logger.info(\"this is INFO\")\n",
    "logger.warning(\"this is WARNING\")\n",
    "logger.error(\"ERROR mesgae!\")\n",
    "logger.critical(\"this is crtical error, can crash app\")\n",
    "print(logger.name)\n",
    "print(logger.level)\n",
    "print(\"Number of handlers:\", len(logger.handlers))"
   ]
  },
  {
   "cell_type": "markdown",
   "id": "021b721c",
   "metadata": {},
   "source": [
    "### Q2: Configure basic logging with `basicConfig()` to log messages at level `DEBUG` and display time and message."
   ]
  },
  {
   "cell_type": "code",
   "execution_count": 64,
   "id": "ccfca48a",
   "metadata": {},
   "outputs": [
    {
     "name": "stdout",
     "output_type": "stream",
     "text": [
      "Handlers before basicConfig: [<FileHandler /home/sagar/Python4Devops/day-06_loging/apps.log (NOTSET)>]\n"
     ]
    }
   ],
   "source": [
    "\n",
    "import logging\n",
    "logger = logging.getLogger()\n",
    "if logger.hasHandlers():\n",
    "    logger.handlers.clear()\n",
    "\n",
    "logging.basicConfig(\n",
    "    filename=\"apps.log\",\n",
    "    level=logging.DEBUG,\n",
    "    format=\"%(asctime)s - %(levelname)s - %(message)s\"\n",
    ")\n",
    "\n",
    "logging.info(\"This will only appear once even if rerun\")\n",
    "\n",
    "logger=logging.getLogger(\"app\")\n",
    "logger.info(\"general info\")\n",
    "print(\"Handlers before basicConfig:\", logging.getLogger().handlers)\n"
   ]
  },
  {
   "cell_type": "markdown",
   "id": "e89e0121",
   "metadata": {},
   "source": [
    "### Q3: Log one message of each level: DEBUG, INFO, WARNING, ERROR, CRITICAL."
   ]
  },
  {
   "cell_type": "code",
   "execution_count": null,
   "id": "122f6179",
   "metadata": {},
   "outputs": [],
   "source": []
  },
  {
   "cell_type": "markdown",
   "id": "fec2b349",
   "metadata": {},
   "source": [
    "### Q4: Set the log level to `WARNING` and verify that DEBUG and INFO messages are not shown."
   ]
  },
  {
   "cell_type": "code",
   "execution_count": null,
   "id": "5d1f0447",
   "metadata": {},
   "outputs": [],
   "source": []
  },
  {
   "cell_type": "markdown",
   "id": "c075efe0",
   "metadata": {},
   "source": [
    "### Q5: Add a custom format showing time, level, and message in one line."
   ]
  },
  {
   "cell_type": "code",
   "execution_count": null,
   "id": "7c0e467b",
   "metadata": {},
   "outputs": [],
   "source": []
  },
  {
   "cell_type": "markdown",
   "id": "ba34ed51",
   "metadata": {},
   "source": [
    "### Q6: Change `filemode` in `basicConfig()` so logs overwrite a file named `basic.log`."
   ]
  },
  {
   "cell_type": "code",
   "execution_count": null,
   "id": "a04b616a",
   "metadata": {},
   "outputs": [],
   "source": []
  },
  {
   "cell_type": "markdown",
   "id": "46cc9056",
   "metadata": {},
   "source": [
    "### Q7: Use `getLogger()` to create a named logger 'myAppLogger' and log an INFO message."
   ]
  },
  {
   "cell_type": "code",
   "execution_count": null,
   "id": "1ea828d2",
   "metadata": {},
   "outputs": [],
   "source": []
  },
  {
   "cell_type": "markdown",
   "id": "1da6d9d2",
   "metadata": {},
   "source": [
    "### Q8: Compare the root logger and a named logger by printing `logger.name` for both."
   ]
  },
  {
   "cell_type": "code",
   "execution_count": null,
   "id": "57380232",
   "metadata": {},
   "outputs": [],
   "source": []
  },
  {
   "cell_type": "markdown",
   "id": "abee39bc",
   "metadata": {},
   "source": [
    "---\n",
    "\n",
    "## 🧡 Section 2: Intermediate (Q9–Q20)\n",
    "Now use handlers, formatters, and filters.\n"
   ]
  },
  {
   "cell_type": "markdown",
   "id": "ee404f45",
   "metadata": {},
   "source": [
    "### Q9: Create a logger named 'app' and attach a `StreamHandler` to display logs on the console."
   ]
  },
  {
   "cell_type": "code",
   "execution_count": null,
   "id": "08002219",
   "metadata": {},
   "outputs": [],
   "source": []
  },
  {
   "cell_type": "markdown",
   "id": "46d76f66",
   "metadata": {},
   "source": [
    "### Q10: Add a `FileHandler` to write logs to `app.log`."
   ]
  },
  {
   "cell_type": "code",
   "execution_count": null,
   "id": "472aff66",
   "metadata": {},
   "outputs": [],
   "source": []
  },
  {
   "cell_type": "markdown",
   "id": "8491924f",
   "metadata": {},
   "source": [
    "### Q11: Use a `Formatter` to include time, logger name, and level in the output."
   ]
  },
  {
   "cell_type": "code",
   "execution_count": null,
   "id": "8247643d",
   "metadata": {},
   "outputs": [],
   "source": []
  },
  {
   "cell_type": "markdown",
   "id": "0f046562",
   "metadata": {},
   "source": [
    "### Q12: Set different levels for console (INFO) and file (DEBUG) handlers."
   ]
  },
  {
   "cell_type": "code",
   "execution_count": null,
   "id": "e291d5f3",
   "metadata": {},
   "outputs": [],
   "source": []
  },
  {
   "cell_type": "markdown",
   "id": "173d04cc",
   "metadata": {},
   "source": [
    "### Q13: Log multiple messages and check which appear in console vs file."
   ]
  },
  {
   "cell_type": "code",
   "execution_count": null,
   "id": "33e029f6",
   "metadata": {},
   "outputs": [],
   "source": []
  },
  {
   "cell_type": "markdown",
   "id": "ea84456c",
   "metadata": {},
   "source": [
    "### Q14: Create a custom filter class that blocks DEBUG messages."
   ]
  },
  {
   "cell_type": "code",
   "execution_count": null,
   "id": "5d4cce7e",
   "metadata": {},
   "outputs": [],
   "source": []
  },
  {
   "cell_type": "markdown",
   "id": "583f0a4e",
   "metadata": {},
   "source": [
    "### Q15: Add that filter to your logger and verify it works."
   ]
  },
  {
   "cell_type": "code",
   "execution_count": null,
   "id": "53d42070",
   "metadata": {},
   "outputs": [],
   "source": []
  },
  {
   "cell_type": "markdown",
   "id": "0521d761",
   "metadata": {},
   "source": [
    "### Q16: Use `logger.exception()` inside a try-except block to log an exception traceback."
   ]
  },
  {
   "cell_type": "code",
   "execution_count": null,
   "id": "de0de4df",
   "metadata": {},
   "outputs": [],
   "source": []
  },
  {
   "cell_type": "markdown",
   "id": "59e412ee",
   "metadata": {},
   "source": [
    "### Q17: Add two handlers and format them differently (one detailed, one simple)."
   ]
  },
  {
   "cell_type": "code",
   "execution_count": null,
   "id": "5179dbda",
   "metadata": {},
   "outputs": [],
   "source": []
  },
  {
   "cell_type": "markdown",
   "id": "5839f214",
   "metadata": {},
   "source": [
    "### Q18: Create two loggers (`app.db` and `app.api`) to observe hierarchy and propagation."
   ]
  },
  {
   "cell_type": "code",
   "execution_count": null,
   "id": "dc153adc",
   "metadata": {},
   "outputs": [],
   "source": []
  },
  {
   "cell_type": "markdown",
   "id": "0bea059b",
   "metadata": {},
   "source": [
    "### Q19: Disable propagation on the child logger and log again—compare results."
   ]
  },
  {
   "cell_type": "code",
   "execution_count": null,
   "id": "c28548ac",
   "metadata": {},
   "outputs": [],
   "source": []
  },
  {
   "cell_type": "markdown",
   "id": "c32e0e76",
   "metadata": {},
   "source": [
    "### Q20: Demonstrate `isEnabledFor()` and check if INFO and DEBUG are enabled."
   ]
  },
  {
   "cell_type": "code",
   "execution_count": null,
   "id": "1cbe3dd3",
   "metadata": {},
   "outputs": [],
   "source": []
  },
  {
   "cell_type": "markdown",
   "id": "b62c1de3",
   "metadata": {},
   "source": [
    "---\n",
    "\n",
    "## 💙 Section 3: Advanced (Q21–Q35)\n",
    "Advanced topics — rotation, dictConfig, JSON logs, and contextual data.\n"
   ]
  },
  {
   "cell_type": "markdown",
   "id": "5a761a3c",
   "metadata": {},
   "source": [
    "### Q21: Use `RotatingFileHandler` to limit log size to 1KB and keep 3 backups."
   ]
  },
  {
   "cell_type": "code",
   "execution_count": null,
   "id": "e01da959",
   "metadata": {},
   "outputs": [],
   "source": []
  },
  {
   "cell_type": "markdown",
   "id": "a29cd68a",
   "metadata": {},
   "source": [
    "### Q22: Use `TimedRotatingFileHandler` to rotate logs every 10 seconds."
   ]
  },
  {
   "cell_type": "code",
   "execution_count": null,
   "id": "fa95b5d5",
   "metadata": {},
   "outputs": [],
   "source": []
  },
  {
   "cell_type": "markdown",
   "id": "b65caf5b",
   "metadata": {},
   "source": [
    "### Q23: Configure logging via a dictionary (`dictConfig`) instead of code."
   ]
  },
  {
   "cell_type": "code",
   "execution_count": null,
   "id": "83385385",
   "metadata": {},
   "outputs": [],
   "source": []
  },
  {
   "cell_type": "markdown",
   "id": "4703a4b0",
   "metadata": {},
   "source": [
    "### Q24: Create a custom log level named 'TRACE' (value 5) and log a message with it."
   ]
  },
  {
   "cell_type": "code",
   "execution_count": null,
   "id": "c74bf9a3",
   "metadata": {},
   "outputs": [],
   "source": []
  },
  {
   "cell_type": "markdown",
   "id": "d56bf7b1",
   "metadata": {},
   "source": [
    "### Q25: Create a JSON formatter that outputs logs in JSON format."
   ]
  },
  {
   "cell_type": "code",
   "execution_count": null,
   "id": "facb6227",
   "metadata": {},
   "outputs": [],
   "source": []
  },
  {
   "cell_type": "markdown",
   "id": "270879a8",
   "metadata": {},
   "source": [
    "### Q26: Add contextual information to your logs using the `extra` parameter (e.g., user='Alice')."
   ]
  },
  {
   "cell_type": "code",
   "execution_count": null,
   "id": "78bee25e",
   "metadata": {},
   "outputs": [],
   "source": []
  },
  {
   "cell_type": "markdown",
   "id": "68dfc69e",
   "metadata": {},
   "source": [
    "### Q27: Create a NullHandler and attach it to a logger to suppress output."
   ]
  },
  {
   "cell_type": "code",
   "execution_count": null,
   "id": "3d8a9726",
   "metadata": {},
   "outputs": [],
   "source": []
  },
  {
   "cell_type": "markdown",
   "id": "298d369b",
   "metadata": {},
   "source": [
    "### Q28: Write a custom handler that sends logs to a list (simulate remote logging)."
   ]
  },
  {
   "cell_type": "code",
   "execution_count": null,
   "id": "c252af65",
   "metadata": {},
   "outputs": [],
   "source": []
  },
  {
   "cell_type": "markdown",
   "id": "2aa15488",
   "metadata": {},
   "source": [
    "### Q29: Use `QueueHandler` to send logs to a queue and process them later."
   ]
  },
  {
   "cell_type": "code",
   "execution_count": null,
   "id": "8940df97",
   "metadata": {},
   "outputs": [],
   "source": []
  },
  {
   "cell_type": "markdown",
   "id": "765bb9e2",
   "metadata": {},
   "source": [
    "### Q30: Log exception info using `exc_info=True` without using `logger.exception()`."
   ]
  },
  {
   "cell_type": "code",
   "execution_count": null,
   "id": "7563b880",
   "metadata": {},
   "outputs": [],
   "source": []
  },
  {
   "cell_type": "markdown",
   "id": "5e4db090",
   "metadata": {},
   "source": [
    "### Q31: Implement a MemoryHandler that buffers logs and flushes on ERROR."
   ]
  },
  {
   "cell_type": "code",
   "execution_count": null,
   "id": "1a866b48",
   "metadata": {},
   "outputs": [],
   "source": []
  },
  {
   "cell_type": "markdown",
   "id": "9b7a614b",
   "metadata": {},
   "source": [
    "### Q32: Configure logging using an INI file via `fileConfig()`."
   ]
  },
  {
   "cell_type": "code",
   "execution_count": null,
   "id": "51d2fae7",
   "metadata": {},
   "outputs": [],
   "source": []
  },
  {
   "cell_type": "markdown",
   "id": "be878268",
   "metadata": {},
   "source": [
    "### Q33: Demonstrate how to disable all logging using `logging.disable(logging.CRITICAL)`."
   ]
  },
  {
   "cell_type": "code",
   "execution_count": null,
   "id": "0361aab1",
   "metadata": {},
   "outputs": [],
   "source": []
  },
  {
   "cell_type": "markdown",
   "id": "c6d8d958",
   "metadata": {},
   "source": [
    "### Q34: Create multiple module loggers (`mod1`, `mod2`) and configure them separately."
   ]
  },
  {
   "cell_type": "code",
   "execution_count": null,
   "id": "7f276987",
   "metadata": {},
   "outputs": [],
   "source": []
  },
  {
   "cell_type": "markdown",
   "id": "30741cea",
   "metadata": {},
   "source": [
    "### Q35: Build a small script that logs structured (JSON) data about fake API requests."
   ]
  },
  {
   "cell_type": "code",
   "execution_count": null,
   "id": "9b870a65",
   "metadata": {},
   "outputs": [],
   "source": []
  }
 ],
 "metadata": {
  "kernelspec": {
   "display_name": "Python 3 (ipykernel)",
   "language": "python",
   "name": "python3"
  },
  "language_info": {
   "codemirror_mode": {
    "name": "ipython",
    "version": 3
   },
   "file_extension": ".py",
   "mimetype": "text/x-python",
   "name": "python",
   "nbconvert_exporter": "python",
   "pygments_lexer": "ipython3",
   "version": "3.12.9"
  }
 },
 "nbformat": 4,
 "nbformat_minor": 5
}
