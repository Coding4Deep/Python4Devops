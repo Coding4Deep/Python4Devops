{
 "cells": [
  {
   "cell_type": "markdown",
   "id": "92ff6f67-13be-45b5-aa7d-0390b6106063",
   "metadata": {},
   "source": [
    "\n",
    "### **1. Basic Class & Object (10 Questions)**\n",
    "\n",
    "1. Define a simple class `Car` with no attributes or methods.\n",
    "2. Create an object of the class `Car`.\n",
    "3. Add an attribute `brand` to the `Car` class and initialize it.\n",
    "4. Print the value of the `brand` attribute of a `Car` object.\n",
    "5. Add a method `start()` that prints `\"Car started\"`.\n",
    "6. Call the `start()` method of a `Car` object.\n",
    "7. Add an `__init__` constructor to initialize `brand` and `model`.\n",
    "8. Print all attributes of an object using `__dict__`.\n",
    "9. Add a class attribute `wheels = 4` and access it using the class name and object.\n",
    "10. Try creating an object without passing required `__init__` parameters (observe what happens)."
   ]
  },
  {
   "cell_type": "code",
   "execution_count": 29,
   "id": "247ce167-414b-41c0-8234-a2548c9b75c2",
   "metadata": {},
   "outputs": [
    {
     "name": "stdout",
     "output_type": "stream",
     "text": [
      "the car brand is BMW and model BMWx450CC\n",
      "BMW\n",
      "Car Started\n",
      "4\n"
     ]
    }
   ],
   "source": [
    "# class Car:\n",
    "#     wheel=4\n",
    "#     def __init__(self):\n",
    "#         self.brand = \"BMW\"\n",
    "#         self.model= \"BMWx450CC\"\n",
    "#         print(f\"the car brand is {self.brand} and model {self.model}\")\n",
    "#     def start(self):\n",
    "#         print(\"Car Started\")\n",
    "\n",
    "c = Car()\n",
    "print(c.brand)\n",
    "c.start()\n",
    "print(Car.wheel)\n",
    "\n",
    "\n"
   ]
  },
  {
   "cell_type": "markdown",
   "id": "94b2382f-631b-4197-b29b-b46af2240c6f",
   "metadata": {},
   "source": [
    "### **2. Instance & Class Methods (5 Questions)**\n",
    "\n",
    "11. Add an instance method `full_name()` that returns `brand + model`.\n",
    "12. Add a class method to change the class attribute `wheels`.\n",
    "13. Call a class method without creating an object.\n",
    "14. Add a static method `vehicle_type()` that prints `\"Vehicle\"`.\n",
    "15. Call a static method using both class and object."
   ]
  },
  {
   "cell_type": "code",
   "execution_count": 39,
   "id": "47e80ebd-d8e4-44e9-bdcb-1a7c2aebeecb",
   "metadata": {},
   "outputs": [
    {
     "name": "stdout",
     "output_type": "stream",
     "text": [
      "Vehicle\n",
      "Vehicle\n"
     ]
    }
   ],
   "source": [
    "# class Car:\n",
    "#     wheel = 4  # class attribute\n",
    "    \n",
    "#     def __init__(self):\n",
    "#         self.brand = \"BMW\"\n",
    "#         self.model = \"BMWx450CC\"\n",
    "    \n",
    "#     def start(self):\n",
    "#         print(\"Car Started\")\n",
    "    \n",
    "#     def full_name(self):\n",
    "#         print(f\"full name : {self.brand}:{self.model}\")\n",
    "    \n",
    "#     def update_wheel(self):\n",
    "#         self.wheel = 6          # updates instance attribute\n",
    "#         print(f\"Updated wheel (instance): {self.wheel}\")\n",
    "        \n",
    "#     @classmethod\n",
    "#     def update_class_wheel(cls, new_wheel):\n",
    "#         cls.wheel = new_wheel   # updates class attribute for all instances\n",
    "#         print(f\"Updated wheel (class): {cls.wheel}\")\n",
    "\n",
    "#     @staticmethod\n",
    "#     def vehicle_type():\n",
    "#         print(\"Vehicle\")\n",
    "\n",
    "Car.vehicle_type()\n",
    "c=Car()\n",
    "c.vehicle_type()\n",
    "\n",
    "    \n",
    "\n",
    "# c1 = Car()\n",
    "# c2 = Car()\n",
    "\n",
    "# # Access class attribute\n",
    "# print(Car.wheel)  # 4\n",
    "# print(c1.wheel)   # 4\n",
    "\n",
    "# # Update instance attribute only for c1\n",
    "# c1.update_wheel()  # 6\n",
    "# print(c1.wheel)    # 6\n",
    "# print(c2.wheel)    # 4 (unchanged)\n",
    "\n",
    "# # Update class attribute for all cars\n",
    "# Car.update_class_wheel(8)\n",
    "# print(Car.wheel)   # 8\n",
    "# print(c1.wheel)    # 6 (instance attribute still overrides)\n",
    "# print(c2.wheel)    # 8\n"
   ]
  },
  {
   "cell_type": "markdown",
   "id": "0f72cc70-ae48-4afd-a1e0-fd7573729820",
   "metadata": {},
   "source": [
    "\n",
    "### **3. Encapsulation (5 Questions)**\n",
    "\n",
    "16. Create a private attribute `__speed` and try accessing it outside the class.\n",
    "17. Add a getter method to access `__speed`.\n",
    "18. Add a setter method to modify `__speed`.\n",
    "19. Demonstrate Python’s name mangling for private variables.\n",
    "20. Try modifying a private attribute directly and observe behavior."
   ]
  },
  {
   "cell_type": "code",
   "execution_count": 49,
   "id": "80e58448-1e0e-46d6-a379-6078adfb7e99",
   "metadata": {},
   "outputs": [
    {
     "name": "stdout",
     "output_type": "stream",
     "text": [
      "50\n"
     ]
    }
   ],
   "source": [
    "class Car:\n",
    "    wheel = 4  \n",
    "    def __init__(self):\n",
    "        self.brand   = \"BMW\"\n",
    "        self.model   = \"BMWx450CC\"\n",
    "        self.__speed = 50\n",
    "        # print(self.__speed)\n",
    "        \n",
    "    def start(self):\n",
    "        print(\"Car Started\")\n",
    "    def full_name(self):\n",
    "        print(f\"full name : {self.brand}:{self.model}\")\n",
    "    def update_wheel(self):\n",
    "        self.wheel = 6          # updates instance attribute\n",
    "        print(f\"Updated wheel (instance): {self.wheel}\") \n",
    "    @classmethod\n",
    "    def update_class_wheel(cls, new_wheel):\n",
    "        cls.wheel = new_wheel   # updates class attribute for all instances\n",
    "        print(f\"Updated wheel (class): {cls.wheel}\")\n",
    "    @staticmethod\n",
    "    def vehicle_type():\n",
    "        print(\"Vehicle\")\n",
    "\n",
    "c=Car()\n",
    "# c.__speed\n",
    "# print(c.model)\n",
    "# print(type(c.model))\n",
    "\n"
   ]
  },
  {
   "cell_type": "code",
   "execution_count": null,
   "id": "34d0c9ef-17b0-4dcf-b3e2-7d04864f0985",
   "metadata": {},
   "outputs": [],
   "source": []
  }
 ],
 "metadata": {
  "kernelspec": {
   "display_name": "Python 3 (ipykernel)",
   "language": "python",
   "name": "python3"
  },
  "language_info": {
   "codemirror_mode": {
    "name": "ipython",
    "version": 3
   },
   "file_extension": ".py",
   "mimetype": "text/x-python",
   "name": "python",
   "nbconvert_exporter": "python",
   "pygments_lexer": "ipython3",
   "version": "3.10.12"
  }
 },
 "nbformat": 4,
 "nbformat_minor": 5
}
