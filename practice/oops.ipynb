{
 "cells": [
  {
   "cell_type": "markdown",
   "id": "92ff6f67-13be-45b5-aa7d-0390b6106063",
   "metadata": {},
   "source": [
    "\n",
    "### **1. Basic Class & Object (10 Questions)**\n",
    "\n",
    "1. Define a simple class `Car` with no attributes or methods.\n",
    "2. Create an object of the class `Car`.\n",
    "3. Add an attribute `brand` to the `Car` class and initialize it.\n",
    "4. Print the value of the `brand` attribute of a `Car` object.\n",
    "5. Add a method `start()` that prints `\"Car started\"`.\n",
    "6. Call the `start()` method of a `Car` object.\n",
    "7. Add an `__init__` constructor to initialize `brand` and `model`.\n",
    "8. Print all attributes of an object using `__dict__`.\n",
    "9. Add a class attribute `wheels = 4` and access it using the class name and object.\n",
    "10. Try creating an object without passing required `__init__` parameters (observe what happens)."
   ]
  },
  {
   "cell_type": "code",
   "execution_count": 15,
   "id": "247ce167-414b-41c0-8234-a2548c9b75c2",
   "metadata": {},
   "outputs": [
    {
     "name": "stdout",
     "output_type": "stream",
     "text": [
      "tata\n",
      "superTata\n",
      "Car Started\n",
      "{'brand': 'tata', 'model': 'superTata', 'price': '80000'}\n"
     ]
    }
   ],
   "source": [
    "# class Car:\n",
    "#     def __init__(self, brand,model):\n",
    "#         self.brand = brand\n",
    "#         self.model = model\n",
    "\n",
    "#     def start(self):\n",
    "#         self.price = \"80000\"\n",
    "#         print(\"Car Started\")\n",
    "\n",
    "# c1 = Car(\"tata\",\"superTata\")\n",
    "# print(c1.brand)\n",
    "# print(c1.model)\n",
    "# c1.start()\n",
    "# print(c1.__dict__)\n"
   ]
  },
  {
   "cell_type": "markdown",
   "id": "94b2382f-631b-4197-b29b-b46af2240c6f",
   "metadata": {},
   "source": [
    "### **2. Instance & Class Methods (5 Questions)**\n",
    "\n",
    "11. Add an instance method `full_name()` that returns `brand + model`.\n",
    "12. Add a class method to change the class attribute `wheels`.\n",
    "13. Call a class method without creating an object.\n",
    "14. Add a static method `vehicle_type()` that prints `\"Vehicle\"`.\n",
    "15. Call a static method using both class and object."
   ]
  },
  {
   "cell_type": "code",
   "execution_count": 37,
   "id": "47e80ebd-d8e4-44e9-bdcb-1a7c2aebeecb",
   "metadata": {},
   "outputs": [
    {
     "name": "stdout",
     "output_type": "stream",
     "text": [
      "tata\n",
      "superTata\n",
      "Car Started\n",
      "{'brand': 'tata', 'model': 'superTata', 'price': '80000'}\n",
      "tata-superTata\n",
      "4\n",
      "4\n",
      "###################\n",
      "6\n",
      "6\n",
      "###################\n",
      "tata-new\n",
      "VEHICLE\n",
      "VEHICLE\n"
     ]
    }
   ],
   "source": [
    "class Car:\n",
    "    wheel = 4\n",
    "    def __init__(self, brand,model):\n",
    "        self.brand = brand\n",
    "        self.model = model\n",
    "\n",
    "    def start(self):\n",
    "        self.price = \"80000\"\n",
    "        print(\"Car Started\")\n",
    "\n",
    "    def full_name(self):\n",
    "        return f\"{self.brand}-{self.model}\"\n",
    "    @classmethod\n",
    "    def Wheels(cls):\n",
    "        cls.wheel = 6\n",
    "        print(cls.wheel)\n",
    "    @staticmethod\n",
    "    def vehicle_type():\n",
    "        print(\"VEHICLE\")\n",
    "        \n",
    "\n",
    "c1 = Car(\"tata\",\"superTata\")\n",
    "print(c1.brand)\n",
    "print(c1.model)\n",
    "c1.start()\n",
    "print(c1.__dict__)\n",
    "print(c1.full_name())\n",
    "print(c1.wheel)\n",
    "print(Car.wheel)\n",
    "print(\"###################\")\n",
    "c1.Wheels()\n",
    "print(Car.wheel)\n",
    "print(\"###################\")\n",
    "\n",
    "c1.model=\"new\"\n",
    "print(c1.full_name())\n",
    "\n",
    "c1.vehicle_type()\n",
    "Car.vehicle_type()"
   ]
  },
  {
   "cell_type": "markdown",
   "id": "0f72cc70-ae48-4afd-a1e0-fd7573729820",
   "metadata": {},
   "source": [
    "\n",
    "### **3. Encapsulation (5 Questions)**\n",
    "\n",
    "16. Create a private attribute `__speed` and try accessing it outside the class.\n",
    "17. Add a getter method to access `__speed`.\n",
    "18. Add a setter method to modify `__speed`.\n",
    "19. Demonstrate Python’s name mangling for private variables.\n",
    "20. Try modifying a private attribute directly and observe behavior."
   ]
  },
  {
   "cell_type": "code",
   "execution_count": 56,
   "id": "80e58448-1e0e-46d6-a379-6078adfb7e99",
   "metadata": {},
   "outputs": [
    {
     "name": "stdout",
     "output_type": "stream",
     "text": [
      "mahindra\n",
      "80\n",
      "100\n",
      "can't be 0 or greater than 200 !\n"
     ]
    }
   ],
   "source": [
    "class Car:\n",
    "    wheel = 4\n",
    "    def __init__(self, brand,model):\n",
    "        self.brand = brand\n",
    "        self.model = model\n",
    "        self.__speed = 80\n",
    "\n",
    "    def start(self):\n",
    "        self.price = \"80000\"\n",
    "        print(\"Car Started\")\n",
    "\n",
    "    def full_name(self):\n",
    "        return f\"{self.brand}-{self.model}\"\n",
    "    @classmethod\n",
    "    def Wheels(cls):\n",
    "        cls.wheel = 6\n",
    "        print(cls.wheel)\n",
    "    @staticmethod\n",
    "    def vehicle_type():\n",
    "        print(\"VEHICLE\")\n",
    "    @property\n",
    "    def speed(self):\n",
    "        return self.__speed\n",
    "    @speed.setter\n",
    "    def speed(self,value):\n",
    "        if value < 0 or value > 200:\n",
    "            raise ValueError(\"can't be 0 or greater than 200 !\")\n",
    "        else:\n",
    "            self.__speed = value\n",
    "\n",
    "c2=Car(\"mahindra\",\"thar\")\n",
    "print(c2.brand)\n",
    "# print(c2.__speed)\n",
    "# print(c2._Car__speed)\n",
    "print(c2.speed)\n",
    "c2.speed = 100\n",
    "print(c2.speed)\n",
    "\n",
    "try:\n",
    "    c2.speed=300\n",
    "    print(c2.speed)\n",
    "except ValueError as e:\n",
    "    print(e)\n",
    "        "
   ]
  },
  {
   "cell_type": "markdown",
   "id": "de5d7f35-7af5-4abd-8250-0268b56b0a37",
   "metadata": {},
   "source": [
    "### **4. Inheritance (10 Questions)**\n",
    "\n",
    "21. Create a class `Vehicle` and inherit it in class `Car`.\n",
    "22. Add a method `vehicle_type()` in `Vehicle` and call it from `Car` object.\n",
    "23. Override a method in child class.\n",
    "24. Use `super()` to call parent class method.\n",
    "25. Multiple inheritance: create another class `Flyable` and inherit `Vehicle` and `Flyable` in `FlyingCar`.\n",
    "26. Demonstrate method resolution order (MRO) with `FlyingCar`.\n",
    "27. Check `issubclass(Car, Vehicle)` and `isinstance(car_obj, Vehicle)`.\n",
    "28. Call parent constructor from child class using `super().__init__()`.\n",
    "29. Add attributes in child class and access both parent and child attributes.\n",
    "30. Create a `Bike` class inheriting `Vehicle` and override a class attribute."
   ]
  },
  {
   "cell_type": "code",
   "execution_count": 58,
   "id": "d59f790f-efbe-4e21-a9ef-c5f7f29c3bf8",
   "metadata": {},
   "outputs": [
    {
     "name": "stdout",
     "output_type": "stream",
     "text": [
      "This is a vehicle\n",
      "Car: Tata Nexon\n"
     ]
    }
   ],
   "source": [
    "class Vehicle:\n",
    "    def __init__(self, brand):\n",
    "        self.brand = brand\n",
    "\n",
    "    def vehicle_type(self):\n",
    "        print(\"This is a vehicle\")\n",
    "\n",
    "\n",
    "class Car(Vehicle):\n",
    "    def __init__(self, brand, model):\n",
    "        super().__init__(brand)   \n",
    "        self.model = model\n",
    "\n",
    "    def car_info(self):\n",
    "        print(f\"Car: {self.brand} {self.model}\")\n",
    "\n",
    "\n",
    "# Create Car object\n",
    "c1 = Car(\"Tata\", \"Nexon\")\n",
    "\n",
    "c1.vehicle_type()   \n",
    "c1.car_info()\n"
   ]
  },
  {
   "cell_type": "code",
   "execution_count": null,
   "id": "f790e941-216f-4fa7-9642-e4afe57c2b67",
   "metadata": {},
   "outputs": [],
   "source": []
  }
 ],
 "metadata": {
  "kernelspec": {
   "display_name": "Python 3 (ipykernel)",
   "language": "python",
   "name": "python3"
  },
  "language_info": {
   "codemirror_mode": {
    "name": "ipython",
    "version": 3
   },
   "file_extension": ".py",
   "mimetype": "text/x-python",
   "name": "python",
   "nbconvert_exporter": "python",
   "pygments_lexer": "ipython3",
   "version": "3.10.12"
  }
 },
 "nbformat": 4,
 "nbformat_minor": 5
}
