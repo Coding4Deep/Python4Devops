{
 "cells": [
  {
   "cell_type": "markdown",
   "id": "867b49a3-1e64-4b53-831b-c2e168566576",
   "metadata": {},
   "source": [
    "### **1. Lists (10 Questions)**\n",
    "\n",
    "1. Create a list of numbers from 1 to 10.\n",
    "2. Append `15` to the end of a list.\n",
    "3. Insert `5` at index 2 of a list.\n",
    "4. Remove the element `7` from a list.\n",
    "5. Pop the last element of a list.\n",
    "6. Find the index of number `8` in a list.\n",
    "7. Slice a list to get elements from index 2 to 5.\n",
    "8. Reverse a list without using the `reverse()` method.\n",
    "9. Sort a list in descending order.\n",
    "10. Sum all elements in a list using a loop."
   ]
  },
  {
   "cell_type": "code",
   "execution_count": 55,
   "id": "7d4811d3-f2f7-4822-999b-74378d52db39",
   "metadata": {},
   "outputs": [
    {
     "name": "stdout",
     "output_type": "stream",
     "text": [
      "[1, 2, 3, 4, 5, 6, 7, 8, 9]\n",
      "[1, 2, 3, 4, 5, 6, 7, 8, 9, 15]\n",
      "#############################\n",
      "['item', 1, 2, 3, 4, 5, 6, 7, 8, 9, 15]\n",
      "#############################\n",
      "['item', 1, 3, 4, 5, 6, 7, 8, 9, 15]\n",
      "#############################\n",
      "item\n",
      "[1, 3, 4, 5, 6, 7, 8, 9, 15]\n",
      "#############################\n",
      "#############################\n",
      "[1, 3, 4, 5, 6, 7, 8, 9, 15, 12, 12, 333, 12, 33, 1, 12, 23]\n",
      "[7, 8, 9]\n",
      "[23, 12, 1, 33, 12, 333, 12, 12, 15, 9, 8, 7, 6, 5, 4, 3, 1]\n",
      "#################################\n",
      "None\n",
      "[333, 33, 23, 15, 12, 12, 12, 12, 9, 8, 7, 6, 5, 4, 3, 1, 1]\n",
      "sum of all item in a list\n",
      "496\n"
     ]
    }
   ],
   "source": [
    "mylist: list = [ item for item in range(1,10)]\n",
    "print(mylist)\n",
    "newlist = mylist.append(15)\n",
    "print(mylist)\n",
    "print(\"#############################\")\n",
    "mylist.insert(0,\"item\")\n",
    "print(mylist)\n",
    "print(\"#############################\")\n",
    "mylist.remove(2)\n",
    "print(mylist)\n",
    "print(\"#############################\")\n",
    "print(mylist.pop(0))\n",
    "print(mylist)\n",
    "print(\"#############################\")\n",
    "newlist=[12,12,333,12,33,1,12,23]\n",
    "# mylist.insert(0,newlist)\n",
    "# print(mylist)\n",
    "print(\"#############################\")\n",
    "mylist+=newlist\n",
    "print(mylist)\n",
    "\n",
    "slice_list=mylist[5:8]\n",
    "print(slice_list)\n",
    "\n",
    "# reverse_list=mylist.reverse()\n",
    "# print(\"########################\")\n",
    "# print(reverse_list)\n",
    "# print(mylist)\n",
    "\n",
    "rev_list=mylist[::-1]\n",
    "print(rev_list)\n",
    "\n",
    "sort_list=mylist.sort(reverse=True)\n",
    "print(\"#################################\")\n",
    "print(sort_list)\n",
    "print(mylist)\n",
    "\n",
    "\n",
    "sum=0\n",
    "print(\"sum of all item in a list\")\n",
    "for item in mylist:\n",
    "    sum+=item\n",
    "print(sum)"
   ]
  },
  {
   "cell_type": "markdown",
   "id": "39251cbb-bb55-4f4e-8dce-6a40e61fe4ea",
   "metadata": {},
   "source": [
    "\n",
    "### **2. Tuples (5 Questions)**\n",
    "\n",
    "11. Create a tuple with 5 elements.\n",
    "12. Access the 3rd element of a tuple.\n",
    "13. Try changing the 2nd element of a tuple (observe what happens).\n",
    "14. Unpack a tuple into variables.\n",
    "15. Concatenate two tuples.\n",
    "\n",
    "### **3. Sets (5 Questions)**\n",
    "\n",
    "16. Create a set with numbers from 1 to 5.\n",
    "17. Add a new element to a set.\n",
    "18. Remove an element from a set.\n",
    "19. Find the union of two sets.\n",
    "20. Find the intersection of two sets."
   ]
  },
  {
   "cell_type": "code",
   "execution_count": 69,
   "id": "d1e4d253-f6f1-412c-aab8-97c5d6a9298a",
   "metadata": {},
   "outputs": [
    {
     "name": "stdout",
     "output_type": "stream",
     "text": [
      "4\n",
      "(1, 2, 3, 4, 5, 6, 7, 8, 9, 10, 1, 2, 3, 5, 1, 3, 5, 1, 3, 5, 6, 122, 12, 121, 12324, 4545, 234)\n",
      "{1, 2, 3, 4, 5, 6, 7, 8, 9, 10, 12324, 12, 234, 4545, 121, 122}\n",
      "{1, 2, 3, 4, 5, 321, 323, 12, 111, 19, 22, 55}\n"
     ]
    }
   ],
   "source": [
    "tup1=(1,2,3,4,5,6,7,8,9,10,1,2,3,5)\n",
    "tup2=(1,3,5,1,3,5,6,122,12,121,12324,4545,234)\n",
    "print(tup1[3])\n",
    "# tup[3]=100\n",
    "# print(tup)\n",
    "new_tuple=tup1+tup2\n",
    "print(new_tuple)\n",
    "new_set=set(tup1+tup2)\n",
    "print(new_set)\n",
    "\n",
    "\n",
    "set1=set((1,1,2,2,3,4,5,55,12,321,2,111,22,4,323,19))\n",
    "print(set1)"
   ]
  },
  {
   "cell_type": "markdown",
   "id": "872419e0-db43-4f34-a5f5-435149985980",
   "metadata": {},
   "source": [
    "### **4. Dictionaries (10 Questions)**\n",
    "\n",
    "21. Create a dictionary with 3 key-value pairs.\n",
    "22. Access a value using its key.\n",
    "23. Update a value in a dictionary.\n",
    "24. Add a new key-value pair.\n",
    "25. Delete a key-value pair.\n",
    "26. Loop through keys of a dictionary.\n",
    "27. Loop through values of a dictionary.\n",
    "28. Loop through both keys and values using `.items()`.\n",
    "29. Check if a key exists in a dictionary.\n",
    "30. Merge two dictionaries."
   ]
  },
  {
   "cell_type": "code",
   "execution_count": 99,
   "id": "0c3dbb71-1852-4614-a588-fb183c54cbd7",
   "metadata": {},
   "outputs": [
    {
     "name": "stdout",
     "output_type": "stream",
     "text": [
      "{'name': 'deepak', 'roll_no': 18, 'grade': 'A'}\n",
      "########################\n",
      "deepak\n",
      "18\n",
      "A\n",
      "##################################\n",
      "name: deepak\n",
      "roll_no: 18\n",
      "grade: A\n",
      "##################################\n",
      "name\n",
      "roll_no\n",
      "grade\n",
      "##################################\n",
      "{'name': 'deepak', 'roll_no': 18, 'grade': 'A', 'age': 25}\n",
      "#################################################\n",
      "{'name': 'deepak', 'roll_no': 18, 'grade': 'A', 'age': 25, 'city': 'moradabad', 'pin': 244001}\n",
      "<class 'dict'>\n",
      "#################################################\n",
      "{\n",
      "    \"name\": \"deepak\",\n",
      "    \"roll_no\": 18,\n",
      "    \"grade\": \"A\",\n",
      "    \"age\": 25,\n",
      "    \"city\": \"moradabad\",\n",
      "    \"pin\": 244001\n",
      "}\n",
      "<class 'str'>\n",
      "{'name': 'deepak', 'roll_no': 18, 'grade': 'A', 'age': 25, 'pin': 244001}\n",
      "{'name': 'deepak', 'roll_no': 18, 'grade': 'A'}\n"
     ]
    }
   ],
   "source": [
    "import json\n",
    "d= {\n",
    "   \"name\": \"deepak\",\n",
    "   \"roll_no\": 18,\n",
    "   \"grade\": \"A\"\n",
    "}\n",
    "print(d)\n",
    "print(\"########################\")\n",
    "\n",
    "for v in d.values():\n",
    "    print(v)\n",
    "print(\"##################################\")\n",
    "for k,v in d.items():\n",
    "    print(f\"{k}: {v}\")\n",
    "print(\"##################################\")\n",
    "for keys in d.keys():\n",
    "    print(keys)\n",
    "print(\"##################################\")\n",
    "\n",
    "d[\"age\"]=25\n",
    "print(d)\n",
    "\n",
    "d.update(\n",
    "    {\n",
    "        \"city\": \"moradabad\",\n",
    "        \"pin\":  244001\n",
    "    }\n",
    ")\n",
    "print(\"#################################################\")\n",
    "print(d)\n",
    "print(type(d))\n",
    "print(\"#################################################\")\n",
    "json_data=json.dumps(d,indent=4)\n",
    "print(json_data)\n",
    "print(type(json_data))\n",
    "\n",
    "del d[\"city\"]\n",
    "print(d)\n",
    "d.popitem()\n",
    "d.pop(\"age\")\n",
    "print(d)\n"
   ]
  },
  {
   "cell_type": "markdown",
   "id": "0a997693-bb9d-408c-9ce9-6bfe0452b523",
   "metadata": {},
   "source": [
    "### **5. `zip` and `enumerate` (5 Questions)**\n",
    "\n",
    "31. Use `zip()` to combine two lists into pairs.\n",
    "32. Convert zipped pairs into a dictionary.\n",
    "33. Use `enumerate()` to get index and value while looping over a list.\n",
    "34. Start enumeration from 1 instead of 0.\n",
    "35. Unzip a zipped object back into two lists."
   ]
  },
  {
   "cell_type": "code",
   "execution_count": 123,
   "id": "0548cc6b-84b0-4f3f-a1df-ce08194d8318",
   "metadata": {},
   "outputs": [
    {
     "name": "stdout",
     "output_type": "stream",
     "text": [
      "<class 'zip'>\n",
      "name: deepak\n",
      "city: mbd\n",
      "age: 25\n",
      "1: name\n",
      "2: city\n",
      "3: age\n",
      "[]\n"
     ]
    }
   ],
   "source": [
    "list1=[\"name\",\"city\",\"age\"] \n",
    "list2=[\"deepak\",\"mbd\",25,\"A\"]\n",
    "var=zip(list1,list2) \n",
    "print(type(var)) \n",
    "for k,v in var: \n",
    "    print (f\"{k}: {v}\")\n",
    "\n",
    "for i,item in enumerate(list1,1):\n",
    "    print(f\"{i}: {item}\")\n",
    "var2 = list(zip(*var))\n",
    "print(var2)"
   ]
  },
  {
   "cell_type": "markdown",
   "id": "fb7a8962-4245-410a-9cad-c35c17f9033c",
   "metadata": {},
   "source": [
    "### **6. Loops (`for` and `while`) (10 Questions)**\n",
    "\n",
    "36. Use a `for` loop to print numbers from 1 to 10.\n",
    "37. Use a `while` loop to print numbers from 10 down to 1.\n",
    "38. Loop through a list and print only even numbers.\n",
    "39. Use a `for` loop to calculate the factorial of a number.\n",
    "40. Use `break` in a loop when a certain condition is met.\n",
    "41. Use `continue` in a loop to skip certain numbers.\n",
    "42. Loop through a dictionary and print keys with their values.\n",
    "43. Use nested `for` loops to print a 3x3 grid of stars (`*`).\n",
    "44. Use `while` loop to sum numbers until the user enters 0.\n",
    "45. Implement a `for` loop with `else` block (when does `else` execute?)."
   ]
  },
  {
   "cell_type": "code",
   "execution_count": 135,
   "id": "7ac2fea3-ff0a-4188-ac0b-87a0d9b882cc",
   "metadata": {},
   "outputs": [
    {
     "name": "stdout",
     "output_type": "stream",
     "text": [
      "[2, 4, 6, 8, 10, 12, 14, 16, 18, 20]\n",
      "########################\n",
      "     * \n",
      "    * * \n",
      "   * * * \n",
      "  * * * * \n",
      " * * * * * \n",
      "* * * * * * \n"
     ]
    }
   ],
   "source": [
    "# x=10\n",
    "# while x>0:\n",
    "#     print(x)\n",
    "#     x-=1\n",
    "list=[1,2,3,4,5,6,7,8,9,10,11,13,15,117,12,14,16,18,20]\n",
    "\n",
    "even_list=[ item for item in list if item%2==0 ]\n",
    "print(even_list)\n",
    "print(\"########################\")\n",
    "\n",
    "n = 6\n",
    "for i in range(n):\n",
    "    print(\" \" * (n - i - 1) + \"* \" * (i + 1))\n",
    "\n"
   ]
  },
  {
   "cell_type": "markdown",
   "id": "b65ebda7-0d9b-4285-977a-647f068b01da",
   "metadata": {},
   "source": [
    "### **7. Conditionals (`if`, `elif`, `else`) (5 Questions)**\n",
    "\n",
    "46. Write an `if` statement to check if a number is positive.\n",
    "47. Write an `if-elif-else` to categorize numbers as negative, zero, or positive.\n",
    "48. Check if a string contains a certain substring.\n",
    "49. Check if a number is divisible by 3 and 5.\n",
    "50. Use a conditional expression (ternary operator) to assign a value.\n"
   ]
  },
  {
   "cell_type": "markdown",
   "id": "2d35b5ea-da6d-41c4-a6c4-d8bcf77861b9",
   "metadata": {},
   "source": [
    "\n",
    "### **8. Combined/Scenario-Based Questions (5 Questions)**\n",
    "\n",
    "51. Remove duplicates from a list while maintaining order.\n",
    "52. Count the frequency of each element in a list using a dictionary.\n",
    "53. Merge two lists into a dictionary (key → list1, value → list2).\n",
    "54. Find common elements between two lists using sets.\n",
    "55. Loop through a dictionary and print only keys with even values."
   ]
  },
  {
   "cell_type": "code",
   "execution_count": 151,
   "id": "fbdaf82a-09e3-4a08-87ff-171e46074b6d",
   "metadata": {},
   "outputs": [],
   "source": [
    "# list = [1,1,2,23,2,33,2,5,99,5,6,67,12,22,33,4,5]\n",
    "# s = sorted(set(list))\n",
    "# print(s)\n",
    "# print(type(s))\n",
    "# print(list)\n",
    "\n",
    "# list = [1,1,2,23,2,33,2,5,99,5,6,67,12,22,33,4,5]\n",
    "# for item  in set(list):\n",
    "#     print(f\"{item}: {list.count(item)}\")\n",
    "\n",
    "\n",
    "# list1 = [\"name\", \"age\", \"city\"]\n",
    "# list2 = [\"Deepak\", 25, \"Moradabad\"]\n",
    "\n",
    "# merged_dict = dict(zip(list1, list2))\n",
    "# print(merged_dict)\n"
   ]
  },
  {
   "cell_type": "code",
   "execution_count": null,
   "id": "ca24de94-1ef8-4983-8a82-c53b2f70f43e",
   "metadata": {},
   "outputs": [],
   "source": []
  }
 ],
 "metadata": {
  "kernelspec": {
   "display_name": "Python 3 (ipykernel)",
   "language": "python",
   "name": "python3"
  },
  "language_info": {
   "codemirror_mode": {
    "name": "ipython",
    "version": 3
   },
   "file_extension": ".py",
   "mimetype": "text/x-python",
   "name": "python",
   "nbconvert_exporter": "python",
   "pygments_lexer": "ipython3",
   "version": "3.10.12"
  }
 },
 "nbformat": 4,
 "nbformat_minor": 5
}
